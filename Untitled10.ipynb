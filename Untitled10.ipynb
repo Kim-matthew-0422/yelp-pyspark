{
  "nbformat": 4,
  "nbformat_minor": 0,
  "metadata": {
    "colab": {
      "provenance": [],
      "authorship_tag": "ABX9TyMDBBwTEw6TpYEv689matjQ",
      "include_colab_link": true
    },
    "kernelspec": {
      "name": "python3",
      "display_name": "Python 3"
    },
    "language_info": {
      "name": "python"
    },
    "accelerator": "GPU",
    "gpuClass": "standard"
  },
  "cells": [
    {
      "cell_type": "markdown",
      "metadata": {
        "id": "view-in-github",
        "colab_type": "text"
      },
      "source": [
        "<a href=\"https://colab.research.google.com/github/Kim-matthew-0422/yelp-pyspark/blob/main/Untitled10.ipynb\" target=\"_parent\"><img src=\"https://colab.research.google.com/assets/colab-badge.svg\" alt=\"Open In Colab\"/></a>"
      ]
    },
    {
      "cell_type": "code",
      "execution_count": 1,
      "metadata": {
        "colab": {
          "base_uri": "https://localhost:8080/"
        },
        "id": "8hH09xOFgiW2",
        "outputId": "a820a32b-e81c-4275-d432-fdbed8356d5d"
      },
      "outputs": [
        {
          "output_type": "stream",
          "name": "stdout",
          "text": [
            "GPU 0: Tesla T4 (UUID: GPU-49303ca3-5922-7765-3fea-e95f17ba0c58)\n"
          ]
        }
      ],
      "source": [
        "!nvidia-smi -L"
      ]
    },
    {
      "cell_type": "code",
      "source": [
        "from google.colab import files\n",
        "files.upload()"
      ],
      "metadata": {
        "colab": {
          "base_uri": "https://localhost:8080/",
          "height": 90
        },
        "id": "sn1YeNtCk_qt",
        "outputId": "9ab4e865-5127-461c-cff6-194f1e6634d6"
      },
      "execution_count": 2,
      "outputs": [
        {
          "output_type": "display_data",
          "data": {
            "text/plain": [
              "<IPython.core.display.HTML object>"
            ],
            "text/html": [
              "\n",
              "     <input type=\"file\" id=\"files-4ae6dd96-58ff-425e-b04c-69981f3a7fe2\" name=\"files[]\" multiple disabled\n",
              "        style=\"border:none\" />\n",
              "     <output id=\"result-4ae6dd96-58ff-425e-b04c-69981f3a7fe2\">\n",
              "      Upload widget is only available when the cell has been executed in the\n",
              "      current browser session. Please rerun this cell to enable.\n",
              "      </output>\n",
              "      <script>// Copyright 2017 Google LLC\n",
              "//\n",
              "// Licensed under the Apache License, Version 2.0 (the \"License\");\n",
              "// you may not use this file except in compliance with the License.\n",
              "// You may obtain a copy of the License at\n",
              "//\n",
              "//      http://www.apache.org/licenses/LICENSE-2.0\n",
              "//\n",
              "// Unless required by applicable law or agreed to in writing, software\n",
              "// distributed under the License is distributed on an \"AS IS\" BASIS,\n",
              "// WITHOUT WARRANTIES OR CONDITIONS OF ANY KIND, either express or implied.\n",
              "// See the License for the specific language governing permissions and\n",
              "// limitations under the License.\n",
              "\n",
              "/**\n",
              " * @fileoverview Helpers for google.colab Python module.\n",
              " */\n",
              "(function(scope) {\n",
              "function span(text, styleAttributes = {}) {\n",
              "  const element = document.createElement('span');\n",
              "  element.textContent = text;\n",
              "  for (const key of Object.keys(styleAttributes)) {\n",
              "    element.style[key] = styleAttributes[key];\n",
              "  }\n",
              "  return element;\n",
              "}\n",
              "\n",
              "// Max number of bytes which will be uploaded at a time.\n",
              "const MAX_PAYLOAD_SIZE = 100 * 1024;\n",
              "\n",
              "function _uploadFiles(inputId, outputId) {\n",
              "  const steps = uploadFilesStep(inputId, outputId);\n",
              "  const outputElement = document.getElementById(outputId);\n",
              "  // Cache steps on the outputElement to make it available for the next call\n",
              "  // to uploadFilesContinue from Python.\n",
              "  outputElement.steps = steps;\n",
              "\n",
              "  return _uploadFilesContinue(outputId);\n",
              "}\n",
              "\n",
              "// This is roughly an async generator (not supported in the browser yet),\n",
              "// where there are multiple asynchronous steps and the Python side is going\n",
              "// to poll for completion of each step.\n",
              "// This uses a Promise to block the python side on completion of each step,\n",
              "// then passes the result of the previous step as the input to the next step.\n",
              "function _uploadFilesContinue(outputId) {\n",
              "  const outputElement = document.getElementById(outputId);\n",
              "  const steps = outputElement.steps;\n",
              "\n",
              "  const next = steps.next(outputElement.lastPromiseValue);\n",
              "  return Promise.resolve(next.value.promise).then((value) => {\n",
              "    // Cache the last promise value to make it available to the next\n",
              "    // step of the generator.\n",
              "    outputElement.lastPromiseValue = value;\n",
              "    return next.value.response;\n",
              "  });\n",
              "}\n",
              "\n",
              "/**\n",
              " * Generator function which is called between each async step of the upload\n",
              " * process.\n",
              " * @param {string} inputId Element ID of the input file picker element.\n",
              " * @param {string} outputId Element ID of the output display.\n",
              " * @return {!Iterable<!Object>} Iterable of next steps.\n",
              " */\n",
              "function* uploadFilesStep(inputId, outputId) {\n",
              "  const inputElement = document.getElementById(inputId);\n",
              "  inputElement.disabled = false;\n",
              "\n",
              "  const outputElement = document.getElementById(outputId);\n",
              "  outputElement.innerHTML = '';\n",
              "\n",
              "  const pickedPromise = new Promise((resolve) => {\n",
              "    inputElement.addEventListener('change', (e) => {\n",
              "      resolve(e.target.files);\n",
              "    });\n",
              "  });\n",
              "\n",
              "  const cancel = document.createElement('button');\n",
              "  inputElement.parentElement.appendChild(cancel);\n",
              "  cancel.textContent = 'Cancel upload';\n",
              "  const cancelPromise = new Promise((resolve) => {\n",
              "    cancel.onclick = () => {\n",
              "      resolve(null);\n",
              "    };\n",
              "  });\n",
              "\n",
              "  // Wait for the user to pick the files.\n",
              "  const files = yield {\n",
              "    promise: Promise.race([pickedPromise, cancelPromise]),\n",
              "    response: {\n",
              "      action: 'starting',\n",
              "    }\n",
              "  };\n",
              "\n",
              "  cancel.remove();\n",
              "\n",
              "  // Disable the input element since further picks are not allowed.\n",
              "  inputElement.disabled = true;\n",
              "\n",
              "  if (!files) {\n",
              "    return {\n",
              "      response: {\n",
              "        action: 'complete',\n",
              "      }\n",
              "    };\n",
              "  }\n",
              "\n",
              "  for (const file of files) {\n",
              "    const li = document.createElement('li');\n",
              "    li.append(span(file.name, {fontWeight: 'bold'}));\n",
              "    li.append(span(\n",
              "        `(${file.type || 'n/a'}) - ${file.size} bytes, ` +\n",
              "        `last modified: ${\n",
              "            file.lastModifiedDate ? file.lastModifiedDate.toLocaleDateString() :\n",
              "                                    'n/a'} - `));\n",
              "    const percent = span('0% done');\n",
              "    li.appendChild(percent);\n",
              "\n",
              "    outputElement.appendChild(li);\n",
              "\n",
              "    const fileDataPromise = new Promise((resolve) => {\n",
              "      const reader = new FileReader();\n",
              "      reader.onload = (e) => {\n",
              "        resolve(e.target.result);\n",
              "      };\n",
              "      reader.readAsArrayBuffer(file);\n",
              "    });\n",
              "    // Wait for the data to be ready.\n",
              "    let fileData = yield {\n",
              "      promise: fileDataPromise,\n",
              "      response: {\n",
              "        action: 'continue',\n",
              "      }\n",
              "    };\n",
              "\n",
              "    // Use a chunked sending to avoid message size limits. See b/62115660.\n",
              "    let position = 0;\n",
              "    do {\n",
              "      const length = Math.min(fileData.byteLength - position, MAX_PAYLOAD_SIZE);\n",
              "      const chunk = new Uint8Array(fileData, position, length);\n",
              "      position += length;\n",
              "\n",
              "      const base64 = btoa(String.fromCharCode.apply(null, chunk));\n",
              "      yield {\n",
              "        response: {\n",
              "          action: 'append',\n",
              "          file: file.name,\n",
              "          data: base64,\n",
              "        },\n",
              "      };\n",
              "\n",
              "      let percentDone = fileData.byteLength === 0 ?\n",
              "          100 :\n",
              "          Math.round((position / fileData.byteLength) * 100);\n",
              "      percent.textContent = `${percentDone}% done`;\n",
              "\n",
              "    } while (position < fileData.byteLength);\n",
              "  }\n",
              "\n",
              "  // All done.\n",
              "  yield {\n",
              "    response: {\n",
              "      action: 'complete',\n",
              "    }\n",
              "  };\n",
              "}\n",
              "\n",
              "scope.google = scope.google || {};\n",
              "scope.google.colab = scope.google.colab || {};\n",
              "scope.google.colab._files = {\n",
              "  _uploadFiles,\n",
              "  _uploadFilesContinue,\n",
              "};\n",
              "})(self);\n",
              "</script> "
            ]
          },
          "metadata": {}
        },
        {
          "output_type": "stream",
          "name": "stdout",
          "text": [
            "Saving kaggle.json to kaggle.json\n"
          ]
        },
        {
          "output_type": "execute_result",
          "data": {
            "text/plain": [
              "{'kaggle.json': b'{\"username\":\"etkim422\",\"key\":\"80ab2ded6fd7d42e4f1a1492a557fa36\"}'}"
            ]
          },
          "metadata": {},
          "execution_count": 2
        }
      ]
    },
    {
      "cell_type": "code",
      "source": [
        "!mkdir ~/.kaggle\n",
        "!cp kaggle.json ~/.kaggle/"
      ],
      "metadata": {
        "id": "2LV4q9zuk_mY"
      },
      "execution_count": 3,
      "outputs": []
    },
    {
      "cell_type": "code",
      "source": [
        "!kaggle datasets download -d yelp-dataset/yelp-dataset"
      ],
      "metadata": {
        "colab": {
          "base_uri": "https://localhost:8080/"
        },
        "id": "vqFlWeQOk_lA",
        "outputId": "b3f513cc-155f-45d8-9e33-cd8bb249aa20"
      },
      "execution_count": 4,
      "outputs": [
        {
          "output_type": "stream",
          "name": "stdout",
          "text": [
            "Warning: Your Kaggle API key is readable by other users on this system! To fix this, you can run 'chmod 600 /root/.kaggle/kaggle.json'\n",
            "Downloading yelp-dataset.zip to /content\n",
            "100% 4.06G/4.07G [00:26<00:00, 209MB/s]\n",
            "100% 4.07G/4.07G [00:26<00:00, 168MB/s]\n"
          ]
        }
      ]
    },
    {
      "cell_type": "code",
      "source": [
        "!wget https://raw.githubusercontent.com/mrdbourke/tensorflow-deep-learning/main/extras/helper_functions.py\n",
        "from helper_functions import create_tensorboard_callback, plot_loss_curves, unzip_data, compare_historys, walk_through_dir"
      ],
      "metadata": {
        "colab": {
          "base_uri": "https://localhost:8080/"
        },
        "id": "7-Rbwoxkk_kB",
        "outputId": "5eea164e-23ec-4e64-a78c-36ceb8be7d75"
      },
      "execution_count": 5,
      "outputs": [
        {
          "output_type": "stream",
          "name": "stdout",
          "text": [
            "--2023-03-27 08:54:07--  https://raw.githubusercontent.com/mrdbourke/tensorflow-deep-learning/main/extras/helper_functions.py\n",
            "Resolving raw.githubusercontent.com (raw.githubusercontent.com)... 185.199.108.133, 185.199.109.133, 185.199.110.133, ...\n",
            "Connecting to raw.githubusercontent.com (raw.githubusercontent.com)|185.199.108.133|:443... connected.\n",
            "HTTP request sent, awaiting response... 200 OK\n",
            "Length: 10246 (10K) [text/plain]\n",
            "Saving to: ‘helper_functions.py’\n",
            "\n",
            "\rhelper_functions.py   0%[                    ]       0  --.-KB/s               \rhelper_functions.py 100%[===================>]  10.01K  --.-KB/s    in 0s      \n",
            "\n",
            "2023-03-27 08:54:08 (91.6 MB/s) - ‘helper_functions.py’ saved [10246/10246]\n",
            "\n"
          ]
        }
      ]
    },
    {
      "cell_type": "markdown",
      "source": [],
      "metadata": {
        "id": "I_8p4o9Zm8x6"
      }
    },
    {
      "cell_type": "code",
      "source": [
        "!ls"
      ],
      "metadata": {
        "colab": {
          "base_uri": "https://localhost:8080/"
        },
        "id": "zss7csohk_in",
        "outputId": "ef946120-7bca-4c4a-cf73-1c22fd423b6a"
      },
      "execution_count": 6,
      "outputs": [
        {
          "output_type": "stream",
          "name": "stdout",
          "text": [
            "helper_functions.py  kaggle.json  __pycache__  sample_data  yelp-dataset.zip\n"
          ]
        }
      ]
    },
    {
      "cell_type": "code",
      "source": [
        "unzip_data('yelp-dataset.zip')"
      ],
      "metadata": {
        "id": "-E40LpuSk_hg"
      },
      "execution_count": 7,
      "outputs": []
    },
    {
      "cell_type": "code",
      "source": [
        "!ls"
      ],
      "metadata": {
        "colab": {
          "base_uri": "https://localhost:8080/"
        },
        "id": "k2V90rCOk_gX",
        "outputId": "3077d5f3-0b44-4bed-dfe3-903030e7d6c4"
      },
      "execution_count": null,
      "outputs": [
        {
          "output_type": "stream",
          "name": "stdout",
          "text": [
            "Dataset_User_Agreement.pdf\t     yelp_academic_dataset_checkin.json\n",
            "helper_functions.py\t\t     yelp_academic_dataset_review.json\n",
            "kaggle.json\t\t\t     yelp_academic_dataset_tip.json\n",
            "__pycache__\t\t\t     yelp_academic_dataset_user.json\n",
            "sample_data\t\t\t     yelp-dataset.zip\n",
            "yelp_academic_dataset_business.json\n"
          ]
        }
      ]
    },
    {
      "cell_type": "code",
      "source": [
        "!apt-get install openjdk-8-jdk-headless -qq > /dev/null\n"
      ],
      "metadata": {
        "id": "_Q0xW08Fk_eo"
      },
      "execution_count": 8,
      "outputs": []
    },
    {
      "cell_type": "code",
      "source": [
        "import os\n",
        "os.environ[\"JAVA_HOME\"] = \"/usr/lib/jvm/java-8-openjdk-amd64\"\n",
        "os.environ[\"SPARK_HOME\"] = \"/content/spark-3.3.2-bin-hadoop3\"\n"
      ],
      "metadata": {
        "id": "DEO2kNZZk_dT"
      },
      "execution_count": 9,
      "outputs": []
    },
    {
      "cell_type": "code",
      "source": [
        "!pip install pyspark"
      ],
      "metadata": {
        "colab": {
          "base_uri": "https://localhost:8080/"
        },
        "id": "eXhsqbouk_b3",
        "outputId": "888b0916-747c-4c82-f223-3143b01b149a"
      },
      "execution_count": 10,
      "outputs": [
        {
          "output_type": "stream",
          "name": "stdout",
          "text": [
            "Looking in indexes: https://pypi.org/simple, https://us-python.pkg.dev/colab-wheels/public/simple/\n",
            "Collecting pyspark\n",
            "  Downloading pyspark-3.3.2.tar.gz (281.4 MB)\n",
            "\u001b[2K     \u001b[90m━━━━━━━━━━━━━━━━━━━━━━━━━━━━━━━━━━━━━━━\u001b[0m \u001b[32m281.4/281.4 MB\u001b[0m \u001b[31m5.6 MB/s\u001b[0m eta \u001b[36m0:00:00\u001b[0m\n",
            "\u001b[?25h  Preparing metadata (setup.py) ... \u001b[?25l\u001b[?25hdone\n",
            "Collecting py4j==0.10.9.5\n",
            "  Downloading py4j-0.10.9.5-py2.py3-none-any.whl (199 kB)\n",
            "\u001b[2K     \u001b[90m━━━━━━━━━━━━━━━━━━━━━━━━━━━━━━━━━━━━━━\u001b[0m \u001b[32m199.7/199.7 KB\u001b[0m \u001b[31m24.8 MB/s\u001b[0m eta \u001b[36m0:00:00\u001b[0m\n",
            "\u001b[?25hBuilding wheels for collected packages: pyspark\n",
            "  Building wheel for pyspark (setup.py) ... \u001b[?25l\u001b[?25hdone\n",
            "  Created wheel for pyspark: filename=pyspark-3.3.2-py2.py3-none-any.whl size=281824028 sha256=de5e57252e11aab2ff6eb53922da7e9f8b821bd19b15c56add161c837433487a\n",
            "  Stored in directory: /root/.cache/pip/wheels/6c/e3/9b/0525ce8a69478916513509d43693511463c6468db0de237c86\n",
            "Successfully built pyspark\n",
            "Installing collected packages: py4j, pyspark\n",
            "  Attempting uninstall: py4j\n",
            "    Found existing installation: py4j 0.10.9.7\n",
            "    Uninstalling py4j-0.10.9.7:\n",
            "      Successfully uninstalled py4j-0.10.9.7\n",
            "Successfully installed py4j-0.10.9.5 pyspark-3.3.2\n"
          ]
        }
      ]
    },
    {
      "cell_type": "code",
      "source": [
        "import pyspark\n",
        "import pandas as pd\n",
        "import numpy as np\n",
        "import matplotlib.pyplot as plt\n",
        "from pyspark.sql import SparkSession"
      ],
      "metadata": {
        "id": "Ncb3vFf0k_a1"
      },
      "execution_count": 11,
      "outputs": []
    },
    {
      "cell_type": "code",
      "source": [
        "!wget -q https://dlcdn.apache.org/spark/spark-3.3.2/spark-3.3.2-bin-hadoop3.tgz\n"
      ],
      "metadata": {
        "id": "-iKY_cJWk_Zm"
      },
      "execution_count": 12,
      "outputs": []
    },
    {
      "cell_type": "code",
      "source": [
        "!tar xf spark-3.3.2-bin-hadoop3.tgz\n"
      ],
      "metadata": {
        "id": "7W9kzq8Zk_Wk"
      },
      "execution_count": 13,
      "outputs": []
    },
    {
      "cell_type": "code",
      "source": [
        "spark = SparkSession.builder\\\n",
        "        .master(\"local[*]\")\\\n",
        "        .appName(\"Test Setup\")\\\n",
        "        .getOrCreate()"
      ],
      "metadata": {
        "id": "nZ4pqcXhk_T0"
      },
      "execution_count": 14,
      "outputs": []
    },
    {
      "cell_type": "code",
      "source": [
        "!ls"
      ],
      "metadata": {
        "colab": {
          "base_uri": "https://localhost:8080/"
        },
        "id": "KDGxy5cVk_RT",
        "outputId": "c9277120-94a6-4d0d-a1a5-05959a300913"
      },
      "execution_count": null,
      "outputs": [
        {
          "output_type": "stream",
          "name": "stdout",
          "text": [
            "Dataset_User_Agreement.pdf   yelp_academic_dataset_business.json\n",
            "helper_functions.py\t     yelp_academic_dataset_checkin.json\n",
            "kaggle.json\t\t     yelp_academic_dataset_review.json\n",
            "__pycache__\t\t     yelp_academic_dataset_tip.json\n",
            "sample_data\t\t     yelp_academic_dataset_user.json\n",
            "spark-3.3.2-bin-hadoop3      yelp-dataset.zip\n",
            "spark-3.3.2-bin-hadoop3.tgz\n"
          ]
        }
      ]
    },
    {
      "cell_type": "code",
      "source": [
        "review = spark.read.json('yelp_academic_dataset_review.json')"
      ],
      "metadata": {
        "id": "xCKy3GBEk_O2"
      },
      "execution_count": 15,
      "outputs": []
    },
    {
      "cell_type": "code",
      "source": [
        "user = spark.read.json('yelp_academic_dataset_user.json')\n",
        "tip = spark.read.json('yelp_academic_dataset_tip.json')\n",
        "checkin = spark.read.json('yelp_academic_dataset_checkin.json')\n",
        "business = spark.read.json('yelp_academic_dataset_business.json')"
      ],
      "metadata": {
        "id": "PS0-G9Rfk_MM"
      },
      "execution_count": 16,
      "outputs": []
    },
    {
      "cell_type": "code",
      "source": [
        "user.show()"
      ],
      "metadata": {
        "colab": {
          "base_uri": "https://localhost:8080/"
        },
        "id": "inTlBnf0jrH7",
        "outputId": "339345d1-0aad-4a13-a541-c38198add68b"
      },
      "execution_count": null,
      "outputs": [
        {
          "output_type": "stream",
          "name": "stdout",
          "text": [
            "+-------------+---------------+---------------+----------------+--------------+---------------+---------------+---------------+-----------------+----------------+------------------+-----------------+-----+--------------------+----+--------------------+-----+---------+------------+------+--------------------+-------------------+\n",
            "|average_stars|compliment_cool|compliment_cute|compliment_funny|compliment_hot|compliment_list|compliment_more|compliment_note|compliment_photos|compliment_plain|compliment_profile|compliment_writer| cool|               elite|fans|             friends|funny|     name|review_count|useful|             user_id|      yelping_since|\n",
            "+-------------+---------------+---------------+----------------+--------------+---------------+---------------+---------------+-----------------+----------------+------------------+-----------------+-----+--------------------+----+--------------------+-----+---------+------------+------+--------------------+-------------------+\n",
            "|         3.91|            467|             56|             467|           250|             18|             65|            232|              180|             844|                55|              239| 5994|                2007| 267|NSCy54eWehBJyZdG2...| 1259|   Walker|         585|  7217|qVc8ODYU5SZjKXVBg...|2007-01-25 16:47:26|\n",
            "|         3.74|           3131|            157|            3131|          1145|            251|            264|           1847|             1946|            7054|               184|             1521|27281|2009,2010,2011,20...|3138|ueRPE0CX75ePGMqOF...|13066|   Daniel|        4333| 43091|j14WgRoU_-2ZE1aw1...|2009-01-25 04:35:42|\n",
            "|         3.32|            119|             17|             119|            89|              3|             13|             66|               18|              96|                10|               35| 1003|2009,2010,2011,20...|  52|LuO3Bn4f3rlhyHIaN...| 1010|    Steph|         665|  2086|2WnXYQFK0hXEoTxPt...|2008-07-25 10:41:00|\n",
            "|         4.27|             26|              6|              26|            24|              2|              4|             12|                9|              16|                 1|               10|  299|      2009,2010,2011|  28|enx1vVPnfdNUdPho6...|  330|     Gwen|         224|   512|SZDeASXq7o05mMNLs...|2005-11-29 04:38:33|\n",
            "|         3.54|              0|              0|               0|             1|              0|              1|              1|                0|               1|                 0|                0|    7|                    |   1|PBK4q9KEEBHhFvSXC...|   15|    Karen|          79|    29|hA5lMy-EnncsH4JoR...|2007-01-05 19:40:59|\n",
            "|         3.85|           2543|            361|            2543|          1713|            147|            163|           1212|              323|            5696|               191|              815|11211|2006,2007,2008,20...|1357|xBDpTUbai0DXrvxCe...| 9940|     Jane|        1221| 14953|q_QQ5kBBwlCcbL1s4...|2005-03-14 20:26:35|\n",
            "|         2.75|              0|              0|               0|             0|              0|              0|              0|                0|               1|                 0|                0|    0|                    |   1|HDAQ74AEznP-YsMk1...|    1|      Rob|          12|     6|cxuxXkcihfCbqt5By...|2009-02-24 03:09:06|\n",
            "|         3.73|             12|              0|              12|             4|              0|              7|              8|                0|               6|                 2|                5|  143|                    |  23|y2GyxJF5VQWohxgw_...|  102|     Mike|         358|   399|E9kcWJdJUHuTKfQur...|2008-12-11 22:11:56|\n",
            "|         4.04|              5|              3|               5|             2|              0|              0|              3|                1|               4|                 0|                3|   46|                    |   7|tOQDlz36rI__SOsbL...|   40| Rachelle|          40|   109|lO1iq-f75hnPNZkTy...|2008-12-29 22:40:56|\n",
            "|          3.4|              3|              0|               3|             0|              0|              0|              1|                0|               6|                 0|                0|   23|                    |   4|gy5fWeSv3Gamuq9Ox...|   20|     John|         109|   154|AUi8MPWJ0mLkMfwbu...|2010-01-07 18:32:04|\n",
            "|          4.0|              0|              0|               0|             0|              0|              0|              0|                0|               0|                 0|                0|    1|                    |   1|Vq4Pc81l6MWTnc-h4...|    0|    Chris|           4|     1|iYzhPPqnrjJkg1JHZ...|2010-11-03 18:59:20|\n",
            "|         3.89|             36|              3|              36|            23|              5|              9|             31|                7|              41|                 1|               24|  573| 2009,2010,2011,2012|  31|6tbXpUIU6upoeqWND...|  487|     Ryan|         535|  1130|xoZvMJPDW6Q9pDAXI...|2009-05-27 06:12:10|\n",
            "|         4.51|              0|              0|               0|             4|              0|              0|              1|                0|               5|                 0|                1|   27|                    |   4|zkK6c9BcDyqreU0fq...|    3| Charlene|          37|    63|vVukUtqoLF5BvH_Vt...|2011-01-29 17:18:59|\n",
            "|         3.08|              0|              0|               0|             0|              0|              0|              0|                0|               0|                 0|                0|    0|                    |   0|f0mdrhyxVZ0TsFZD5...|    3|    Kenny|          11|    30|_crIokUeTCHVK_JVO...|2009-10-07 17:23:44|\n",
            "|         4.29|              2|              0|               2|             1|              0|              0|              1|                0|               0|                 0|                0|   13|                    |   1|piejMEdRkGB7-1aL4...|    3|   Teresa|           7|    18|1McG5Rn_UDkmlkZOr...|2009-05-26 16:11:11|\n",
            "|         3.75|            221|             22|             221|           212|             34|             17|             67|               17|             158|                17|               45| 1297|2007,2008,2009,20...|  44|j3MBGSLaXMlhLZNeA...| 1138|   Eugene|         682|  1819|SgiBkhXeqIKl1PlFp...|2006-08-25 16:47:25|\n",
            "|         4.15|              2|              0|               2|             0|              0|              1|              6|                0|               2|                 0|                1|   19|                    |   1|hJiJzw6obCmbGAfwr...|    2| Jennifer|          25|    29|fJZO_skqpnhk1kvom...|2008-07-14 16:01:36|\n",
            "|         3.84|             66|              0|              66|            15|              0|              1|             12|               12|              33|                 0|                1|   29|                    |   9|EPBLDry-ObheloH-N...|   29|  Ronskee|          37|    56|x7YtLnBW2dUnrrpwa...|2010-05-06 00:40:56|\n",
            "|         4.11|            808|             29|             808|          1020|             23|             79|            144|              723|             407|                68|              587| 4149|2010,2011,2012,20...| 131|dLts9bY66tXEFqYG0...| 3714|Catherine|         607|  4573|QF1Kuhs8iwLWANNZx...|2009-04-27 20:25:54|\n",
            "|          3.6|              0|              0|               0|             1|              0|              0|              2|                0|               4|                 0|                1|   44|                    |   4|Ynu2Z2L8Wv2fbTwQ_...|   52|       AJ|         133|   201|VcLRGCG_VbAo8MxOm...|2009-07-11 16:47:38|\n",
            "+-------------+---------------+---------------+----------------+--------------+---------------+---------------+---------------+-----------------+----------------+------------------+-----------------+-----+--------------------+----+--------------------+-----+---------+------------+------+--------------------+-------------------+\n",
            "only showing top 20 rows\n",
            "\n"
          ]
        }
      ]
    },
    {
      "cell_type": "code",
      "source": [
        "review.show()"
      ],
      "metadata": {
        "colab": {
          "base_uri": "https://localhost:8080/"
        },
        "id": "a9JFCZk9k_Jo",
        "outputId": "938a7b26-d0b2-4c9e-a69c-daf0b7d8ab01"
      },
      "execution_count": null,
      "outputs": [
        {
          "output_type": "stream",
          "name": "stdout",
          "text": [
            "+--------------------+----+-------------------+-----+--------------------+-----+--------------------+------+--------------------+\n",
            "|         business_id|cool|               date|funny|           review_id|stars|                text|useful|             user_id|\n",
            "+--------------------+----+-------------------+-----+--------------------+-----+--------------------+------+--------------------+\n",
            "|XQfwVwDr-v0ZS3_Cb...|   0|2018-07-07 22:09:11|    0|KU_O5udG6zpxOg-Vc...|  3.0|If you decide to ...|     0|mh_-eMZ6K5RLWhZyI...|\n",
            "|7ATYjTIgM3jUlt4UM...|   1|2012-01-03 15:28:18|    0|BiTunyQ73aT9WBnpR...|  5.0|I've taken a lot ...|     1|OyoGAe7OKpv6SyGZT...|\n",
            "|YjUWPpI6HXG530lwP...|   0|2014-02-05 20:30:30|    0|saUsX_uimxRlCVr67...|  3.0|Family diner. Had...|     0|8g_iMtfSiwikVnbP2...|\n",
            "|kxX2SOes4o-D3ZQBk...|   1|2015-01-04 00:01:03|    0|AqPFMleE6RsU23_au...|  5.0|Wow!  Yummy, diff...|     1|_7bHUi9Uuf5__HHc_...|\n",
            "|e4Vwtrqf-wpJfwesg...|   1|2017-01-14 20:54:15|    0|Sx8TMOWLNuJBWer-0...|  4.0|Cute interior and...|     1|bcjbaE6dDog4jkNY9...|\n",
            "|04UD14gamNjLY0IDY...|   1|2015-09-23 23:10:31|    2|JrIxlS1TzJ-iCu79u...|  1.0|I am a long term ...|     1|eUta8W_HdHMXPzLBB...|\n",
            "|gmjsEdUsKpj9Xxu6p...|   0|2015-01-03 23:21:18|    2|6AxgBCNX_PNTOxmbR...|  5.0|Loved this tour! ...|     0|r3zeYsv1XFBRA4dJp...|\n",
            "|LHSTtnW3YHCeUkRDG...|   0|2015-08-07 02:29:16|    0|_ZeMknuYdlQcUqng_...|  5.0|Amazingly amazing...|     2|yfFzsLmaWF2d4Sr0U...|\n",
            "|B5XSoSG3SfvQGtKEG...|   0|2016-03-30 22:46:33|    1|ZKvDG2sBvHVdF5oBN...|  3.0|This easter inste...|     1|wSTuiTk-sKNdcFypr...|\n",
            "|gebiRewfieSdtt17P...|   0|2016-07-25 07:31:06|    0|pUycOfUwM8vqX7KjR...|  3.0|Had a party of 6 ...|     0|59MxRhNVhU9MYndMk...|\n",
            "|uMvVYRgGNXf5boolA...|   0|2015-06-21 14:48:06|    0|rGQRf8UafX7OTlMNN...|  5.0|My experience wit...|     2|1WHRWwQmZOZDAhp2Q...|\n",
            "|EQ-TZ2eeD_E0BHuvo...|   0|2015-08-19 14:31:45|    0|l3Wk_mvAog6XANIuG...|  4.0|Locals recommende...|     0|ZbqSHbgCjzVAqaa7N...|\n",
            "|lj-E32x9_FA7GmUrB...|   0|2014-06-27 22:44:01|    0|XW_LfMv0fV21l9c6x...|  4.0|Love going here f...|     0|9OAtfnWag-ajVxRbU...|\n",
            "|RZtGWDLCAtuipwaZ-...|   0|2009-10-14 19:57:14|    0|8JFGBuHMoiNDyfcxu...|  4.0|Good food--loved ...|     0|smOvOajNG0lS4Pq7d...|\n",
            "|otQS34_MymijPTdNB...|   0|2011-10-27 17:12:05|    2|UBp0zWyH60Hmw6Fsa...|  4.0|The bun makes the...|     0|4Uh27DgGzsp6PqrH9...|\n",
            "|BVndHaLihEYbr76Z0...|   0|2014-10-11 16:22:06|    0|OAhBYw8IQ6wlfw1ow...|  5.0|Great place for b...|     0|1C2lxzUo1Hyye4RFI...|\n",
            "|YtSqYv1Q_pOltsVPS...|   0|2013-06-24 11:21:25|    0|oyaMhzBSwfGgemSGu...|  5.0|Tremendous servic...|     0|Dd1jQj7S-BFGqRbAp...|\n",
            "|rBdG_23USc7DletfZ...|   0|2014-08-10 19:41:43|    0|LnGZB0fjfgeVDVz5I...|  4.0|The hubby and I h...|     1|j2wlzrntrbKwyOcOi...|\n",
            "|CLEWowfkj-wKYJlQD...|   1|2016-03-07 00:02:18|    0|u2vzZaOqJ2feRshaa...|  5.0|I go to blow bar ...|     2|NDZvyYHTUWWu-kqgQ...|\n",
            "|eFvzHawVJofxSnD7T...|   0|2014-11-12 15:30:27|    0|Xs8Z8lmKkosqW5mw_...|  5.0|My absolute favor...|     0|IQsF3Rc6IgCzjVV9D...|\n",
            "+--------------------+----+-------------------+-----+--------------------+-----+--------------------+------+--------------------+\n",
            "only showing top 20 rows\n",
            "\n"
          ]
        }
      ]
    },
    {
      "cell_type": "code",
      "source": [
        "review.count()"
      ],
      "metadata": {
        "colab": {
          "base_uri": "https://localhost:8080/"
        },
        "id": "a8Nnyb2Jk_HG",
        "outputId": "0fa13f21-9b6e-4f59-e761-de9726e9fc48"
      },
      "execution_count": null,
      "outputs": [
        {
          "output_type": "execute_result",
          "data": {
            "text/plain": [
              "6990280"
            ]
          },
          "metadata": {},
          "execution_count": 22
        }
      ]
    },
    {
      "cell_type": "code",
      "source": [
        "tip.show()"
      ],
      "metadata": {
        "colab": {
          "base_uri": "https://localhost:8080/"
        },
        "id": "V70ALjXQk_Es",
        "outputId": "1306b954-d71b-49d4-f610-efa01c53746d"
      },
      "execution_count": null,
      "outputs": [
        {
          "output_type": "stream",
          "name": "stdout",
          "text": [
            "+--------------------+----------------+-------------------+--------------------+--------------------+\n",
            "|         business_id|compliment_count|               date|                text|             user_id|\n",
            "+--------------------+----------------+-------------------+--------------------+--------------------+\n",
            "|3uLgwr0qeCNMjKenH...|               0|2012-05-18 02:17:21|Avengers time wit...|AGNUgVwnZUey3gcPC...|\n",
            "|QoezRbYQncpRqyrLH...|               0|2013-02-05 18:35:10|They have lots of...|NBN4MgHP9D3cw--Sn...|\n",
            "|MYoRNLb5chwjQe3c_...|               0|2013-08-18 00:56:08|It's open even wh...|-copOvldyKh1qr-vz...|\n",
            "|hV-bABTK-glh5wj31...|               0|2017-06-27 23:05:38|Very decent fried...|FjMQVZjSqY8syIO-5...|\n",
            "|_uN0OudeJ3Zl_tf6n...|               0|2012-10-06 19:43:09|Appetizers.. plat...|ld0AperBXk1h6Ubqm...|\n",
            "|7Rm9Ba50bw23KTA8R...|               0|2012-03-13 04:00:52|Chili Cup + Singl...|trf3Qcz8qvCDKXiTg...|\n",
            "|kH-0iXqkL7b8UXNpg...|               0|2013-12-03 23:42:15|Saturday, Dec 7th...|SMGAlRjyfuYu-c-22...|\n",
            "|jtri188kuhe_AuEOJ...|               0|2016-11-22 22:14:58|This is probably ...|YVBB9g23nuVJ0u44z...|\n",
            "|xODBZmX4EmlVvbqtK...|               0|2012-07-27 01:48:24|               Tacos|VL12EhEdT4OWqGq0n...|\n",
            "|pICJRcyqW1cF96Q3X...|               0|2012-06-09 22:57:04|Starbucks substit...|4ay-fdVks5WMerYL_...|\n",
            "|clwjLY7PdYJpe7IP9...|               0|2014-06-17 01:20:14|Order the Tortill...|OttfcRxgRrYsTg9EV...|\n",
            "|wLHodvVFLTgK3nl2X...|               0|2017-03-23 22:01:41|Very good will de...|JsXhBw6MntzTJjH_U...|\n",
            "|wUMuvdUeVZODZk7Tj...|               0|2013-02-28 02:05:54|If the Hotlight i...|Y0JfJh4B-jrtGc_AH...|\n",
            "|MDr7KLYSPkEonvGoj...|               0|2011-07-20 21:52:57|   Let's go Yankees!|MlnuJ7T14CE0JDK2Z...|\n",
            "|aK6R2akvIK9ijw3Fv...|               0|2014-06-12 17:34:20|Basically same fo...|ffWWVlmsrN5lZ6sjA...|\n",
            "|EXYbKA1tocvOK_1tX...|               0|2011-10-13 03:15:15|Don't go for dinn...|j2sEA3hiUcwHfq9Ml...|\n",
            "|H9fkf4Xkj_j7Zxs1F...|               0|2012-03-11 23:16:12|30 mins for take ...|jsaN4TDygu76AGTiB...|\n",
            "|ReX09lhufLTAx19kr...|               0|2013-06-10 20:18:41|Got the grilled c...|kjFgyrCvmVVGSlgWz...|\n",
            "|c5nLy7YgXG-IIrOmq...|               0|2016-04-23 02:44:03|This is the bomb ...|I6aRZ4sE7ixv0_2r3...|\n",
            "|LJaR65ALpz261_dlV...|               0|2012-06-02 14:39:28|Helping Mona find...|Ll5l4WTKPH7zWQWA6...|\n",
            "+--------------------+----------------+-------------------+--------------------+--------------------+\n",
            "only showing top 20 rows\n",
            "\n"
          ]
        }
      ]
    },
    {
      "cell_type": "code",
      "source": [
        "checkin.show()"
      ],
      "metadata": {
        "colab": {
          "base_uri": "https://localhost:8080/"
        },
        "id": "rTEDc2tHk_CN",
        "outputId": "75b5741e-b160-428d-9e61-ec937f3180d1"
      },
      "execution_count": null,
      "outputs": [
        {
          "output_type": "stream",
          "name": "stdout",
          "text": [
            "+--------------------+--------------------+\n",
            "|         business_id|                date|\n",
            "+--------------------+--------------------+\n",
            "|---kPU91CF4Lq2-Wl...|2020-03-13 21:10:...|\n",
            "|--0iUa4sNDFiZFrAd...|2010-09-13 21:43:...|\n",
            "|--30_8IhuyMHbSOcN...|2013-06-14 23:29:...|\n",
            "|--7PUidqRWpRSpXeb...|2011-02-15 17:12:...|\n",
            "|--7jw19RH9JKXgFoh...|2014-04-21 20:42:...|\n",
            "|--8IbOsAAxjKRoYsB...|2015-06-06 01:03:...|\n",
            "|--9osgUCSDUWUkoTL...|2015-06-13 02:00:...|\n",
            "|--ARBQr1WMsTWiwOK...|2014-12-12 00:44:...|\n",
            "|--FWWsIwxRwuw9vIM...|2010-09-11 16:28:...|\n",
            "|--FcbSxK1AoEtEAxO...|2017-08-18 19:43:...|\n",
            "|--LC8cIrALInl2vyo...|2017-01-12 19:10:...|\n",
            "|--MbOh2O1pATkXa7x...|2013-04-21 01:52:...|\n",
            "|--N9yp3ZWqQIm7DqK...|2012-10-06 20:46:...|\n",
            "|--O3ip9NpXTKD4oBS...|2010-04-17 21:07:...|\n",
            "|--OS_I7dnABrXvRCC...| 2018-05-11 18:23:36|\n",
            "|--S43ruInmIsGrnnk...|2010-08-29 01:17:...|\n",
            "|--SJXpAa0E-GCp2sm...|2014-04-06 22:23:...|\n",
            "|--Sd93OFWITqDHifM...|2013-01-09 17:42:...|\n",
            "|--ZVrH2X2QXBFdCil...|2010-08-12 18:21:...|\n",
            "|--ZWv8kGlM2YL58uK...|2010-10-13 18:41:...|\n",
            "+--------------------+--------------------+\n",
            "only showing top 20 rows\n",
            "\n"
          ]
        }
      ]
    },
    {
      "cell_type": "code",
      "source": [
        "business.show()"
      ],
      "metadata": {
        "colab": {
          "base_uri": "https://localhost:8080/"
        },
        "id": "_98wx6MGk_AB",
        "outputId": "43658bea-7eea-4e10-9e79-578e5699d9aa"
      },
      "execution_count": null,
      "outputs": [
        {
          "output_type": "stream",
          "name": "stdout",
          "text": [
            "+--------------------+--------------------+--------------------+--------------------+--------------+--------------------+-------+-------------+--------------+--------------------+-----------+------------+-----+-----+\n",
            "|             address|          attributes|         business_id|          categories|          city|               hours|is_open|     latitude|     longitude|                name|postal_code|review_count|stars|state|\n",
            "+--------------------+--------------------+--------------------+--------------------+--------------+--------------------+-------+-------------+--------------+--------------------+-----------+------------+-----+-----+\n",
            "|1616 Chapala St, ...|{null, null, null...|Pns2l4eNsfO8kk83d...|Doctors, Traditio...| Santa Barbara|                null|      0|   34.4266787|  -119.7111968|Abby Rappoport, L...|      93101|           7|  5.0|   CA|\n",
            "|87 Grasso Plaza S...|{null, null, null...|mpf3x-BjTdTEA3yCZ...|Shipping Centers,...|        Affton|{8:0-18:30, 0:0-0...|      1|    38.551126|    -90.335695|       The UPS Store|      63123|          15|  3.0|   MO|\n",
            "|5255 E Broadway Blvd|{null, null, null...|tUFrWirKiKi_TAnsV...|Department Stores...|        Tucson|{8:0-23:0, 8:0-22...|      0|    32.223236|   -110.880452|              Target|      85711|          22|  3.5|   AZ|\n",
            "|         935 Race St|{null, null, u'no...|MTSW4McQd7CbVtyjq...|Restaurants, Food...|  Philadelphia|{7:0-21:0, 7:0-20...|      1|   39.9555052|   -75.1555641|  St Honore Pastries|      19107|          80|  4.0|   PA|\n",
            "|       101 Walnut St|{null, null, null...|mWMc6_wTdE0EUBKIG...|Brewpubs, Breweri...|    Green Lane|{12:0-22:0, null,...|      1|   40.3381827|   -75.4716585|Perkiomen Valley ...|      18054|          13|  4.5|   PA|\n",
            "|       615 S Main St|{null, null, u'no...|CF33F8-E6oudUQ46H...|Burgers, Fast Foo...|  Ashland City|{9:0-0:0, 0:0-0:0...|      1|    36.269593|    -87.058943|      Sonic Drive-In|      37015|           6|  2.0|   TN|\n",
            "|8522 Eager Road, ...|{null, null, null...|n_0UpQx1hsNbnPUSl...|Sporting Goods, F...|     Brentwood|{10:0-18:0, 0:0-0...|      1|    38.627695|    -90.340465|     Famous Footwear|      63144|          13|  2.5|   MO|\n",
            "|  400 Pasadena Ave S|                null|qkRM_2X51Yqxk3btl...|Synagogues, Relig...|St. Petersburg|{9:0-17:0, 9:0-17...|      1|     27.76659|    -82.732983|      Temple Beth-El|      33707|           5|  3.5|   FL|\n",
            "|   8025 Mackenzie Rd|{null, null, u'fu...|k0hlBqXX-Bt0vf1op...|Pubs, Restaurants...|        Affton|                null|      0|   38.5651648|   -90.3210868|Tsevi's Pub And G...|      63123|          19|  3.0|   MO|\n",
            "| 2312 Dickerson Pike|{null, null, u'no...|bBDDEgkFA1Otx9Lfe...|Ice Cream & Froze...|     Nashville|{6:0-16:0, 0:0-0:...|      1|   36.2081024|   -86.7681696|      Sonic Drive-In|      37207|          10|  1.5|   TN|\n",
            "|21705 Village Lak...|{null, null, null...|UJsufbvfyfONHeWdv...|Department Stores...| Land O' Lakes|{9:30-21:30, 9:30...|      1|28.1904587953|-82.4573802199|           Marshalls|      34639|           6|  3.5|   FL|\n",
            "|                    |{null, null, 'non...|eEOYSgkmpB90uNA7l...|Vietnamese, Food,...|     Tampa Bay|{11:0-14:0, 11:0-...|      1|   27.9552692|   -82.4563199|Vietnamese Food T...|      33602|          10|  4.0|   FL|\n",
            "|        8901 US 31 S|{null, null, 'non...|il_Ro8jwPlHresjw9...|American (Traditi...|  Indianapolis|{6:0-22:0, 6:0-22...|      1|39.6371332838| -86.127217412|             Denny's|      46227|          28|  2.5|   IN|\n",
            "|   15 N Missouri Ave|{null, null, null...|jaxMSoInw8Poo3XeM...|General Dentistry...|    Clearwater|{null, 7:30-15:30...|      1|    27.966235|    -82.787412|        Adams Dental|      33755|          10|  5.0|   FL|\n",
            "|       2575 E Bay Dr|{null, null, u'no...|0bPLkL0QhhPO5kt1_...|Food, Delis, Ital...|         Largo|{10:0-20:0, 10:0-...|      0|   27.9161159|   -82.7604608|Zio's Italian Market|      33771|         100|  4.5|   FL|\n",
            "|         205 Race St|{null, null, 'ful...|MUTTqe8uqyMdBl186...|Sushi Bars, Resta...|  Philadelphia|{13:30-23:0, null...|      1|    39.953949|   -75.1432262|            Tuna Bar|      19106|         245|  4.0|   PA|\n",
            "|     625 N Stone Ave|{null, null, null...|rBmpy_Y1UbBx8ggHl...|Automotive, Auto ...|        Tucson|{8:0-17:0, 0:0-0:...|      1|   32.2298719|  -110.9723419|Arizona Truck Out...|      85705|          10|  4.5|   AZ|\n",
            "|        712 Adams St|{null, null, null...|M0XSSHqrASOnhgbWD...|Vape Shops, Tobac...|   New Orleans|{10:0-19:0, 10:0-...|      1|29.9414679565| -90.129952757|      Herb Import Co|      70118|           5|  4.0|   LA|\n",
            "|     1241 Airline Dr|                null|8wGISYjYkE2tSqn3c...|Automotive, Car R...|        Kenner|{8:0-17:0, 8:0-17...|      1|    29.981183|   -90.2540123|    Nifty Car Rental|      70062|          14|  3.5|   LA|\n",
            "|       1224 South St|{null, null, u'no...|ROeacJQwBeh05Rqg7...| Korean, Restaurants|  Philadelphia|{11:30-20:30, 11:...|      1|    39.943223|    -75.162568|                 BAP|      19147|         205|  4.5|   PA|\n",
            "+--------------------+--------------------+--------------------+--------------------+--------------+--------------------+-------+-------------+--------------+--------------------+-----------+------------+-----+-----+\n",
            "only showing top 20 rows\n",
            "\n"
          ]
        }
      ]
    },
    {
      "cell_type": "code",
      "source": [
        "from pyspark.sql.functions import explode, split\n",
        "\n",
        "categories = business.select('categories')\n",
        "# Explode the categories column to create a new row for each category\n",
        "exploded_categories = categories.select(explode(split(categories.categories, \", \")).alias(\"category\"))\n",
        "\n",
        "category_counts = exploded_categories.groupBy(\"category\").count().orderBy(\"count\", ascending=False)\n",
        "category_counts.show(10)\n"
      ],
      "metadata": {
        "colab": {
          "base_uri": "https://localhost:8080/"
        },
        "id": "__Fduiq5unFJ",
        "outputId": "28634766-921f-40f7-c4ca-78b236da70ca"
      },
      "execution_count": 17,
      "outputs": [
        {
          "output_type": "stream",
          "name": "stdout",
          "text": [
            "+----------------+-----+\n",
            "|        category|count|\n",
            "+----------------+-----+\n",
            "|     Restaurants|52268|\n",
            "|            Food|27781|\n",
            "|        Shopping|24395|\n",
            "|   Home Services|14356|\n",
            "|   Beauty & Spas|14292|\n",
            "|       Nightlife|12281|\n",
            "|Health & Medical|11890|\n",
            "|  Local Services|11198|\n",
            "|            Bars|11065|\n",
            "|      Automotive|10773|\n",
            "+----------------+-----+\n",
            "only showing top 10 rows\n",
            "\n"
          ]
        }
      ]
    },
    {
      "cell_type": "code",
      "source": [],
      "metadata": {
        "id": "DcKGUqcQkQ5u"
      },
      "execution_count": null,
      "outputs": []
    },
    {
      "cell_type": "code",
      "source": [
        "exploded_categories.show()"
      ],
      "metadata": {
        "colab": {
          "base_uri": "https://localhost:8080/"
        },
        "id": "9BQpaBy3oBi9",
        "outputId": "d811f0b8-4b3f-4911-9e2c-9d1b07ff33fb"
      },
      "execution_count": 18,
      "outputs": [
        {
          "output_type": "stream",
          "name": "stdout",
          "text": [
            "+--------------------+\n",
            "|            category|\n",
            "+--------------------+\n",
            "|             Doctors|\n",
            "|Traditional Chine...|\n",
            "|Naturopathic/Holi...|\n",
            "|         Acupuncture|\n",
            "|    Health & Medical|\n",
            "|       Nutritionists|\n",
            "|    Shipping Centers|\n",
            "|      Local Services|\n",
            "|            Notaries|\n",
            "|     Mailbox Centers|\n",
            "|   Printing Services|\n",
            "|   Department Stores|\n",
            "|            Shopping|\n",
            "|             Fashion|\n",
            "|       Home & Garden|\n",
            "|         Electronics|\n",
            "|    Furniture Stores|\n",
            "|         Restaurants|\n",
            "|                Food|\n",
            "|          Bubble Tea|\n",
            "+--------------------+\n",
            "only showing top 20 rows\n",
            "\n"
          ]
        }
      ]
    },
    {
      "cell_type": "code",
      "source": [
        "category_counts_pd = category_counts.toPandas()\n",
        "\n",
        "plt.plot(category_counts_pd['category'], category_counts_pd['count'], color = 'purple')\n",
        "plt.xlabel('categories')\n",
        "plt.ylabel('count')\n",
        "plt.title('popular businesses')\n",
        "\n",
        "plt.show()"
      ],
      "metadata": {
        "colab": {
          "base_uri": "https://localhost:8080/",
          "height": 295
        },
        "id": "la5FqdlIzSCX",
        "outputId": "bd594efa-668e-41a8-d619-bb786bb1ec1a"
      },
      "execution_count": null,
      "outputs": [
        {
          "output_type": "display_data",
          "data": {
            "text/plain": [
              "<Figure size 432x288 with 1 Axes>"
            ],
            "image/png": "[encoded data removed]"
          },
          "metadata": {
            "needs_background": "light"
          }
        }
      ]
    },
    {
      "cell_type": "code",
      "source": [
        "category_counts_pd = category_counts.toPandas()\n",
        "\n",
        "category_counts_pd['count'] = pd.to_numeric(category_counts_pd['count'])\n",
        "category_count =dict(zip(category_counts_pd['category'], category_counts_pd['count']))\n",
        "highcount = [category for category, count in category_count.items() if count >5000]\n",
        "\n",
        "\n",
        "lowcount = sum([count for category, count in category_count.items() if category not in highcount])"
      ],
      "metadata": {
        "id": "QvbaXK2OzR-O"
      },
      "execution_count": 19,
      "outputs": []
    },
    {
      "cell_type": "code",
      "source": [
        "category_count['Others'] = lowcount/10\n",
        "new_df = pd.DataFrame({'category': highcount + ['Others'], 'count': [category_count[category] for category in highcount] + [category_count['Others']]})"
      ],
      "metadata": {
        "id": "hGVWr-lbzR8s"
      },
      "execution_count": 20,
      "outputs": []
    },
    {
      "cell_type": "code",
      "source": [
        "plt.bar(new_df['category'], new_df['count'])\n",
        "plt.xlabel(\"category\")\n",
        "plt.ylabel('count')\n",
        "plt.title('Category count')\n",
        "plt.xticks(rotation = 90)\n",
        "plt.show()"
      ],
      "metadata": {
        "colab": {
          "base_uri": "https://localhost:8080/",
          "height": 417
        },
        "id": "Km__ucB2zR7R",
        "outputId": "e2a05418-b94a-4208-ef1e-277b9fd6175e"
      },
      "execution_count": 21,
      "outputs": [
        {
          "output_type": "display_data",
          "data": {
            "text/plain": [
              "<Figure size 432x288 with 1 Axes>"
            ],
            "image/png": "[encoded data removed]"
          },
          "metadata": {
            "needs_background": "light"
          }
        }
      ]
    },
    {
      "cell_type": "markdown",
      "source": [
        "Others is divided by 10."
      ],
      "metadata": {
        "id": "muD6lSaT6bx6"
      }
    },
    {
      "cell_type": "code",
      "source": [
        "from pyspark.sql.functions import col\n",
        "business_stars = business.select('business_id','stars')\n",
        "\n",
        "business_avg_stars = business_stars.groupBy('business_id').avg('stars')\n",
        "\n",
        "business_avg_stars.orderBy(col(\"avg(stars)\").desc()).show(10)\n"
      ],
      "metadata": {
        "colab": {
          "base_uri": "https://localhost:8080/"
        },
        "id": "K2gfrWhD6bhw",
        "outputId": "d903ab9e-1fa6-4e70-99dc-8091858a35b0"
      },
      "execution_count": 22,
      "outputs": [
        {
          "output_type": "stream",
          "name": "stdout",
          "text": [
            "+--------------------+----------+\n",
            "|         business_id|avg(stars)|\n",
            "+--------------------+----------+\n",
            "|HPLMyOVlX3DbInKLZ...|       5.0|\n",
            "|U0oG8NI9Fz5YqpPf1...|       5.0|\n",
            "|G5aLEWu4uOCSXGlHE...|       5.0|\n",
            "|RqKBN36O9-TbK7pMz...|       5.0|\n",
            "|CMLS5r0rOAWqlnu5l...|       5.0|\n",
            "|c5UaaWzJwleA-23NE...|       5.0|\n",
            "|Tcq_I0WESaBMKXM0Q...|       5.0|\n",
            "|KbF43BrgSrCiPgais...|       5.0|\n",
            "|zlCQQbeksTCfSUvSS...|       5.0|\n",
            "|Si8qRR4OGKd-ZL9PW...|       5.0|\n",
            "+--------------------+----------+\n",
            "only showing top 10 rows\n",
            "\n"
          ]
        }
      ]
    },
    {
      "cell_type": "code",
      "source": [
        "business_count_state = business.groupBy('state',)"
      ],
      "metadata": {
        "id": "071a5wgjzR5w"
      },
      "execution_count": 23,
      "outputs": []
    },
    {
      "cell_type": "code",
      "source": [
        "from pyspark.sql.functions import when, col\n",
        "\n",
        "# Define a mapping of original categories to new categories\n",
        "category_mapping = {\n",
        "    \"Restaurants\": \"Food & Dining\",\n",
        "    \"Food\": \"Food & Dining\",\n",
        "    \"Bars\": \"Nightlife\",\n",
        "    \"Nightlife\": \"Nightlife\",\n",
        "    \"Shopping\": \"Shopping\",\n",
        "    \"Beauty & Spas\": \"Beauty & Spas\",\n",
        "    \"Health & Medical\": \"Health & Medical\",\n",
        "    \"Home Services\": \"Home Services\",\n",
        "    \"Automotive\": \"Automotive\",\n",
        "    \"Arts & Entertainment\": \"Arts & Entertainment\",\n",
        "    \"Hotels & Travel\": \"Hotels & Travel\"\n",
        "}\n",
        "\n",
        "# Replace the original categories with new categories using the mapping\n",
        "business = business.withColumn(\"category\", when(col(\"categories\").isin(list(category_mapping.keys())), \n",
        "                                               col(\"categories\")).otherwise(col(\"categories\")))\n"
      ],
      "metadata": {
        "id": "sDtlJzgDzR4b"
      },
      "execution_count": 24,
      "outputs": []
    },
    {
      "cell_type": "code",
      "source": [
        "business.show()"
      ],
      "metadata": {
        "id": "bMMca4VqzR29",
        "colab": {
          "base_uri": "https://localhost:8080/"
        },
        "outputId": "b2b36a94-732e-45d4-8ee0-0044f63faef2"
      },
      "execution_count": 25,
      "outputs": [
        {
          "output_type": "stream",
          "name": "stdout",
          "text": [
            "+--------------------+--------------------+--------------------+--------------------+--------------+--------------------+-------+-------------+--------------+--------------------+-----------+------------+-----+-----+--------------------+\n",
            "|             address|          attributes|         business_id|          categories|          city|               hours|is_open|     latitude|     longitude|                name|postal_code|review_count|stars|state|            category|\n",
            "+--------------------+--------------------+--------------------+--------------------+--------------+--------------------+-------+-------------+--------------+--------------------+-----------+------------+-----+-----+--------------------+\n",
            "|1616 Chapala St, ...|{null, null, null...|Pns2l4eNsfO8kk83d...|Doctors, Traditio...| Santa Barbara|                null|      0|   34.4266787|  -119.7111968|Abby Rappoport, L...|      93101|           7|  5.0|   CA|Doctors, Traditio...|\n",
            "|87 Grasso Plaza S...|{null, null, null...|mpf3x-BjTdTEA3yCZ...|Shipping Centers,...|        Affton|{8:0-18:30, 0:0-0...|      1|    38.551126|    -90.335695|       The UPS Store|      63123|          15|  3.0|   MO|Shipping Centers,...|\n",
            "|5255 E Broadway Blvd|{null, null, null...|tUFrWirKiKi_TAnsV...|Department Stores...|        Tucson|{8:0-23:0, 8:0-22...|      0|    32.223236|   -110.880452|              Target|      85711|          22|  3.5|   AZ|Department Stores...|\n",
            "|         935 Race St|{null, null, u'no...|MTSW4McQd7CbVtyjq...|Restaurants, Food...|  Philadelphia|{7:0-21:0, 7:0-20...|      1|   39.9555052|   -75.1555641|  St Honore Pastries|      19107|          80|  4.0|   PA|Restaurants, Food...|\n",
            "|       101 Walnut St|{null, null, null...|mWMc6_wTdE0EUBKIG...|Brewpubs, Breweri...|    Green Lane|{12:0-22:0, null,...|      1|   40.3381827|   -75.4716585|Perkiomen Valley ...|      18054|          13|  4.5|   PA|Brewpubs, Breweri...|\n",
            "|       615 S Main St|{null, null, u'no...|CF33F8-E6oudUQ46H...|Burgers, Fast Foo...|  Ashland City|{9:0-0:0, 0:0-0:0...|      1|    36.269593|    -87.058943|      Sonic Drive-In|      37015|           6|  2.0|   TN|Burgers, Fast Foo...|\n",
            "|8522 Eager Road, ...|{null, null, null...|n_0UpQx1hsNbnPUSl...|Sporting Goods, F...|     Brentwood|{10:0-18:0, 0:0-0...|      1|    38.627695|    -90.340465|     Famous Footwear|      63144|          13|  2.5|   MO|Sporting Goods, F...|\n",
            "|  400 Pasadena Ave S|                null|qkRM_2X51Yqxk3btl...|Synagogues, Relig...|St. Petersburg|{9:0-17:0, 9:0-17...|      1|     27.76659|    -82.732983|      Temple Beth-El|      33707|           5|  3.5|   FL|Synagogues, Relig...|\n",
            "|   8025 Mackenzie Rd|{null, null, u'fu...|k0hlBqXX-Bt0vf1op...|Pubs, Restaurants...|        Affton|                null|      0|   38.5651648|   -90.3210868|Tsevi's Pub And G...|      63123|          19|  3.0|   MO|Pubs, Restaurants...|\n",
            "| 2312 Dickerson Pike|{null, null, u'no...|bBDDEgkFA1Otx9Lfe...|Ice Cream & Froze...|     Nashville|{6:0-16:0, 0:0-0:...|      1|   36.2081024|   -86.7681696|      Sonic Drive-In|      37207|          10|  1.5|   TN|Ice Cream & Froze...|\n",
            "|21705 Village Lak...|{null, null, null...|UJsufbvfyfONHeWdv...|Department Stores...| Land O' Lakes|{9:30-21:30, 9:30...|      1|28.1904587953|-82.4573802199|           Marshalls|      34639|           6|  3.5|   FL|Department Stores...|\n",
            "|                    |{null, null, 'non...|eEOYSgkmpB90uNA7l...|Vietnamese, Food,...|     Tampa Bay|{11:0-14:0, 11:0-...|      1|   27.9552692|   -82.4563199|Vietnamese Food T...|      33602|          10|  4.0|   FL|Vietnamese, Food,...|\n",
            "|        8901 US 31 S|{null, null, 'non...|il_Ro8jwPlHresjw9...|American (Traditi...|  Indianapolis|{6:0-22:0, 6:0-22...|      1|39.6371332838| -86.127217412|             Denny's|      46227|          28|  2.5|   IN|American (Traditi...|\n",
            "|   15 N Missouri Ave|{null, null, null...|jaxMSoInw8Poo3XeM...|General Dentistry...|    Clearwater|{null, 7:30-15:30...|      1|    27.966235|    -82.787412|        Adams Dental|      33755|          10|  5.0|   FL|General Dentistry...|\n",
            "|       2575 E Bay Dr|{null, null, u'no...|0bPLkL0QhhPO5kt1_...|Food, Delis, Ital...|         Largo|{10:0-20:0, 10:0-...|      0|   27.9161159|   -82.7604608|Zio's Italian Market|      33771|         100|  4.5|   FL|Food, Delis, Ital...|\n",
            "|         205 Race St|{null, null, 'ful...|MUTTqe8uqyMdBl186...|Sushi Bars, Resta...|  Philadelphia|{13:30-23:0, null...|      1|    39.953949|   -75.1432262|            Tuna Bar|      19106|         245|  4.0|   PA|Sushi Bars, Resta...|\n",
            "|     625 N Stone Ave|{null, null, null...|rBmpy_Y1UbBx8ggHl...|Automotive, Auto ...|        Tucson|{8:0-17:0, 0:0-0:...|      1|   32.2298719|  -110.9723419|Arizona Truck Out...|      85705|          10|  4.5|   AZ|Automotive, Auto ...|\n",
            "|        712 Adams St|{null, null, null...|M0XSSHqrASOnhgbWD...|Vape Shops, Tobac...|   New Orleans|{10:0-19:0, 10:0-...|      1|29.9414679565| -90.129952757|      Herb Import Co|      70118|           5|  4.0|   LA|Vape Shops, Tobac...|\n",
            "|     1241 Airline Dr|                null|8wGISYjYkE2tSqn3c...|Automotive, Car R...|        Kenner|{8:0-17:0, 8:0-17...|      1|    29.981183|   -90.2540123|    Nifty Car Rental|      70062|          14|  3.5|   LA|Automotive, Car R...|\n",
            "|       1224 South St|{null, null, u'no...|ROeacJQwBeh05Rqg7...| Korean, Restaurants|  Philadelphia|{11:30-20:30, 11:...|      1|    39.943223|    -75.162568|                 BAP|      19147|         205|  4.5|   PA| Korean, Restaurants|\n",
            "+--------------------+--------------------+--------------------+--------------------+--------------+--------------------+-------+-------------+--------------+--------------------+-----------+------------+-----+-----+--------------------+\n",
            "only showing top 20 rows\n",
            "\n"
          ]
        }
      ]
    },
    {
      "cell_type": "code",
      "source": [
        "from pyspark.sql.functions import explode\n",
        "\n",
        "\n"
      ],
      "metadata": {
        "id": "FbPDxxQzzR1g",
        "colab": {
          "base_uri": "https://localhost:8080/",
          "height": 747
        },
        "outputId": "afc78628-60e2-470a-94fb-f16de9b2e374"
      },
      "execution_count": null,
      "outputs": [
        {
          "output_type": "error",
          "ename": "AnalysisException",
          "evalue": "ignored",
          "traceback": [
            "\u001b[0;31m---------------------------------------------------------------------------\u001b[0m",
            "\u001b[0;31mAnalysisException\u001b[0m                         Traceback (most recent call last)",
            "\u001b[0;32m<ipython-input-29-79af77214dff>\u001b[0m in \u001b[0;36m<module>\u001b[0;34m\u001b[0m\n\u001b[1;32m      8\u001b[0m \u001b[0;34m\u001b[0m\u001b[0m\n\u001b[1;32m      9\u001b[0m \u001b[0;31m# Explode the \"categories\" column into multiple rows\u001b[0m\u001b[0;34m\u001b[0m\u001b[0;34m\u001b[0m\u001b[0m\n\u001b[0;32m---> 10\u001b[0;31m \u001b[0mbusiness_categories\u001b[0m \u001b[0;34m=\u001b[0m \u001b[0mbusiness_review\u001b[0m\u001b[0;34m.\u001b[0m\u001b[0mselect\u001b[0m\u001b[0;34m(\u001b[0m\u001b[0;34m\"state\"\u001b[0m\u001b[0;34m,\u001b[0m \u001b[0mexplode\u001b[0m\u001b[0;34m(\u001b[0m\u001b[0mbusiness_review\u001b[0m\u001b[0;34m.\u001b[0m\u001b[0mcategories\u001b[0m\u001b[0;34m)\u001b[0m\u001b[0;34m.\u001b[0m\u001b[0malias\u001b[0m\u001b[0;34m(\u001b[0m\u001b[0;34m\"categories\"\u001b[0m\u001b[0;34m)\u001b[0m\u001b[0;34m)\u001b[0m\u001b[0;34m\u001b[0m\u001b[0;34m\u001b[0m\u001b[0m\n\u001b[0m\u001b[1;32m     11\u001b[0m \u001b[0;34m\u001b[0m\u001b[0m\n\u001b[1;32m     12\u001b[0m \u001b[0;31m# Group the resulting dataframe by state and category, and count the number of occurrences of each category within each state\u001b[0m\u001b[0;34m\u001b[0m\u001b[0;34m\u001b[0m\u001b[0m\n",
            "\u001b[0;32m/usr/local/lib/python3.9/dist-packages/pyspark/sql/dataframe.py\u001b[0m in \u001b[0;36mselect\u001b[0;34m(self, *cols)\u001b[0m\n\u001b[1;32m   2021\u001b[0m         \u001b[0;34m[\u001b[0m\u001b[0mRow\u001b[0m\u001b[0;34m(\u001b[0m\u001b[0mname\u001b[0m\u001b[0;34m=\u001b[0m\u001b[0;34m'Alice'\u001b[0m\u001b[0;34m,\u001b[0m \u001b[0mage\u001b[0m\u001b[0;34m=\u001b[0m\u001b[0;36m12\u001b[0m\u001b[0;34m)\u001b[0m\u001b[0;34m,\u001b[0m \u001b[0mRow\u001b[0m\u001b[0;34m(\u001b[0m\u001b[0mname\u001b[0m\u001b[0;34m=\u001b[0m\u001b[0;34m'Bob'\u001b[0m\u001b[0;34m,\u001b[0m \u001b[0mage\u001b[0m\u001b[0;34m=\u001b[0m\u001b[0;36m15\u001b[0m\u001b[0;34m)\u001b[0m\u001b[0;34m]\u001b[0m\u001b[0;34m\u001b[0m\u001b[0;34m\u001b[0m\u001b[0m\n\u001b[1;32m   2022\u001b[0m         \"\"\"\n\u001b[0;32m-> 2023\u001b[0;31m         \u001b[0mjdf\u001b[0m \u001b[0;34m=\u001b[0m \u001b[0mself\u001b[0m\u001b[0;34m.\u001b[0m\u001b[0m_jdf\u001b[0m\u001b[0;34m.\u001b[0m\u001b[0mselect\u001b[0m\u001b[0;34m(\u001b[0m\u001b[0mself\u001b[0m\u001b[0;34m.\u001b[0m\u001b[0m_jcols\u001b[0m\u001b[0;34m(\u001b[0m\u001b[0;34m*\u001b[0m\u001b[0mcols\u001b[0m\u001b[0;34m)\u001b[0m\u001b[0;34m)\u001b[0m\u001b[0;34m\u001b[0m\u001b[0;34m\u001b[0m\u001b[0m\n\u001b[0m\u001b[1;32m   2024\u001b[0m         \u001b[0;32mreturn\u001b[0m \u001b[0mDataFrame\u001b[0m\u001b[0;34m(\u001b[0m\u001b[0mjdf\u001b[0m\u001b[0;34m,\u001b[0m \u001b[0mself\u001b[0m\u001b[0;34m.\u001b[0m\u001b[0msparkSession\u001b[0m\u001b[0;34m)\u001b[0m\u001b[0;34m\u001b[0m\u001b[0;34m\u001b[0m\u001b[0m\n\u001b[1;32m   2025\u001b[0m \u001b[0;34m\u001b[0m\u001b[0m\n",
            "\u001b[0;32m/usr/local/lib/python3.9/dist-packages/py4j/java_gateway.py\u001b[0m in \u001b[0;36m__call__\u001b[0;34m(self, *args)\u001b[0m\n\u001b[1;32m   1319\u001b[0m \u001b[0;34m\u001b[0m\u001b[0m\n\u001b[1;32m   1320\u001b[0m         \u001b[0manswer\u001b[0m \u001b[0;34m=\u001b[0m \u001b[0mself\u001b[0m\u001b[0;34m.\u001b[0m\u001b[0mgateway_client\u001b[0m\u001b[0;34m.\u001b[0m\u001b[0msend_command\u001b[0m\u001b[0;34m(\u001b[0m\u001b[0mcommand\u001b[0m\u001b[0;34m)\u001b[0m\u001b[0;34m\u001b[0m\u001b[0;34m\u001b[0m\u001b[0m\n\u001b[0;32m-> 1321\u001b[0;31m         return_value = get_return_value(\n\u001b[0m\u001b[1;32m   1322\u001b[0m             answer, self.gateway_client, self.target_id, self.name)\n\u001b[1;32m   1323\u001b[0m \u001b[0;34m\u001b[0m\u001b[0m\n",
            "\u001b[0;32m/usr/local/lib/python3.9/dist-packages/pyspark/sql/utils.py\u001b[0m in \u001b[0;36mdeco\u001b[0;34m(*a, **kw)\u001b[0m\n\u001b[1;32m    194\u001b[0m                 \u001b[0;31m# Hide where the exception came from that shows a non-Pythonic\u001b[0m\u001b[0;34m\u001b[0m\u001b[0;34m\u001b[0m\u001b[0m\n\u001b[1;32m    195\u001b[0m                 \u001b[0;31m# JVM exception message.\u001b[0m\u001b[0;34m\u001b[0m\u001b[0;34m\u001b[0m\u001b[0m\n\u001b[0;32m--> 196\u001b[0;31m                 \u001b[0;32mraise\u001b[0m \u001b[0mconverted\u001b[0m \u001b[0;32mfrom\u001b[0m \u001b[0;32mNone\u001b[0m\u001b[0;34m\u001b[0m\u001b[0;34m\u001b[0m\u001b[0m\n\u001b[0m\u001b[1;32m    197\u001b[0m             \u001b[0;32melse\u001b[0m\u001b[0;34m:\u001b[0m\u001b[0;34m\u001b[0m\u001b[0;34m\u001b[0m\u001b[0m\n\u001b[1;32m    198\u001b[0m                 \u001b[0;32mraise\u001b[0m\u001b[0;34m\u001b[0m\u001b[0;34m\u001b[0m\u001b[0m\n",
            "\u001b[0;31mAnalysisException\u001b[0m: cannot resolve 'explode(categories)' due to data type mismatch: input to function explode should be array or map type, not string;\n'Project [state#129, explode(categories#119) AS categories#340]\n+- Filter isnotnull(categories#119)\n   +- Project [business_id#118, address#116, attributes#117, categories#119, city#120, hours#121, is_open#122L, latitude#123, longitude#124, name#125, postal_code#126, review_count#127L, stars#128, state#129, category#201, cool#9L, date#10, funny#11L, review_id#12, stars#13, text#14, useful#15L, user_id#16]\n      +- Join Inner, (business_id#118 = business_id#8)\n         :- Project [address#116, attributes#117, business_id#118, categories#119, city#120, hours#121, is_open#122L, latitude#123, longitude#124, name#125, postal_code#126, review_count#127L, stars#128, state#129, CASE WHEN categories#119 IN (Restaurants,Food,Bars,Nightlife,Shopping,Beauty & Spas,Health & Medical,Home Services,Automotive,Arts & Entertainment,Hotels & Travel) THEN categories#119 ELSE categories#119 END AS category#201]\n         :  +- Relation [address#116,attributes#117,business_id#118,categories#119,city#120,hours#121,is_open#122L,latitude#123,longitude#124,name#125,postal_code#126,review_count#127L,stars#128,state#129] json\n         +- Relation [business_id#8,cool#9L,date#10,funny#11L,review_id#12,stars#13,text#14,useful#15L,user_id#16] json\n"
          ]
        }
      ]
    },
    {
      "cell_type": "code",
      "source": [
        "from pyspark.sql.functions import split, explode\n",
        "\n",
        "# split categories string into an array column\n",
        "business = business.withColumn(\"categories_arr\", split(business.categories, \", \"))\n",
        "\n",
        "# explode categories array column\n",
        "business_exploded = business.select(\"state\", explode(\"categories_arr\").alias(\"category\"))\n",
        "\n",
        "# group by state and category to get count\n",
        "state_category_count = business_exploded.groupBy(\"state\", \"category\").count().orderBy(\"state\", \"count\", ascending=[1,0])\n"
      ],
      "metadata": {
        "id": "CspqR6OWzR0R"
      },
      "execution_count": 26,
      "outputs": []
    },
    {
      "cell_type": "code",
      "source": [
        "state_category_count.show()\n"
      ],
      "metadata": {
        "id": "yjUyMnAzzRyr",
        "colab": {
          "base_uri": "https://localhost:8080/"
        },
        "outputId": "1bf07a6a-fbc6-4360-a5fa-1792baec26b1"
      },
      "execution_count": 27,
      "outputs": [
        {
          "output_type": "stream",
          "name": "stdout",
          "text": [
            "+-----+--------------------+-----+\n",
            "|state|            category|count|\n",
            "+-----+--------------------+-----+\n",
            "|   AB|         Restaurants| 2410|\n",
            "|   AB|                Food| 1208|\n",
            "|   AB|            Shopping| 1042|\n",
            "|   AB|       Beauty & Spas|  513|\n",
            "|   AB|           Nightlife|  508|\n",
            "|   AB|                Bars|  452|\n",
            "|   AB|        Coffee & Tea|  378|\n",
            "|   AB|             Fashion|  334|\n",
            "|   AB|           Fast Food|  321|\n",
            "|   AB|               Pizza|  313|\n",
            "|   AB|          Automotive|  279|\n",
            "|   AB|         Active Life|  264|\n",
            "|   AB|    Health & Medical|  263|\n",
            "|   AB|      Canadian (New)|  261|\n",
            "|   AB|             Burgers|  242|\n",
            "|   AB|          Sandwiches|  230|\n",
            "|   AB|      Local Services|  225|\n",
            "|   AB|Event Planning & ...|  219|\n",
            "|   AB|  Breakfast & Brunch|  214|\n",
            "|   AB|             Chinese|  202|\n",
            "+-----+--------------------+-----+\n",
            "only showing top 20 rows\n",
            "\n"
          ]
        }
      ]
    },
    {
      "cell_type": "code",
      "source": [
        "category_counts = state_category_count.groupBy('category').sum('count').withColumnRenamed('sum(count)', 'count').sort('count', ascending=False)\n"
      ],
      "metadata": {
        "id": "9SsdY4qozRxQ"
      },
      "execution_count": 28,
      "outputs": []
    },
    {
      "cell_type": "code",
      "source": [
        "category_counts.show()"
      ],
      "metadata": {
        "id": "f6NKoZcpzRvh",
        "colab": {
          "base_uri": "https://localhost:8080/"
        },
        "outputId": "643bc067-e651-41b8-9136-68dffaac8237"
      },
      "execution_count": 29,
      "outputs": [
        {
          "output_type": "stream",
          "name": "stdout",
          "text": [
            "+--------------------+-----+\n",
            "|            category|count|\n",
            "+--------------------+-----+\n",
            "|         Restaurants|52268|\n",
            "|                Food|27781|\n",
            "|            Shopping|24395|\n",
            "|       Home Services|14356|\n",
            "|       Beauty & Spas|14292|\n",
            "|           Nightlife|12281|\n",
            "|    Health & Medical|11890|\n",
            "|      Local Services|11198|\n",
            "|                Bars|11065|\n",
            "|          Automotive|10773|\n",
            "|Event Planning & ...| 9895|\n",
            "|          Sandwiches| 8366|\n",
            "|American (Traditi...| 8139|\n",
            "|         Active Life| 7687|\n",
            "|               Pizza| 7093|\n",
            "|        Coffee & Tea| 6703|\n",
            "|           Fast Food| 6472|\n",
            "|  Breakfast & Brunch| 6239|\n",
            "|      American (New)| 6097|\n",
            "|     Hotels & Travel| 5857|\n",
            "+--------------------+-----+\n",
            "only showing top 20 rows\n",
            "\n"
          ]
        }
      ]
    },
    {
      "cell_type": "code",
      "source": [
        "state_category_count_pd = state_category_count.toPandas()\n"
      ],
      "metadata": {
        "id": "5eSgXyuv5jhZ"
      },
      "execution_count": 30,
      "outputs": []
    },
    {
      "cell_type": "code",
      "source": [],
      "metadata": {
        "id": "k6t7ojxazRuF",
        "colab": {
          "base_uri": "https://localhost:8080/",
          "height": 295
        },
        "outputId": "c05d3442-e702-46f7-e4bd-d1e6fd1864e5"
      },
      "execution_count": null,
      "outputs": [
        {
          "output_type": "display_data",
          "data": {
            "text/plain": [
              "<Figure size 432x288 with 1 Axes>"
            ],
            "image/png": "[encoded data removed]"
          },
          "metadata": {
            "needs_background": "light"
          }
        }
      ]
    },
    {
      "cell_type": "code",
      "source": [
        "import matplotlib.pyplot as plt\n",
        "\n",
        "# Get the top 20 categories based on count\n",
        "top_categories = state_category_count_pd.groupby('category').sum()['count'].sort_values(ascending=False)[:20]\n",
        "\n",
        "# Filter the original data to only include the top categories\n",
        "filtered_data = state_category_count_pd[state_category_count_pd['category'].isin(top_categories.index)]\n",
        "\n",
        "# Pivot the data to create a table where each row is a state and each column is a category, with the cell value being the count\n",
        "pivoted_data = filtered_data.pivot(index='state', columns='category', values='count')\n",
        "\n",
        "# Create a horizontal bar chart\n",
        "ax = pivoted_data.plot(kind='barh', stacked=True, figsize=(10, 10))\n",
        "\n",
        "# Add axis labels and title\n",
        "ax.set_xlabel('Number of Businesses')\n",
        "ax.set_ylabel('State')\n",
        "ax.set_title('Number of Businesses by Category and State (Top 20 Categories)')\n"
      ],
      "metadata": {
        "id": "L3mfdPoczRsf",
        "colab": {
          "base_uri": "https://localhost:8080/",
          "height": 638
        },
        "outputId": "6eefda11-00fa-45ac-ae51-f71b5d47d152"
      },
      "execution_count": 31,
      "outputs": [
        {
          "output_type": "execute_result",
          "data": {
            "text/plain": [
              "Text(0.5, 1.0, 'Number of Businesses by Category and State (Top 20 Categories)')"
            ]
          },
          "metadata": {},
          "execution_count": 31
        },
        {
          "output_type": "display_data",
          "data": {
            "text/plain": [
              "<Figure size 720x720 with 1 Axes>"
            ],
            "image/png": "[encoded data removed]"
          },
          "metadata": {
            "needs_background": "light"
          }
        }
      ]
    },
    {
      "cell_type": "code",
      "source": [
        "from pyspark.sql.functions import desc\n",
        "business.groupBy('state').count().orderBy(desc('count')).show(20)"
      ],
      "metadata": {
        "id": "Nx_dBBSpzRrE",
        "colab": {
          "base_uri": "https://localhost:8080/"
        },
        "outputId": "f8dab97b-6d25-4507-c2f0-f73575e750f7"
      },
      "execution_count": 32,
      "outputs": [
        {
          "output_type": "stream",
          "name": "stdout",
          "text": [
            "+-----+-----+\n",
            "|state|count|\n",
            "+-----+-----+\n",
            "|   PA|34039|\n",
            "|   FL|26330|\n",
            "|   TN|12056|\n",
            "|   IN|11247|\n",
            "|   MO|10913|\n",
            "|   LA| 9924|\n",
            "|   AZ| 9912|\n",
            "|   NJ| 8536|\n",
            "|   NV| 7715|\n",
            "|   AB| 5573|\n",
            "|   CA| 5203|\n",
            "|   ID| 4467|\n",
            "|   DE| 2265|\n",
            "|   IL| 2145|\n",
            "|   TX|    4|\n",
            "|   CO|    3|\n",
            "|   MA|    2|\n",
            "|   WA|    2|\n",
            "|   HI|    2|\n",
            "|   MI|    1|\n",
            "+-----+-----+\n",
            "only showing top 20 rows\n",
            "\n"
          ]
        }
      ]
    },
    {
      "cell_type": "code",
      "source": [
        "ratings_counts = review.groupBy('stars').count().orderBy('stars')"
      ],
      "metadata": {
        "id": "uqE5YoIuzRpd"
      },
      "execution_count": 33,
      "outputs": []
    },
    {
      "cell_type": "code",
      "source": [
        "ratings_counts.show()"
      ],
      "metadata": {
        "id": "y4AG4UTqzRoJ",
        "colab": {
          "base_uri": "https://localhost:8080/"
        },
        "outputId": "c08468ac-4e11-4767-b604-eef3ad31a77b"
      },
      "execution_count": null,
      "outputs": [
        {
          "output_type": "stream",
          "name": "stdout",
          "text": [
            "+-----+-------+\n",
            "|stars|  count|\n",
            "+-----+-------+\n",
            "|  1.0|1069561|\n",
            "|  2.0| 544240|\n",
            "|  3.0| 691934|\n",
            "|  4.0|1452918|\n",
            "|  5.0|3231627|\n",
            "+-----+-------+\n",
            "\n"
          ]
        }
      ]
    },
    {
      "cell_type": "code",
      "source": [
        "plt.bar(ratings_counts.select('stars').rdd.flatMap(lambda x: x).collect(), ratings_counts.select('count').rdd.flatMap(lambda x: x).collect())\n",
        "\n",
        "# Add axis labels and title\n",
        "plt.xlabel('Rating')\n",
        "plt.ylabel('Count')\n",
        "plt.title('Distribution of Ratings')\n",
        "plt.show()"
      ],
      "metadata": {
        "id": "IxRKj6qhzRmf",
        "colab": {
          "base_uri": "https://localhost:8080/",
          "height": 295
        },
        "outputId": "6df301c3-0d45-415f-c224-c74085fde4ff"
      },
      "execution_count": 34,
      "outputs": [
        {
          "output_type": "display_data",
          "data": {
            "text/plain": [
              "<Figure size 432x288 with 1 Axes>"
            ],
            "image/png": "[encoded data removed]"
          },
          "metadata": {
            "needs_background": "light"
          }
        }
      ]
    },
    {
      "cell_type": "code",
      "source": [
        "from pyspark.sql.functions import desc\n",
        "\n",
        "# Group by business ID and rating, count the number of occurrences, and sort by count in descending order\n",
        "business_rating_counts = review.groupBy('business_id', 'stars').count().sort(desc('count'))\n",
        "\n",
        "# Get the top 20 businesses based on count\n",
        "top_businesses = business_rating_counts.select('business_id').distinct().limit(20)\n",
        "\n",
        "# Filter the original data to only include the top businesses\n",
        "filtered_data = review.join(top_businesses, 'business_id')\n",
        "\n",
        "# Group by rating and count the number of occurrences\n",
        "rating_counts = filtered_data.groupBy('stars').count()\n",
        "\n",
        "# Print the result\n",
        "rating_counts.show()\n"
      ],
      "metadata": {
        "id": "AwvidwO8zRkr",
        "colab": {
          "base_uri": "https://localhost:8080/"
        },
        "outputId": "f42cd663-3bd7-4cf7-8e0b-a3e6ab4e3c4e"
      },
      "execution_count": 35,
      "outputs": [
        {
          "output_type": "stream",
          "name": "stdout",
          "text": [
            "+-----+-----+\n",
            "|stars|count|\n",
            "+-----+-----+\n",
            "|  1.0|  286|\n",
            "|  4.0|  119|\n",
            "|  3.0|   91|\n",
            "|  2.0|   94|\n",
            "|  5.0|  246|\n",
            "+-----+-----+\n",
            "\n"
          ]
        }
      ]
    },
    {
      "cell_type": "code",
      "source": [
        "# Register the DataFrame as a temporary table\n",
        "review.createOrReplaceTempView(\"reviews\")\n",
        "\n",
        "# Compute the rating distribution for top 20 businesses using Spark SQL\n",
        "top_businesses = spark.sql(\"\"\"\n",
        "    SELECT business_id, COUNT(*) as count\n",
        "    FROM reviews\n",
        "    GROUP BY business_id\n",
        "    ORDER BY count DESC\n",
        "    LIMIT 20\n",
        "\"\"\")\n",
        "top_businesses.createOrReplaceTempView(\"top_businesses\")\n",
        "\n",
        "rating_counts = spark.sql(\"\"\"\n",
        "    SELECT stars, COUNT(*) as count\n",
        "    FROM reviews\n",
        "    WHERE business_id IN (SELECT business_id FROM top_businesses)\n",
        "    GROUP BY stars\n",
        "    ORDER BY stars\n",
        "\"\"\").cache()\n",
        "\n",
        "# Show the results\n",
        "rating_counts.show()\n"
      ],
      "metadata": {
        "id": "CU3Rpi-NzRhk",
        "colab": {
          "base_uri": "https://localhost:8080/"
        },
        "outputId": "8fc04292-1610-4ae9-f6b3-4c28e8c7663d"
      },
      "execution_count": 36,
      "outputs": [
        {
          "output_type": "stream",
          "name": "stdout",
          "text": [
            "+-----+-----+\n",
            "|stars|count|\n",
            "+-----+-----+\n",
            "|  1.0| 6395|\n",
            "|  2.0| 6651|\n",
            "|  3.0|11340|\n",
            "|  4.0|23969|\n",
            "|  5.0|47685|\n",
            "+-----+-----+\n",
            "\n"
          ]
        }
      ]
    },
    {
      "cell_type": "markdown",
      "source": [
        "still quite slow with spark SQL method. let's try partitioning next."
      ],
      "metadata": {
        "id": "_FiF0hebBStu"
      }
    },
    {
      "cell_type": "code",
      "source": [
        "# Load the review data as a PySpark dataframe\n",
        "\n",
        "# Get the top 20 businesses by count\n",
        "top_businesses = business.groupby('categories').count().orderBy('count', ascending=False).limit(20)\n",
        "\n",
        "# Repartition the reviews dataframe by business_id\n",
        "reviews = review.repartition('stars')\n",
        "\n",
        "# Join the reviews dataframe with the top businesses dataframe\n",
        "reviews_top = business.join(top_businesses, 'categories', 'inner')\n",
        "\n",
        "# Calculate the rating distribution for each top business\n",
        "rating_dist = reviews_top.groupby('categories', 'stars').count()\n",
        "\n",
        "# Pivot the data to create a table where each row is a business and each column is a star rating, with the cell value being the count\n",
        "pivoted_data = rating_dist.groupby('categories').pivot('stars').sum('count')\n",
        "\n",
        "# Convert the PySpark dataframe to a Pandas dtaframe\n",
        "pivoted_data_pd = pivoted_data.toPandas()\n",
        "\n",
        "# Create a stacked bar chart\n",
        "ax = pivoted_data_pd.plot(kind='bar', stacked=True, figsize=(10, 6))\n",
        "\n",
        "# Add axis labels and title\n",
        "ax.set_xlabel('Business')\n",
        "ax.set_ylabel('Count')\n",
        "ax.set_title('Rating Distribution for Top 20 Businesses')\n"
      ],
      "metadata": {
        "colab": {
          "base_uri": "https://localhost:8080/",
          "height": 424
        },
        "id": "Q2ulAggMBQHN",
        "outputId": "44c9ac2f-0cac-455d-f2bb-e735f53b5fe9"
      },
      "execution_count": 37,
      "outputs": [
        {
          "output_type": "execute_result",
          "data": {
            "text/plain": [
              "Text(0.5, 1.0, 'Rating Distribution for Top 20 Businesses')"
            ]
          },
          "metadata": {},
          "execution_count": 37
        },
        {
          "output_type": "display_data",
          "data": {
            "text/plain": [
              "<Figure size 720x432 with 1 Axes>"
            ],
            "image/png": "[encoded data removed]"
          },
          "metadata": {
            "needs_background": "light"
          }
        }
      ]
    },
    {
      "cell_type": "code",
      "source": [
        "from pyspark.sql.functions import desc\n",
        "from pyspark.sql.functions import broadcast\n",
        "\n",
        "# Group by business ID and rating, count the number of occurrences, and sort by count in descending order\n",
        "business_rating_counts = review.groupBy('business_id', 'stars') \\\n",
        "                              .count() \\\n",
        "                              .sort(desc('count')) \\\n",
        "                              .cache()\n",
        "\n",
        "# Get the top 20 businesses based on count\n",
        "top_businesses = business_rating_counts.select('business_id').distinct().limit(20)\n",
        "\n",
        "# Broadcast the top businesses DataFrame to all nodes to avoid shuffling\n",
        "broadcast_top_businesses = broadcast(top_businesses)\n",
        "\n",
        "# Filter the original data to only include the top businesses\n",
        "filtered_data = review.join(broadcast_top_businesses, 'business_id')\n",
        "\n",
        "# Group by rating and count the number of occurrences\n",
        "rating_counts = filtered_data.groupBy('stars').count()\n",
        "\n",
        "# Print the result\n",
        "rating_counts.show()\n",
        "\n",
        "# Unpersist the business_rating_counts DataFrame from cache to free up memory\n",
        "business_rating_counts.unpersist()\n"
      ],
      "metadata": {
        "id": "xNJOMJvJzRfy",
        "colab": {
          "base_uri": "https://localhost:8080/"
        },
        "outputId": "5de888b6-c40f-42fc-c2ef-152a3fa6c742"
      },
      "execution_count": 38,
      "outputs": [
        {
          "output_type": "stream",
          "name": "stdout",
          "text": [
            "+-----+-----+\n",
            "|stars|count|\n",
            "+-----+-----+\n",
            "|  1.0|  917|\n",
            "|  4.0| 4083|\n",
            "|  3.0| 1610|\n",
            "|  2.0|  942|\n",
            "|  5.0| 8233|\n",
            "+-----+-----+\n",
            "\n"
          ]
        },
        {
          "output_type": "execute_result",
          "data": {
            "text/plain": [
              "DataFrame[business_id: string, stars: double, count: bigint]"
            ]
          },
          "metadata": {},
          "execution_count": 38
        }
      ]
    },
    {
      "cell_type": "code",
      "source": [
        "from pyspark.sql.functions import approx_count_distinct\n",
        "\n",
        "# Get an estimate of the number of distinct businesses\n",
        "approx_distinct_businesses = review.select(approx_count_distinct('business_id')).collect()[0][0]\n",
        "\n",
        "# Get the top 20 businesses based on count\n",
        "top_businesses = business_rating_counts.select('business_id').groupBy('business_id').count() \\\n",
        "                     .orderBy(desc('count')).limit(20).cache()\n"
      ],
      "metadata": {
        "id": "0qwn8UtzClLR"
      },
      "execution_count": 39,
      "outputs": []
    },
    {
      "cell_type": "code",
      "source": [
        "top_businesses.show()"
      ],
      "metadata": {
        "id": "TXLp0C_CzRee",
        "colab": {
          "base_uri": "https://localhost:8080/"
        },
        "outputId": "731401b9-b3b6-48e9-ea18-aa19a3d39588"
      },
      "execution_count": 40,
      "outputs": [
        {
          "output_type": "stream",
          "name": "stdout",
          "text": [
            "+--------------------+-----+\n",
            "|         business_id|count|\n",
            "+--------------------+-----+\n",
            "|fSYXDavIpIhhIPdkC...|    5|\n",
            "|oLKn_xmyQb_w-xCL6...|    5|\n",
            "|W26UivCfmMj1AIpDr...|    5|\n",
            "|XjuqPaZGBL_9FdV20...|    5|\n",
            "|AwmeLVLEfdFoCa0La...|    5|\n",
            "|2PwFAmpkrHvQwdIu6...|    5|\n",
            "|c6qTaf6hx_4SjgLNU...|    5|\n",
            "|VLPb9RjYi2CWL2mos...|    5|\n",
            "|zaKTWaRh6CwiyeL6V...|    5|\n",
            "|bncTqUdA8ZPcUkDDm...|    5|\n",
            "|vxLV9tci88Hsr1G01...|    5|\n",
            "|ppTEFITIx0DIipyup...|    5|\n",
            "|r6Unwg-mxv_3JrEjQ...|    5|\n",
            "|clHDwRspNDO5hOyyM...|    5|\n",
            "|qFbBDbIjAKdqxJnHu...|    5|\n",
            "|SN7b2DmGYSSIu5ses...|    5|\n",
            "|bYZaftBLgjlKqCCBE...|    5|\n",
            "|pmF7nFVKzEd6dSsQn...|    5|\n",
            "|18zXpz-yBCLHDH3de...|    5|\n",
            "|f493WyCHW4N9rCapd...|    5|\n",
            "+--------------------+-----+\n",
            "\n"
          ]
        }
      ]
    },
    {
      "cell_type": "code",
      "source": [
        "review.count()"
      ],
      "metadata": {
        "id": "p4FVKJJVzRdK",
        "colab": {
          "base_uri": "https://localhost:8080/"
        },
        "outputId": "7a1e8bc3-10ac-414f-e8e6-c0b6b9cad823"
      },
      "execution_count": null,
      "outputs": [
        {
          "output_type": "execute_result",
          "data": {
            "text/plain": [
              "6990280"
            ]
          },
          "metadata": {},
          "execution_count": 82
        }
      ]
    },
    {
      "cell_type": "code",
      "source": [
        "from pyspark.ml.feature import RegexTokenizer, StopWordsRemover\n",
        "\n",
        "tokenizer = RegexTokenizer(inputCol = 'text', outputCol = 'words', pattern='\\s+')\n",
        "tokenized_data = tokenizer.transform(review)"
      ],
      "metadata": {
        "id": "-gRb-vBGzRb6"
      },
      "execution_count": 41,
      "outputs": []
    },
    {
      "cell_type": "code",
      "source": [
        "review.show()"
      ],
      "metadata": {
        "id": "h5cDz2GZzRak",
        "colab": {
          "base_uri": "https://localhost:8080/"
        },
        "outputId": "629ed525-e215-4853-f440-d6751e60b6db"
      },
      "execution_count": 42,
      "outputs": [
        {
          "output_type": "stream",
          "name": "stdout",
          "text": [
            "+--------------------+----+-------------------+-----+--------------------+-----+--------------------+------+--------------------+\n",
            "|         business_id|cool|               date|funny|           review_id|stars|                text|useful|             user_id|\n",
            "+--------------------+----+-------------------+-----+--------------------+-----+--------------------+------+--------------------+\n",
            "|XQfwVwDr-v0ZS3_Cb...|   0|2018-07-07 22:09:11|    0|KU_O5udG6zpxOg-Vc...|  3.0|If you decide to ...|     0|mh_-eMZ6K5RLWhZyI...|\n",
            "|7ATYjTIgM3jUlt4UM...|   1|2012-01-03 15:28:18|    0|BiTunyQ73aT9WBnpR...|  5.0|I've taken a lot ...|     1|OyoGAe7OKpv6SyGZT...|\n",
            "|YjUWPpI6HXG530lwP...|   0|2014-02-05 20:30:30|    0|saUsX_uimxRlCVr67...|  3.0|Family diner. Had...|     0|8g_iMtfSiwikVnbP2...|\n",
            "|kxX2SOes4o-D3ZQBk...|   1|2015-01-04 00:01:03|    0|AqPFMleE6RsU23_au...|  5.0|Wow!  Yummy, diff...|     1|_7bHUi9Uuf5__HHc_...|\n",
            "|e4Vwtrqf-wpJfwesg...|   1|2017-01-14 20:54:15|    0|Sx8TMOWLNuJBWer-0...|  4.0|Cute interior and...|     1|bcjbaE6dDog4jkNY9...|\n",
            "|04UD14gamNjLY0IDY...|   1|2015-09-23 23:10:31|    2|JrIxlS1TzJ-iCu79u...|  1.0|I am a long term ...|     1|eUta8W_HdHMXPzLBB...|\n",
            "|gmjsEdUsKpj9Xxu6p...|   0|2015-01-03 23:21:18|    2|6AxgBCNX_PNTOxmbR...|  5.0|Loved this tour! ...|     0|r3zeYsv1XFBRA4dJp...|\n",
            "|LHSTtnW3YHCeUkRDG...|   0|2015-08-07 02:29:16|    0|_ZeMknuYdlQcUqng_...|  5.0|Amazingly amazing...|     2|yfFzsLmaWF2d4Sr0U...|\n",
            "|B5XSoSG3SfvQGtKEG...|   0|2016-03-30 22:46:33|    1|ZKvDG2sBvHVdF5oBN...|  3.0|This easter inste...|     1|wSTuiTk-sKNdcFypr...|\n",
            "|gebiRewfieSdtt17P...|   0|2016-07-25 07:31:06|    0|pUycOfUwM8vqX7KjR...|  3.0|Had a party of 6 ...|     0|59MxRhNVhU9MYndMk...|\n",
            "|uMvVYRgGNXf5boolA...|   0|2015-06-21 14:48:06|    0|rGQRf8UafX7OTlMNN...|  5.0|My experience wit...|     2|1WHRWwQmZOZDAhp2Q...|\n",
            "|EQ-TZ2eeD_E0BHuvo...|   0|2015-08-19 14:31:45|    0|l3Wk_mvAog6XANIuG...|  4.0|Locals recommende...|     0|ZbqSHbgCjzVAqaa7N...|\n",
            "|lj-E32x9_FA7GmUrB...|   0|2014-06-27 22:44:01|    0|XW_LfMv0fV21l9c6x...|  4.0|Love going here f...|     0|9OAtfnWag-ajVxRbU...|\n",
            "|RZtGWDLCAtuipwaZ-...|   0|2009-10-14 19:57:14|    0|8JFGBuHMoiNDyfcxu...|  4.0|Good food--loved ...|     0|smOvOajNG0lS4Pq7d...|\n",
            "|otQS34_MymijPTdNB...|   0|2011-10-27 17:12:05|    2|UBp0zWyH60Hmw6Fsa...|  4.0|The bun makes the...|     0|4Uh27DgGzsp6PqrH9...|\n",
            "|BVndHaLihEYbr76Z0...|   0|2014-10-11 16:22:06|    0|OAhBYw8IQ6wlfw1ow...|  5.0|Great place for b...|     0|1C2lxzUo1Hyye4RFI...|\n",
            "|YtSqYv1Q_pOltsVPS...|   0|2013-06-24 11:21:25|    0|oyaMhzBSwfGgemSGu...|  5.0|Tremendous servic...|     0|Dd1jQj7S-BFGqRbAp...|\n",
            "|rBdG_23USc7DletfZ...|   0|2014-08-10 19:41:43|    0|LnGZB0fjfgeVDVz5I...|  4.0|The hubby and I h...|     1|j2wlzrntrbKwyOcOi...|\n",
            "|CLEWowfkj-wKYJlQD...|   1|2016-03-07 00:02:18|    0|u2vzZaOqJ2feRshaa...|  5.0|I go to blow bar ...|     2|NDZvyYHTUWWu-kqgQ...|\n",
            "|eFvzHawVJofxSnD7T...|   0|2014-11-12 15:30:27|    0|Xs8Z8lmKkosqW5mw_...|  5.0|My absolute favor...|     0|IQsF3Rc6IgCzjVV9D...|\n",
            "+--------------------+----+-------------------+-----+--------------------+-----+--------------------+------+--------------------+\n",
            "only showing top 20 rows\n",
            "\n"
          ]
        }
      ]
    },
    {
      "cell_type": "code",
      "source": [
        "tokenized_data.show()"
      ],
      "metadata": {
        "id": "hq552_DUzRZe",
        "colab": {
          "base_uri": "https://localhost:8080/"
        },
        "outputId": "f82ca521-8f37-41b9-b47b-aecfc048e735"
      },
      "execution_count": null,
      "outputs": [
        {
          "output_type": "stream",
          "name": "stdout",
          "text": [
            "+--------------------+----+-------------------+-----+--------------------+-----+--------------------+------+--------------------+--------------------+\n",
            "|         business_id|cool|               date|funny|           review_id|stars|                text|useful|             user_id|               words|\n",
            "+--------------------+----+-------------------+-----+--------------------+-----+--------------------+------+--------------------+--------------------+\n",
            "|XQfwVwDr-v0ZS3_Cb...|   0|2018-07-07 22:09:11|    0|KU_O5udG6zpxOg-Vc...|  3.0|If you decide to ...|     0|mh_-eMZ6K5RLWhZyI...|[if, you, decide,...|\n",
            "|7ATYjTIgM3jUlt4UM...|   1|2012-01-03 15:28:18|    0|BiTunyQ73aT9WBnpR...|  5.0|I've taken a lot ...|     1|OyoGAe7OKpv6SyGZT...|[i've, taken, a, ...|\n",
            "|YjUWPpI6HXG530lwP...|   0|2014-02-05 20:30:30|    0|saUsX_uimxRlCVr67...|  3.0|Family diner. Had...|     0|8g_iMtfSiwikVnbP2...|[family, diner., ...|\n",
            "|kxX2SOes4o-D3ZQBk...|   1|2015-01-04 00:01:03|    0|AqPFMleE6RsU23_au...|  5.0|Wow!  Yummy, diff...|     1|_7bHUi9Uuf5__HHc_...|[wow!, yummy,, di...|\n",
            "|e4Vwtrqf-wpJfwesg...|   1|2017-01-14 20:54:15|    0|Sx8TMOWLNuJBWer-0...|  4.0|Cute interior and...|     1|bcjbaE6dDog4jkNY9...|[cute, interior, ...|\n",
            "|04UD14gamNjLY0IDY...|   1|2015-09-23 23:10:31|    2|JrIxlS1TzJ-iCu79u...|  1.0|I am a long term ...|     1|eUta8W_HdHMXPzLBB...|[i, am, a, long, ...|\n",
            "|gmjsEdUsKpj9Xxu6p...|   0|2015-01-03 23:21:18|    2|6AxgBCNX_PNTOxmbR...|  5.0|Loved this tour! ...|     0|r3zeYsv1XFBRA4dJp...|[loved, this, tou...|\n",
            "|LHSTtnW3YHCeUkRDG...|   0|2015-08-07 02:29:16|    0|_ZeMknuYdlQcUqng_...|  5.0|Amazingly amazing...|     2|yfFzsLmaWF2d4Sr0U...|[amazingly, amazi...|\n",
            "|B5XSoSG3SfvQGtKEG...|   0|2016-03-30 22:46:33|    1|ZKvDG2sBvHVdF5oBN...|  3.0|This easter inste...|     1|wSTuiTk-sKNdcFypr...|[this, easter, in...|\n",
            "|gebiRewfieSdtt17P...|   0|2016-07-25 07:31:06|    0|pUycOfUwM8vqX7KjR...|  3.0|Had a party of 6 ...|     0|59MxRhNVhU9MYndMk...|[had, a, party, o...|\n",
            "|uMvVYRgGNXf5boolA...|   0|2015-06-21 14:48:06|    0|rGQRf8UafX7OTlMNN...|  5.0|My experience wit...|     2|1WHRWwQmZOZDAhp2Q...|[my, experience, ...|\n",
            "|EQ-TZ2eeD_E0BHuvo...|   0|2015-08-19 14:31:45|    0|l3Wk_mvAog6XANIuG...|  4.0|Locals recommende...|     0|ZbqSHbgCjzVAqaa7N...|[locals, recommen...|\n",
            "|lj-E32x9_FA7GmUrB...|   0|2014-06-27 22:44:01|    0|XW_LfMv0fV21l9c6x...|  4.0|Love going here f...|     0|9OAtfnWag-ajVxRbU...|[love, going, her...|\n",
            "|RZtGWDLCAtuipwaZ-...|   0|2009-10-14 19:57:14|    0|8JFGBuHMoiNDyfcxu...|  4.0|Good food--loved ...|     0|smOvOajNG0lS4Pq7d...|[good, food--love...|\n",
            "|otQS34_MymijPTdNB...|   0|2011-10-27 17:12:05|    2|UBp0zWyH60Hmw6Fsa...|  4.0|The bun makes the...|     0|4Uh27DgGzsp6PqrH9...|[the, bun, makes,...|\n",
            "|BVndHaLihEYbr76Z0...|   0|2014-10-11 16:22:06|    0|OAhBYw8IQ6wlfw1ow...|  5.0|Great place for b...|     0|1C2lxzUo1Hyye4RFI...|[great, place, fo...|\n",
            "|YtSqYv1Q_pOltsVPS...|   0|2013-06-24 11:21:25|    0|oyaMhzBSwfGgemSGu...|  5.0|Tremendous servic...|     0|Dd1jQj7S-BFGqRbAp...|[tremendous, serv...|\n",
            "|rBdG_23USc7DletfZ...|   0|2014-08-10 19:41:43|    0|LnGZB0fjfgeVDVz5I...|  4.0|The hubby and I h...|     1|j2wlzrntrbKwyOcOi...|[the, hubby, and,...|\n",
            "|CLEWowfkj-wKYJlQD...|   1|2016-03-07 00:02:18|    0|u2vzZaOqJ2feRshaa...|  5.0|I go to blow bar ...|     2|NDZvyYHTUWWu-kqgQ...|[i, go, to, blow,...|\n",
            "|eFvzHawVJofxSnD7T...|   0|2014-11-12 15:30:27|    0|Xs8Z8lmKkosqW5mw_...|  5.0|My absolute favor...|     0|IQsF3Rc6IgCzjVV9D...|[my, absolute, fa...|\n",
            "+--------------------+----+-------------------+-----+--------------------+-----+--------------------+------+--------------------+--------------------+\n",
            "only showing top 20 rows\n",
            "\n"
          ]
        }
      ]
    },
    {
      "cell_type": "code",
      "source": [
        "stop_words = StopWordsRemover.loadDefaultStopWords('english')\n",
        "stop_words_remover = StopWordsRemover(inputCol='words', outputCol ='filtered_words', stopWords = stop_words)\n",
        "filtered_data = stop_words_remover.transform(tokenized_data)"
      ],
      "metadata": {
        "id": "xgnElmGFzRYM"
      },
      "execution_count": 43,
      "outputs": []
    },
    {
      "cell_type": "code",
      "source": [
        "filtered_data.show()"
      ],
      "metadata": {
        "id": "LWLewQGfzRXI",
        "colab": {
          "base_uri": "https://localhost:8080/"
        },
        "outputId": "2fb5c6ea-cdbd-4275-9331-b00a19ee9949"
      },
      "execution_count": null,
      "outputs": [
        {
          "output_type": "stream",
          "name": "stdout",
          "text": [
            "+--------------------+----+-------------------+-----+--------------------+-----+--------------------+------+--------------------+--------------------+--------------------+\n",
            "|         business_id|cool|               date|funny|           review_id|stars|                text|useful|             user_id|               words|      filtered_words|\n",
            "+--------------------+----+-------------------+-----+--------------------+-----+--------------------+------+--------------------+--------------------+--------------------+\n",
            "|XQfwVwDr-v0ZS3_Cb...|   0|2018-07-07 22:09:11|    0|KU_O5udG6zpxOg-Vc...|  3.0|If you decide to ...|     0|mh_-eMZ6K5RLWhZyI...|[if, you, decide,...|[decide, eat, her...|\n",
            "|7ATYjTIgM3jUlt4UM...|   1|2012-01-03 15:28:18|    0|BiTunyQ73aT9WBnpR...|  5.0|I've taken a lot ...|     1|OyoGAe7OKpv6SyGZT...|[i've, taken, a, ...|[taken, lot, spin...|\n",
            "|YjUWPpI6HXG530lwP...|   0|2014-02-05 20:30:30|    0|saUsX_uimxRlCVr67...|  3.0|Family diner. Had...|     0|8g_iMtfSiwikVnbP2...|[family, diner., ...|[family, diner., ...|\n",
            "|kxX2SOes4o-D3ZQBk...|   1|2015-01-04 00:01:03|    0|AqPFMleE6RsU23_au...|  5.0|Wow!  Yummy, diff...|     1|_7bHUi9Uuf5__HHc_...|[wow!, yummy,, di...|[wow!, yummy,, di...|\n",
            "|e4Vwtrqf-wpJfwesg...|   1|2017-01-14 20:54:15|    0|Sx8TMOWLNuJBWer-0...|  4.0|Cute interior and...|     1|bcjbaE6dDog4jkNY9...|[cute, interior, ...|[cute, interior, ...|\n",
            "|04UD14gamNjLY0IDY...|   1|2015-09-23 23:10:31|    2|JrIxlS1TzJ-iCu79u...|  1.0|I am a long term ...|     1|eUta8W_HdHMXPzLBB...|[i, am, a, long, ...|[long, term, freq...|\n",
            "|gmjsEdUsKpj9Xxu6p...|   0|2015-01-03 23:21:18|    2|6AxgBCNX_PNTOxmbR...|  5.0|Loved this tour! ...|     0|r3zeYsv1XFBRA4dJp...|[loved, this, tou...|[loved, tour!, gr...|\n",
            "|LHSTtnW3YHCeUkRDG...|   0|2015-08-07 02:29:16|    0|_ZeMknuYdlQcUqng_...|  5.0|Amazingly amazing...|     2|yfFzsLmaWF2d4Sr0U...|[amazingly, amazi...|[amazingly, amazi...|\n",
            "|B5XSoSG3SfvQGtKEG...|   0|2016-03-30 22:46:33|    1|ZKvDG2sBvHVdF5oBN...|  3.0|This easter inste...|     1|wSTuiTk-sKNdcFypr...|[this, easter, in...|[easter, instead,...|\n",
            "|gebiRewfieSdtt17P...|   0|2016-07-25 07:31:06|    0|pUycOfUwM8vqX7KjR...|  3.0|Had a party of 6 ...|     0|59MxRhNVhU9MYndMk...|[had, a, party, o...|[party, 6, hibach...|\n",
            "|uMvVYRgGNXf5boolA...|   0|2015-06-21 14:48:06|    0|rGQRf8UafX7OTlMNN...|  5.0|My experience wit...|     2|1WHRWwQmZOZDAhp2Q...|[my, experience, ...|[experience, shal...|\n",
            "|EQ-TZ2eeD_E0BHuvo...|   0|2015-08-19 14:31:45|    0|l3Wk_mvAog6XANIuG...|  4.0|Locals recommende...|     0|ZbqSHbgCjzVAqaa7N...|[locals, recommen...|[locals, recommen...|\n",
            "|lj-E32x9_FA7GmUrB...|   0|2014-06-27 22:44:01|    0|XW_LfMv0fV21l9c6x...|  4.0|Love going here f...|     0|9OAtfnWag-ajVxRbU...|[love, going, her...|[love, going, hap...|\n",
            "|RZtGWDLCAtuipwaZ-...|   0|2009-10-14 19:57:14|    0|8JFGBuHMoiNDyfcxu...|  4.0|Good food--loved ...|     0|smOvOajNG0lS4Pq7d...|[good, food--love...|[good, food--love...|\n",
            "|otQS34_MymijPTdNB...|   0|2011-10-27 17:12:05|    2|UBp0zWyH60Hmw6Fsa...|  4.0|The bun makes the...|     0|4Uh27DgGzsp6PqrH9...|[the, bun, makes,...|[bun, makes, sono...|\n",
            "|BVndHaLihEYbr76Z0...|   0|2014-10-11 16:22:06|    0|OAhBYw8IQ6wlfw1ow...|  5.0|Great place for b...|     0|1C2lxzUo1Hyye4RFI...|[great, place, fo...|[great, place, br...|\n",
            "|YtSqYv1Q_pOltsVPS...|   0|2013-06-24 11:21:25|    0|oyaMhzBSwfGgemSGu...|  5.0|Tremendous servic...|     0|Dd1jQj7S-BFGqRbAp...|[tremendous, serv...|[tremendous, serv...|\n",
            "|rBdG_23USc7DletfZ...|   0|2014-08-10 19:41:43|    0|LnGZB0fjfgeVDVz5I...|  4.0|The hubby and I h...|     1|j2wlzrntrbKwyOcOi...|[the, hubby, and,...|[hubby, multiple,...|\n",
            "|CLEWowfkj-wKYJlQD...|   1|2016-03-07 00:02:18|    0|u2vzZaOqJ2feRshaa...|  5.0|I go to blow bar ...|     2|NDZvyYHTUWWu-kqgQ...|[i, go, to, blow,...|[go, blow, bar, g...|\n",
            "|eFvzHawVJofxSnD7T...|   0|2014-11-12 15:30:27|    0|Xs8Z8lmKkosqW5mw_...|  5.0|My absolute favor...|     0|IQsF3Rc6IgCzjVV9D...|[my, absolute, fa...|[absolute, favori...|\n",
            "+--------------------+----+-------------------+-----+--------------------+-----+--------------------+------+--------------------+--------------------+--------------------+\n",
            "only showing top 20 rows\n",
            "\n"
          ]
        }
      ]
    },
    {
      "cell_type": "code",
      "source": [
        "# Remove non-alphabetic characters\n",
        "from pyspark.sql.functions import udf\n",
        "from pyspark.sql.types import ArrayType, StringType\n",
        "import re\n",
        "\n",
        "# Define a user-defined function to remove non-alphabetic characters from words\n",
        "def remove_nonalphabetic(words):\n",
        "    return [re.sub('[^a-zA-Z]', '', word) for word in words]\n",
        "\n",
        "remove_nonalphabetic_udf = udf(remove_nonalphabetic, ArrayType(StringType()))\n",
        "preprocessed_data = filtered_data.withColumn('cleaned_words', remove_nonalphabetic_udf('filtered_words'))"
      ],
      "metadata": {
        "id": "F5vfKaD8zRWI"
      },
      "execution_count": 44,
      "outputs": []
    },
    {
      "cell_type": "code",
      "source": [
        "preprocessed_data.show()"
      ],
      "metadata": {
        "id": "QGAerN_XzRTn",
        "colab": {
          "base_uri": "https://localhost:8080/"
        },
        "outputId": "b510a4eb-ff07-4ea0-a6d0-e2268951bb0b"
      },
      "execution_count": null,
      "outputs": [
        {
          "output_type": "stream",
          "name": "stdout",
          "text": [
            "+--------------------+----+-------------------+-----+--------------------+-----+--------------------+------+--------------------+--------------------+--------------------+--------------------+\n",
            "|         business_id|cool|               date|funny|           review_id|stars|                text|useful|             user_id|               words|      filtered_words|       cleaned_words|\n",
            "+--------------------+----+-------------------+-----+--------------------+-----+--------------------+------+--------------------+--------------------+--------------------+--------------------+\n",
            "|XQfwVwDr-v0ZS3_Cb...|   0|2018-07-07 22:09:11|    0|KU_O5udG6zpxOg-Vc...|  3.0|If you decide to ...|     0|mh_-eMZ6K5RLWhZyI...|[if, you, decide,...|[decide, eat, her...|[decide, eat, her...|\n",
            "|7ATYjTIgM3jUlt4UM...|   1|2012-01-03 15:28:18|    0|BiTunyQ73aT9WBnpR...|  5.0|I've taken a lot ...|     1|OyoGAe7OKpv6SyGZT...|[i've, taken, a, ...|[taken, lot, spin...|[taken, lot, spin...|\n",
            "|YjUWPpI6HXG530lwP...|   0|2014-02-05 20:30:30|    0|saUsX_uimxRlCVr67...|  3.0|Family diner. Had...|     0|8g_iMtfSiwikVnbP2...|[family, diner., ...|[family, diner., ...|[family, diner, b...|\n",
            "|kxX2SOes4o-D3ZQBk...|   1|2015-01-04 00:01:03|    0|AqPFMleE6RsU23_au...|  5.0|Wow!  Yummy, diff...|     1|_7bHUi9Uuf5__HHc_...|[wow!, yummy,, di...|[wow!, yummy,, di...|[wow, yummy, diff...|\n",
            "|e4Vwtrqf-wpJfwesg...|   1|2017-01-14 20:54:15|    0|Sx8TMOWLNuJBWer-0...|  4.0|Cute interior and...|     1|bcjbaE6dDog4jkNY9...|[cute, interior, ...|[cute, interior, ...|[cute, interior, ...|\n",
            "|04UD14gamNjLY0IDY...|   1|2015-09-23 23:10:31|    2|JrIxlS1TzJ-iCu79u...|  1.0|I am a long term ...|     1|eUta8W_HdHMXPzLBB...|[i, am, a, long, ...|[long, term, freq...|[long, term, freq...|\n",
            "|gmjsEdUsKpj9Xxu6p...|   0|2015-01-03 23:21:18|    2|6AxgBCNX_PNTOxmbR...|  5.0|Loved this tour! ...|     0|r3zeYsv1XFBRA4dJp...|[loved, this, tou...|[loved, tour!, gr...|[loved, tour, gra...|\n",
            "|LHSTtnW3YHCeUkRDG...|   0|2015-08-07 02:29:16|    0|_ZeMknuYdlQcUqng_...|  5.0|Amazingly amazing...|     2|yfFzsLmaWF2d4Sr0U...|[amazingly, amazi...|[amazingly, amazi...|[amazingly, amazi...|\n",
            "|B5XSoSG3SfvQGtKEG...|   0|2016-03-30 22:46:33|    1|ZKvDG2sBvHVdF5oBN...|  3.0|This easter inste...|     1|wSTuiTk-sKNdcFypr...|[this, easter, in...|[easter, instead,...|[easter, instead,...|\n",
            "|gebiRewfieSdtt17P...|   0|2016-07-25 07:31:06|    0|pUycOfUwM8vqX7KjR...|  3.0|Had a party of 6 ...|     0|59MxRhNVhU9MYndMk...|[had, a, party, o...|[party, 6, hibach...|[party, , hibachi...|\n",
            "|uMvVYRgGNXf5boolA...|   0|2015-06-21 14:48:06|    0|rGQRf8UafX7OTlMNN...|  5.0|My experience wit...|     2|1WHRWwQmZOZDAhp2Q...|[my, experience, ...|[experience, shal...|[experience, shal...|\n",
            "|EQ-TZ2eeD_E0BHuvo...|   0|2015-08-19 14:31:45|    0|l3Wk_mvAog6XANIuG...|  4.0|Locals recommende...|     0|ZbqSHbgCjzVAqaa7N...|[locals, recommen...|[locals, recommen...|[locals, recommen...|\n",
            "|lj-E32x9_FA7GmUrB...|   0|2014-06-27 22:44:01|    0|XW_LfMv0fV21l9c6x...|  4.0|Love going here f...|     0|9OAtfnWag-ajVxRbU...|[love, going, her...|[love, going, hap...|[love, going, hap...|\n",
            "|RZtGWDLCAtuipwaZ-...|   0|2009-10-14 19:57:14|    0|8JFGBuHMoiNDyfcxu...|  4.0|Good food--loved ...|     0|smOvOajNG0lS4Pq7d...|[good, food--love...|[good, food--love...|[good, foodloved,...|\n",
            "|otQS34_MymijPTdNB...|   0|2011-10-27 17:12:05|    2|UBp0zWyH60Hmw6Fsa...|  4.0|The bun makes the...|     0|4Uh27DgGzsp6PqrH9...|[the, bun, makes,...|[bun, makes, sono...|[bun, makes, sono...|\n",
            "|BVndHaLihEYbr76Z0...|   0|2014-10-11 16:22:06|    0|OAhBYw8IQ6wlfw1ow...|  5.0|Great place for b...|     0|1C2lxzUo1Hyye4RFI...|[great, place, fo...|[great, place, br...|[great, place, br...|\n",
            "|YtSqYv1Q_pOltsVPS...|   0|2013-06-24 11:21:25|    0|oyaMhzBSwfGgemSGu...|  5.0|Tremendous servic...|     0|Dd1jQj7S-BFGqRbAp...|[tremendous, serv...|[tremendous, serv...|[tremendous, serv...|\n",
            "|rBdG_23USc7DletfZ...|   0|2014-08-10 19:41:43|    0|LnGZB0fjfgeVDVz5I...|  4.0|The hubby and I h...|     1|j2wlzrntrbKwyOcOi...|[the, hubby, and,...|[hubby, multiple,...|[hubby, multiple,...|\n",
            "|CLEWowfkj-wKYJlQD...|   1|2016-03-07 00:02:18|    0|u2vzZaOqJ2feRshaa...|  5.0|I go to blow bar ...|     2|NDZvyYHTUWWu-kqgQ...|[i, go, to, blow,...|[go, blow, bar, g...|[go, blow, bar, g...|\n",
            "|eFvzHawVJofxSnD7T...|   0|2014-11-12 15:30:27|    0|Xs8Z8lmKkosqW5mw_...|  5.0|My absolute favor...|     0|IQsF3Rc6IgCzjVV9D...|[my, absolute, fa...|[absolute, favori...|[absolute, favori...|\n",
            "+--------------------+----+-------------------+-----+--------------------+-----+--------------------+------+--------------------+--------------------+--------------------+--------------------+\n",
            "only showing top 20 rows\n",
            "\n"
          ]
        }
      ]
    },
    {
      "cell_type": "code",
      "source": [
        "from pyspark.ml.feature import CountVectorizer\n",
        "\n",
        "# Convert the text data to bag-of-words representation\n",
        "vectorizer = CountVectorizer(inputCol='cleaned_words', outputCol='features')\n",
        "vectorized_data = vectorizer.fit(preprocessed_data).transform(preprocessed_data)\n",
        "\n",
        "# Train the LDA model\n",
        "from pyspark.ml.clustering import LDA\n",
        "\n",
        "num_topics = 10\n",
        "lda = LDA(k=num_topics, maxIter=10)\n",
        "lda_model = lda.fit(vectorized_data)\n"
      ],
      "metadata": {
        "id": "8o1R57rpzRSF",
        "colab": {
          "base_uri": "https://localhost:8080/",
          "height": 536
        },
        "outputId": "269ece2e-d46f-4d96-8b00-30daded1e00e"
      },
      "execution_count": 45,
      "outputs": [
        {
          "output_type": "stream",
          "name": "stderr",
          "text": [
            "ERROR:root:KeyboardInterrupt while sending command.\n",
            "Traceback (most recent call last):\n",
            "  File \"/usr/local/lib/python3.9/dist-packages/py4j/java_gateway.py\", line 1038, in send_command\n",
            "    response = connection.send_command(command)\n",
            "  File \"/usr/local/lib/python3.9/dist-packages/py4j/clientserver.py\", line 511, in send_command\n",
            "    answer = smart_decode(self.stream.readline()[:-1])\n",
            "  File \"/usr/lib/python3.9/socket.py\", line 704, in readinto\n",
            "    return self._sock.recv_into(b)\n",
            "KeyboardInterrupt\n"
          ]
        },
        {
          "output_type": "error",
          "ename": "KeyboardInterrupt",
          "evalue": "ignored",
          "traceback": [
            "\u001b[0;31m---------------------------------------------------------------------------\u001b[0m",
            "\u001b[0;31mKeyboardInterrupt\u001b[0m                         Traceback (most recent call last)",
            "\u001b[0;32m<ipython-input-45-d66321c32af2>\u001b[0m in \u001b[0;36m<module>\u001b[0;34m\u001b[0m\n\u001b[1;32m      3\u001b[0m \u001b[0;31m# Convert the text data to bag-of-words representation\u001b[0m\u001b[0;34m\u001b[0m\u001b[0;34m\u001b[0m\u001b[0m\n\u001b[1;32m      4\u001b[0m \u001b[0mvectorizer\u001b[0m \u001b[0;34m=\u001b[0m \u001b[0mCountVectorizer\u001b[0m\u001b[0;34m(\u001b[0m\u001b[0minputCol\u001b[0m\u001b[0;34m=\u001b[0m\u001b[0;34m'cleaned_words'\u001b[0m\u001b[0;34m,\u001b[0m \u001b[0moutputCol\u001b[0m\u001b[0;34m=\u001b[0m\u001b[0;34m'features'\u001b[0m\u001b[0;34m)\u001b[0m\u001b[0;34m\u001b[0m\u001b[0;34m\u001b[0m\u001b[0m\n\u001b[0;32m----> 5\u001b[0;31m \u001b[0mvectorized_data\u001b[0m \u001b[0;34m=\u001b[0m \u001b[0mvectorizer\u001b[0m\u001b[0;34m.\u001b[0m\u001b[0mfit\u001b[0m\u001b[0;34m(\u001b[0m\u001b[0mpreprocessed_data\u001b[0m\u001b[0;34m)\u001b[0m\u001b[0;34m.\u001b[0m\u001b[0mtransform\u001b[0m\u001b[0;34m(\u001b[0m\u001b[0mpreprocessed_data\u001b[0m\u001b[0;34m)\u001b[0m\u001b[0;34m\u001b[0m\u001b[0;34m\u001b[0m\u001b[0m\n\u001b[0m\u001b[1;32m      6\u001b[0m \u001b[0;34m\u001b[0m\u001b[0m\n\u001b[1;32m      7\u001b[0m \u001b[0;31m# Train the LDA model\u001b[0m\u001b[0;34m\u001b[0m\u001b[0;34m\u001b[0m\u001b[0m\n",
            "\u001b[0;32m/usr/local/lib/python3.9/dist-packages/pyspark/ml/base.py\u001b[0m in \u001b[0;36mfit\u001b[0;34m(self, dataset, params)\u001b[0m\n\u001b[1;32m    203\u001b[0m                 \u001b[0;32mreturn\u001b[0m \u001b[0mself\u001b[0m\u001b[0;34m.\u001b[0m\u001b[0mcopy\u001b[0m\u001b[0;34m(\u001b[0m\u001b[0mparams\u001b[0m\u001b[0;34m)\u001b[0m\u001b[0;34m.\u001b[0m\u001b[0m_fit\u001b[0m\u001b[0;34m(\u001b[0m\u001b[0mdataset\u001b[0m\u001b[0;34m)\u001b[0m\u001b[0;34m\u001b[0m\u001b[0;34m\u001b[0m\u001b[0m\n\u001b[1;32m    204\u001b[0m             \u001b[0;32melse\u001b[0m\u001b[0;34m:\u001b[0m\u001b[0;34m\u001b[0m\u001b[0;34m\u001b[0m\u001b[0m\n\u001b[0;32m--> 205\u001b[0;31m                 \u001b[0;32mreturn\u001b[0m \u001b[0mself\u001b[0m\u001b[0;34m.\u001b[0m\u001b[0m_fit\u001b[0m\u001b[0;34m(\u001b[0m\u001b[0mdataset\u001b[0m\u001b[0;34m)\u001b[0m\u001b[0;34m\u001b[0m\u001b[0;34m\u001b[0m\u001b[0m\n\u001b[0m\u001b[1;32m    206\u001b[0m         \u001b[0;32melse\u001b[0m\u001b[0;34m:\u001b[0m\u001b[0;34m\u001b[0m\u001b[0;34m\u001b[0m\u001b[0m\n\u001b[1;32m    207\u001b[0m             raise TypeError(\n",
            "\u001b[0;32m/usr/local/lib/python3.9/dist-packages/pyspark/ml/wrapper.py\u001b[0m in \u001b[0;36m_fit\u001b[0;34m(self, dataset)\u001b[0m\n\u001b[1;32m    381\u001b[0m \u001b[0;34m\u001b[0m\u001b[0m\n\u001b[1;32m    382\u001b[0m     \u001b[0;32mdef\u001b[0m \u001b[0m_fit\u001b[0m\u001b[0;34m(\u001b[0m\u001b[0mself\u001b[0m\u001b[0;34m,\u001b[0m \u001b[0mdataset\u001b[0m\u001b[0;34m:\u001b[0m \u001b[0mDataFrame\u001b[0m\u001b[0;34m)\u001b[0m \u001b[0;34m->\u001b[0m \u001b[0mJM\u001b[0m\u001b[0;34m:\u001b[0m\u001b[0;34m\u001b[0m\u001b[0;34m\u001b[0m\u001b[0m\n\u001b[0;32m--> 383\u001b[0;31m         \u001b[0mjava_model\u001b[0m \u001b[0;34m=\u001b[0m \u001b[0mself\u001b[0m\u001b[0;34m.\u001b[0m\u001b[0m_fit_java\u001b[0m\u001b[0;34m(\u001b[0m\u001b[0mdataset\u001b[0m\u001b[0;34m)\u001b[0m\u001b[0;34m\u001b[0m\u001b[0;34m\u001b[0m\u001b[0m\n\u001b[0m\u001b[1;32m    384\u001b[0m         \u001b[0mmodel\u001b[0m \u001b[0;34m=\u001b[0m \u001b[0mself\u001b[0m\u001b[0;34m.\u001b[0m\u001b[0m_create_model\u001b[0m\u001b[0;34m(\u001b[0m\u001b[0mjava_model\u001b[0m\u001b[0;34m)\u001b[0m\u001b[0;34m\u001b[0m\u001b[0;34m\u001b[0m\u001b[0m\n\u001b[1;32m    385\u001b[0m         \u001b[0;32mreturn\u001b[0m \u001b[0mself\u001b[0m\u001b[0;34m.\u001b[0m\u001b[0m_copyValues\u001b[0m\u001b[0;34m(\u001b[0m\u001b[0mmodel\u001b[0m\u001b[0;34m)\u001b[0m\u001b[0;34m\u001b[0m\u001b[0;34m\u001b[0m\u001b[0m\n",
            "\u001b[0;32m/usr/local/lib/python3.9/dist-packages/pyspark/ml/wrapper.py\u001b[0m in \u001b[0;36m_fit_java\u001b[0;34m(self, dataset)\u001b[0m\n\u001b[1;32m    378\u001b[0m \u001b[0;34m\u001b[0m\u001b[0m\n\u001b[1;32m    379\u001b[0m         \u001b[0mself\u001b[0m\u001b[0;34m.\u001b[0m\u001b[0m_transfer_params_to_java\u001b[0m\u001b[0;34m(\u001b[0m\u001b[0;34m)\u001b[0m\u001b[0;34m\u001b[0m\u001b[0;34m\u001b[0m\u001b[0m\n\u001b[0;32m--> 380\u001b[0;31m         \u001b[0;32mreturn\u001b[0m \u001b[0mself\u001b[0m\u001b[0;34m.\u001b[0m\u001b[0m_java_obj\u001b[0m\u001b[0;34m.\u001b[0m\u001b[0mfit\u001b[0m\u001b[0;34m(\u001b[0m\u001b[0mdataset\u001b[0m\u001b[0;34m.\u001b[0m\u001b[0m_jdf\u001b[0m\u001b[0;34m)\u001b[0m\u001b[0;34m\u001b[0m\u001b[0;34m\u001b[0m\u001b[0m\n\u001b[0m\u001b[1;32m    381\u001b[0m \u001b[0;34m\u001b[0m\u001b[0m\n\u001b[1;32m    382\u001b[0m     \u001b[0;32mdef\u001b[0m \u001b[0m_fit\u001b[0m\u001b[0;34m(\u001b[0m\u001b[0mself\u001b[0m\u001b[0;34m,\u001b[0m \u001b[0mdataset\u001b[0m\u001b[0;34m:\u001b[0m \u001b[0mDataFrame\u001b[0m\u001b[0;34m)\u001b[0m \u001b[0;34m->\u001b[0m \u001b[0mJM\u001b[0m\u001b[0;34m:\u001b[0m\u001b[0;34m\u001b[0m\u001b[0;34m\u001b[0m\u001b[0m\n",
            "\u001b[0;32m/usr/local/lib/python3.9/dist-packages/py4j/java_gateway.py\u001b[0m in \u001b[0;36m__call__\u001b[0;34m(self, *args)\u001b[0m\n\u001b[1;32m   1318\u001b[0m             \u001b[0mproto\u001b[0m\u001b[0;34m.\u001b[0m\u001b[0mEND_COMMAND_PART\u001b[0m\u001b[0;34m\u001b[0m\u001b[0;34m\u001b[0m\u001b[0m\n\u001b[1;32m   1319\u001b[0m \u001b[0;34m\u001b[0m\u001b[0m\n\u001b[0;32m-> 1320\u001b[0;31m         \u001b[0manswer\u001b[0m \u001b[0;34m=\u001b[0m \u001b[0mself\u001b[0m\u001b[0;34m.\u001b[0m\u001b[0mgateway_client\u001b[0m\u001b[0;34m.\u001b[0m\u001b[0msend_command\u001b[0m\u001b[0;34m(\u001b[0m\u001b[0mcommand\u001b[0m\u001b[0;34m)\u001b[0m\u001b[0;34m\u001b[0m\u001b[0;34m\u001b[0m\u001b[0m\n\u001b[0m\u001b[1;32m   1321\u001b[0m         return_value = get_return_value(\n\u001b[1;32m   1322\u001b[0m             answer, self.gateway_client, self.target_id, self.name)\n",
            "\u001b[0;32m/usr/local/lib/python3.9/dist-packages/py4j/java_gateway.py\u001b[0m in \u001b[0;36msend_command\u001b[0;34m(self, command, retry, binary)\u001b[0m\n\u001b[1;32m   1036\u001b[0m         \u001b[0mconnection\u001b[0m \u001b[0;34m=\u001b[0m \u001b[0mself\u001b[0m\u001b[0;34m.\u001b[0m\u001b[0m_get_connection\u001b[0m\u001b[0;34m(\u001b[0m\u001b[0;34m)\u001b[0m\u001b[0;34m\u001b[0m\u001b[0;34m\u001b[0m\u001b[0m\n\u001b[1;32m   1037\u001b[0m         \u001b[0;32mtry\u001b[0m\u001b[0;34m:\u001b[0m\u001b[0;34m\u001b[0m\u001b[0;34m\u001b[0m\u001b[0m\n\u001b[0;32m-> 1038\u001b[0;31m             \u001b[0mresponse\u001b[0m \u001b[0;34m=\u001b[0m \u001b[0mconnection\u001b[0m\u001b[0;34m.\u001b[0m\u001b[0msend_command\u001b[0m\u001b[0;34m(\u001b[0m\u001b[0mcommand\u001b[0m\u001b[0;34m)\u001b[0m\u001b[0;34m\u001b[0m\u001b[0;34m\u001b[0m\u001b[0m\n\u001b[0m\u001b[1;32m   1039\u001b[0m             \u001b[0;32mif\u001b[0m \u001b[0mbinary\u001b[0m\u001b[0;34m:\u001b[0m\u001b[0;34m\u001b[0m\u001b[0;34m\u001b[0m\u001b[0m\n\u001b[1;32m   1040\u001b[0m                 \u001b[0;32mreturn\u001b[0m \u001b[0mresponse\u001b[0m\u001b[0;34m,\u001b[0m \u001b[0mself\u001b[0m\u001b[0;34m.\u001b[0m\u001b[0m_create_connection_guard\u001b[0m\u001b[0;34m(\u001b[0m\u001b[0mconnection\u001b[0m\u001b[0;34m)\u001b[0m\u001b[0;34m\u001b[0m\u001b[0;34m\u001b[0m\u001b[0m\n",
            "\u001b[0;32m/usr/local/lib/python3.9/dist-packages/py4j/clientserver.py\u001b[0m in \u001b[0;36msend_command\u001b[0;34m(self, command)\u001b[0m\n\u001b[1;32m    509\u001b[0m         \u001b[0;32mtry\u001b[0m\u001b[0;34m:\u001b[0m\u001b[0;34m\u001b[0m\u001b[0;34m\u001b[0m\u001b[0m\n\u001b[1;32m    510\u001b[0m             \u001b[0;32mwhile\u001b[0m \u001b[0;32mTrue\u001b[0m\u001b[0;34m:\u001b[0m\u001b[0;34m\u001b[0m\u001b[0;34m\u001b[0m\u001b[0m\n\u001b[0;32m--> 511\u001b[0;31m                 \u001b[0manswer\u001b[0m \u001b[0;34m=\u001b[0m \u001b[0msmart_decode\u001b[0m\u001b[0;34m(\u001b[0m\u001b[0mself\u001b[0m\u001b[0;34m.\u001b[0m\u001b[0mstream\u001b[0m\u001b[0;34m.\u001b[0m\u001b[0mreadline\u001b[0m\u001b[0;34m(\u001b[0m\u001b[0;34m)\u001b[0m\u001b[0;34m[\u001b[0m\u001b[0;34m:\u001b[0m\u001b[0;34m-\u001b[0m\u001b[0;36m1\u001b[0m\u001b[0;34m]\u001b[0m\u001b[0;34m)\u001b[0m\u001b[0;34m\u001b[0m\u001b[0;34m\u001b[0m\u001b[0m\n\u001b[0m\u001b[1;32m    512\u001b[0m                 \u001b[0mlogger\u001b[0m\u001b[0;34m.\u001b[0m\u001b[0mdebug\u001b[0m\u001b[0;34m(\u001b[0m\u001b[0;34m\"Answer received: {0}\"\u001b[0m\u001b[0;34m.\u001b[0m\u001b[0mformat\u001b[0m\u001b[0;34m(\u001b[0m\u001b[0manswer\u001b[0m\u001b[0;34m)\u001b[0m\u001b[0;34m)\u001b[0m\u001b[0;34m\u001b[0m\u001b[0;34m\u001b[0m\u001b[0m\n\u001b[1;32m    513\u001b[0m                 \u001b[0;31m# Happens when a the other end is dead. There might be an empty\u001b[0m\u001b[0;34m\u001b[0m\u001b[0;34m\u001b[0m\u001b[0m\n",
            "\u001b[0;32m/usr/lib/python3.9/socket.py\u001b[0m in \u001b[0;36mreadinto\u001b[0;34m(self, b)\u001b[0m\n\u001b[1;32m    702\u001b[0m         \u001b[0;32mwhile\u001b[0m \u001b[0;32mTrue\u001b[0m\u001b[0;34m:\u001b[0m\u001b[0;34m\u001b[0m\u001b[0;34m\u001b[0m\u001b[0m\n\u001b[1;32m    703\u001b[0m             \u001b[0;32mtry\u001b[0m\u001b[0;34m:\u001b[0m\u001b[0;34m\u001b[0m\u001b[0;34m\u001b[0m\u001b[0m\n\u001b[0;32m--> 704\u001b[0;31m                 \u001b[0;32mreturn\u001b[0m \u001b[0mself\u001b[0m\u001b[0;34m.\u001b[0m\u001b[0m_sock\u001b[0m\u001b[0;34m.\u001b[0m\u001b[0mrecv_into\u001b[0m\u001b[0;34m(\u001b[0m\u001b[0mb\u001b[0m\u001b[0;34m)\u001b[0m\u001b[0;34m\u001b[0m\u001b[0;34m\u001b[0m\u001b[0m\n\u001b[0m\u001b[1;32m    705\u001b[0m             \u001b[0;32mexcept\u001b[0m \u001b[0mtimeout\u001b[0m\u001b[0;34m:\u001b[0m\u001b[0;34m\u001b[0m\u001b[0;34m\u001b[0m\u001b[0m\n\u001b[1;32m    706\u001b[0m                 \u001b[0mself\u001b[0m\u001b[0;34m.\u001b[0m\u001b[0m_timeout_occurred\u001b[0m \u001b[0;34m=\u001b[0m \u001b[0;32mTrue\u001b[0m\u001b[0;34m\u001b[0m\u001b[0;34m\u001b[0m\u001b[0m\n",
            "\u001b[0;31mKeyboardInterrupt\u001b[0m: "
          ]
        }
      ]
    },
    {
      "cell_type": "code",
      "source": [
        "transformed_data = lda_model.transform(vectorized_data)"
      ],
      "metadata": {
        "id": "1h71eP8PzRQe"
      },
      "execution_count": null,
      "outputs": []
    },
    {
      "cell_type": "code",
      "source": [
        "import pyspark.sql.functions as F\n",
        "\n",
        "# Assuming your DataFrame is called `df` and the column you want to filter on is called `categories`\n",
        "df = business.filter(F.col(\"categories\").isNotNull())"
      ],
      "metadata": {
        "id": "VIEAc6SyzROs"
      },
      "execution_count": 47,
      "outputs": []
    },
    {
      "cell_type": "code",
      "source": [
        "import pyspark.sql.functions as F\n",
        "from pyspark.ml.feature import Tokenizer, CountVectorizer\n",
        "\n",
        "# Replace commas with spaces in the categories column\n",
        "df = df.withColumn(\"categories\", F.regexp_replace(F.col(\"categories\"), \",\", \" \"))\n",
        "\n",
        "# Define a tokenizer to split the categories column into individual words\n",
        "tokenizer = Tokenizer(inputCol=\"categories\", outputCol=\"words\")\n",
        "\n",
        "# Define a count vectorizer to count the occurrence of each word in the column\n",
        "cv = CountVectorizer(inputCol=\"words\", outputCol=\"features\", vocabSize=1000, minDF=5)\n",
        "\n",
        "# Fit the tokenizer and count vectorizer on the data\n",
        "words = tokenizer.transform(df)\n",
        "cv_model = cv.fit(words)\n",
        "\n",
        "# Get the top 20 most common words in the column\n",
        "top_words = cv_model.vocabulary[2:30]\n"
      ],
      "metadata": {
        "id": "lExdkpmmzRNG"
      },
      "execution_count": 67,
      "outputs": []
    },
    {
      "cell_type": "code",
      "source": [
        "top_words"
      ],
      "metadata": {
        "id": "EQXLmsGFzRLy",
        "colab": {
          "base_uri": "https://localhost:8080/"
        },
        "outputId": "a72943fa-68cb-48d0-90a9-6cc5f602bca7"
      },
      "execution_count": 68,
      "outputs": [
        {
          "output_type": "execute_result",
          "data": {
            "text/plain": [
              "['services',\n",
              " 'restaurants',\n",
              " 'food',\n",
              " 'shopping',\n",
              " 'home',\n",
              " 'bars',\n",
              " 'spas',\n",
              " 'beauty',\n",
              " 'american',\n",
              " 'medical',\n",
              " 'event',\n",
              " 'health',\n",
              " 'local',\n",
              " 'nightlife',\n",
              " 'planning',\n",
              " 'hair',\n",
              " 'repair',\n",
              " 'stores',\n",
              " 'automotive',\n",
              " 'salons',\n",
              " 'auto',\n",
              " 'hotels',\n",
              " 'sandwiches',\n",
              " '(traditional)',\n",
              " 'pet',\n",
              " 'life',\n",
              " 'arts',\n",
              " 'active']"
            ]
          },
          "metadata": {},
          "execution_count": 68
        }
      ]
    },
    {
      "cell_type": "code",
      "source": [
        "import pyspark.sql.functions as F\n",
        "from pyspark.sql.types import StringType\n",
        "\n",
        "# Assuming your DataFrame is called `df`, and the top words are stored in a DataFrame called `top_words`\n",
        "\n",
        "# Define a user-defined function to simplify the categories column based on the top words\n",
        "def simplify_categories(categories):\n",
        "    for word in top_words:\n",
        "        if word in categories.lower():\n",
        "            return word\n",
        "    return 'other'\n",
        "\n",
        "# Register the UDF\n",
        "udf_simplify_categories = F.udf(simplify_categories, StringType())\n",
        "\n",
        "# Create a new column in the DataFrame called \"simplified\"\n",
        "df = df.withColumn(\"simplified\", udf_simplify_categories('categories'))"
      ],
      "metadata": {
        "id": "6dpktatnzRKU"
      },
      "execution_count": 69,
      "outputs": []
    },
    {
      "cell_type": "code",
      "source": [
        "df.show()"
      ],
      "metadata": {
        "id": "BI3UQ7W3zRIw",
        "colab": {
          "base_uri": "https://localhost:8080/"
        },
        "outputId": "fec164db-3003-4287-d424-ded6bb388a52"
      },
      "execution_count": 62,
      "outputs": [
        {
          "output_type": "stream",
          "name": "stdout",
          "text": [
            "+--------------------+--------------------+--------------------+--------------------+--------------+--------------------+-------+-------------+--------------+--------------------+-----------+------------+-----+-----+--------------------+--------------------+-----------+\n",
            "|             address|          attributes|         business_id|          categories|          city|               hours|is_open|     latitude|     longitude|                name|postal_code|review_count|stars|state|            category|      categories_arr| simplified|\n",
            "+--------------------+--------------------+--------------------+--------------------+--------------+--------------------+-------+-------------+--------------+--------------------+-----------+------------+-----+-----+--------------------+--------------------+-----------+\n",
            "|1616 Chapala St, ...|{null, null, null...|Pns2l4eNsfO8kk83d...|Doctors  Traditio...| Santa Barbara|                null|      0|   34.4266787|  -119.7111968|Abby Rappoport, L...|      93101|           7|  5.0|   CA|Doctors, Traditio...|[Doctors, Traditi...|    medical|\n",
            "|87 Grasso Plaza S...|{null, null, null...|mpf3x-BjTdTEA3yCZ...|Shipping Centers ...|        Affton|{8:0-18:30, 0:0-0...|      1|    38.551126|    -90.335695|       The UPS Store|      63123|          15|  3.0|   MO|Shipping Centers,...|[Shipping Centers...|   services|\n",
            "|5255 E Broadway Blvd|{null, null, null...|tUFrWirKiKi_TAnsV...|Department Stores...|        Tucson|{8:0-23:0, 8:0-22...|      0|    32.223236|   -110.880452|              Target|      85711|          22|  3.5|   AZ|Department Stores...|[Department Store...|   shopping|\n",
            "|         935 Race St|{null, null, u'no...|MTSW4McQd7CbVtyjq...|Restaurants  Food...|  Philadelphia|{7:0-21:0, 7:0-20...|      1|   39.9555052|   -75.1555641|  St Honore Pastries|      19107|          80|  4.0|   PA|Restaurants, Food...|[Restaurants, Foo...|restaurants|\n",
            "|       101 Walnut St|{null, null, null...|mWMc6_wTdE0EUBKIG...|Brewpubs  Breweri...|    Green Lane|{12:0-22:0, null,...|      1|   40.3381827|   -75.4716585|Perkiomen Valley ...|      18054|          13|  4.5|   PA|Brewpubs, Breweri...|[Brewpubs, Brewer...|       food|\n",
            "|       615 S Main St|{null, null, u'no...|CF33F8-E6oudUQ46H...|Burgers  Fast Foo...|  Ashland City|{9:0-0:0, 0:0-0:0...|      1|    36.269593|    -87.058943|      Sonic Drive-In|      37015|           6|  2.0|   TN|Burgers, Fast Foo...|[Burgers, Fast Fo...|restaurants|\n",
            "|8522 Eager Road, ...|{null, null, null...|n_0UpQx1hsNbnPUSl...|Sporting Goods  F...|     Brentwood|{10:0-18:0, 0:0-0...|      1|    38.627695|    -90.340465|     Famous Footwear|      63144|          13|  2.5|   MO|Sporting Goods, F...|[Sporting Goods, ...|   shopping|\n",
            "|  400 Pasadena Ave S|                null|qkRM_2X51Yqxk3btl...|Synagogues  Relig...|St. Petersburg|{9:0-17:0, 9:0-17...|      1|     27.76659|    -82.732983|      Temple Beth-El|      33707|           5|  3.5|   FL|Synagogues, Relig...|[Synagogues, Reli...|      other|\n",
            "|   8025 Mackenzie Rd|{null, null, u'fu...|k0hlBqXX-Bt0vf1op...|Pubs  Restaurants...|        Affton|                null|      0|   38.5651648|   -90.3210868|Tsevi's Pub And G...|      63123|          19|  3.0|   MO|Pubs, Restaurants...|[Pubs, Restaurant...|restaurants|\n",
            "| 2312 Dickerson Pike|{null, null, u'no...|bBDDEgkFA1Otx9Lfe...|Ice Cream & Froze...|     Nashville|{6:0-16:0, 0:0-0:...|      1|   36.2081024|   -86.7681696|      Sonic Drive-In|      37207|          10|  1.5|   TN|Ice Cream & Froze...|[Ice Cream & Froz...|restaurants|\n",
            "|21705 Village Lak...|{null, null, null...|UJsufbvfyfONHeWdv...|Department Stores...| Land O' Lakes|{9:30-21:30, 9:30...|      1|28.1904587953|-82.4573802199|           Marshalls|      34639|           6|  3.5|   FL|Department Stores...|[Department Store...|   shopping|\n",
            "|                    |{null, null, 'non...|eEOYSgkmpB90uNA7l...|Vietnamese  Food ...|     Tampa Bay|{11:0-14:0, 11:0-...|      1|   27.9552692|   -82.4563199|Vietnamese Food T...|      33602|          10|  4.0|   FL|Vietnamese, Food,...|[Vietnamese, Food...|restaurants|\n",
            "|        8901 US 31 S|{null, null, 'non...|il_Ro8jwPlHresjw9...|American (Traditi...|  Indianapolis|{6:0-22:0, 6:0-22...|      1|39.6371332838| -86.127217412|             Denny's|      46227|          28|  2.5|   IN|American (Traditi...|[American (Tradit...|restaurants|\n",
            "|   15 N Missouri Ave|{null, null, null...|jaxMSoInw8Poo3XeM...|General Dentistry...|    Clearwater|{null, 7:30-15:30...|      1|    27.966235|    -82.787412|        Adams Dental|      33755|          10|  5.0|   FL|General Dentistry...|[General Dentistr...|    medical|\n",
            "|       2575 E Bay Dr|{null, null, u'no...|0bPLkL0QhhPO5kt1_...|Food  Delis  Ital...|         Largo|{10:0-20:0, 10:0-...|      0|   27.9161159|   -82.7604608|Zio's Italian Market|      33771|         100|  4.5|   FL|Food, Delis, Ital...|[Food, Delis, Ita...|restaurants|\n",
            "|         205 Race St|{null, null, 'ful...|MUTTqe8uqyMdBl186...|Sushi Bars  Resta...|  Philadelphia|{13:30-23:0, null...|      1|    39.953949|   -75.1432262|            Tuna Bar|      19106|         245|  4.0|   PA|Sushi Bars, Resta...|[Sushi Bars, Rest...|restaurants|\n",
            "|     625 N Stone Ave|{null, null, null...|rBmpy_Y1UbBx8ggHl...|Automotive  Auto ...|        Tucson|{8:0-17:0, 0:0-0:...|      1|   32.2298719|  -110.9723419|Arizona Truck Out...|      85705|          10|  4.5|   AZ|Automotive, Auto ...|[Automotive, Auto...|      other|\n",
            "|        712 Adams St|{null, null, null...|M0XSSHqrASOnhgbWD...|Vape Shops  Tobac...|   New Orleans|{10:0-19:0, 10:0-...|      1|29.9414679565| -90.129952757|      Herb Import Co|      70118|           5|  4.0|   LA|Vape Shops, Tobac...|[Vape Shops, Toba...|   shopping|\n",
            "|     1241 Airline Dr|                null|8wGISYjYkE2tSqn3c...|Automotive  Car R...|        Kenner|{8:0-17:0, 8:0-17...|      1|    29.981183|   -90.2540123|    Nifty Car Rental|      70062|          14|  3.5|   LA|Automotive, Car R...|[Automotive, Car ...|      other|\n",
            "|       1224 South St|{null, null, u'no...|ROeacJQwBeh05Rqg7...| Korean  Restaurants|  Philadelphia|{11:30-20:30, 11:...|      1|    39.943223|    -75.162568|                 BAP|      19147|         205|  4.5|   PA| Korean, Restaurants|[Korean, Restaura...|restaurants|\n",
            "+--------------------+--------------------+--------------------+--------------------+--------------+--------------------+-------+-------------+--------------+--------------------+-----------+------------+-----+-----+--------------------+--------------------+-----------+\n",
            "only showing top 20 rows\n",
            "\n"
          ]
        }
      ]
    },
    {
      "cell_type": "code",
      "source": [
        "df.groupBy('simplified').count().orderBy('count').show()\n"
      ],
      "metadata": {
        "id": "NqxcWd1czRHV",
        "colab": {
          "base_uri": "https://localhost:8080/"
        },
        "outputId": "fb62a9e2-7f75-4a18-fd11-a6510993a41b"
      },
      "execution_count": 71,
      "outputs": [
        {
          "output_type": "stream",
          "name": "stdout",
          "text": [
            "+-----------+-----+\n",
            "| simplified|count|\n",
            "+-----------+-----+\n",
            "|     health|    2|\n",
            "|      event|   18|\n",
            "|       home|  111|\n",
            "|     stores|  254|\n",
            "|      local|  418|\n",
            "|  nightlife|  447|\n",
            "|      other|  592|\n",
            "|        pet|  686|\n",
            "|       arts|  790|\n",
            "|     hotels| 1442|\n",
            "|       bars| 1906|\n",
            "| automotive| 2921|\n",
            "|       life| 3812|\n",
            "|     repair| 5117|\n",
            "|    medical| 6782|\n",
            "|       spas|11148|\n",
            "|       food|11203|\n",
            "|   shopping|13881|\n",
            "|   services|40387|\n",
            "|restaurants|48326|\n",
            "+-----------+-----+\n",
            "\n"
          ]
        }
      ]
    },
    {
      "cell_type": "code",
      "source": [
        "shopping = df.filter(df.simplified == 'shopping')"
      ],
      "metadata": {
        "id": "XS1eHLKNn2Vd"
      },
      "execution_count": 73,
      "outputs": []
    },
    {
      "cell_type": "code",
      "source": [
        "shopping.count()"
      ],
      "metadata": {
        "colab": {
          "base_uri": "https://localhost:8080/"
        },
        "id": "n-1HFE5Yn2R-",
        "outputId": "c49e6641-7c32-4484-fcf0-c2435e73d36d"
      },
      "execution_count": 74,
      "outputs": [
        {
          "output_type": "execute_result",
          "data": {
            "text/plain": [
              "13881"
            ]
          },
          "metadata": {},
          "execution_count": 74
        }
      ]
    },
    {
      "cell_type": "code",
      "source": [],
      "metadata": {
        "id": "CVe0kAqgn2IL"
      },
      "execution_count": null,
      "outputs": []
    },
    {
      "cell_type": "code",
      "source": [
        "from pyspark.ml.feature import RegexTokenizer, StopWordsRemover\n",
        "\n",
        "tokenizer = RegexTokenizer(inputCol = 'text', outputCol = 'words', pattern='\\s+')\n",
        "tokenized_data = tokenizer.transform(shopping)\n",
        "\n",
        "stop_words = StopWordsRemover.loadDefaultStopWords('english')\n",
        "stop_words_remover = StopWordsRemover(inputCol='words', outputCol ='filtered_words', stopWords = stop_words)\n",
        "filtered_data = stop_words_remover.transform(tokenized_data)\n",
        "\n",
        "# Remove non-alphabetic characters\n",
        "from pyspark.sql.functions import udf\n",
        "from pyspark.sql.types import ArrayType, StringType\n",
        "import re\n",
        "\n",
        "# Define a user-defined function to remove non-alphabetic characters from words\n",
        "def remove_nonalphabetic(words):\n",
        "    return [re.sub('[^a-zA-Z]', '', word) for word in words]\n",
        "\n",
        "remove_nonalphabetic_udf = udf(remove_nonalphabetic, ArrayType(StringType()))\n",
        "preprocessed_data = filtered_data.withColumn('cleaned_words', remove_nonalphabetic_udf('filtered_words'))\n",
        "\n",
        "from pyspark.ml.feature import CountVectorizer\n",
        "\n",
        "# Convert the text data to bag-of-words representation\n",
        "vectorizer = CountVectorizer(inputCol='cleaned_words', outputCol='features')\n",
        "vectorized_data = vectorizer.fit(preprocessed_data).transform(preprocessed_data)\n",
        "\n",
        "# Train the LDA model\n",
        "from pyspark.ml.clustering import LDA\n",
        "\n",
        "num_topics = 10\n",
        "lda = LDA(k=num_topics, maxIter=10)\n",
        "lda_model = lda.fit(vectorized_data)\n"
      ],
      "metadata": {
        "id": "HruANmzUzRF3",
        "colab": {
          "base_uri": "https://localhost:8080/",
          "height": 415
        },
        "outputId": "897dba29-02d9-4241-86c1-7df34a73b327"
      },
      "execution_count": 75,
      "outputs": [
        {
          "output_type": "error",
          "ename": "IllegalArgumentException",
          "evalue": "ignored",
          "traceback": [
            "\u001b[0;31m---------------------------------------------------------------------------\u001b[0m",
            "\u001b[0;31mIllegalArgumentException\u001b[0m                  Traceback (most recent call last)",
            "\u001b[0;32m<ipython-input-75-4f7d9fa4f98f>\u001b[0m in \u001b[0;36m<module>\u001b[0;34m\u001b[0m\n\u001b[1;32m      2\u001b[0m \u001b[0;34m\u001b[0m\u001b[0m\n\u001b[1;32m      3\u001b[0m \u001b[0mtokenizer\u001b[0m \u001b[0;34m=\u001b[0m \u001b[0mRegexTokenizer\u001b[0m\u001b[0;34m(\u001b[0m\u001b[0minputCol\u001b[0m \u001b[0;34m=\u001b[0m \u001b[0;34m'text'\u001b[0m\u001b[0;34m,\u001b[0m \u001b[0moutputCol\u001b[0m \u001b[0;34m=\u001b[0m \u001b[0;34m'words'\u001b[0m\u001b[0;34m,\u001b[0m \u001b[0mpattern\u001b[0m\u001b[0;34m=\u001b[0m\u001b[0;34m'\\s+'\u001b[0m\u001b[0;34m)\u001b[0m\u001b[0;34m\u001b[0m\u001b[0;34m\u001b[0m\u001b[0m\n\u001b[0;32m----> 4\u001b[0;31m \u001b[0mtokenized_data\u001b[0m \u001b[0;34m=\u001b[0m \u001b[0mtokenizer\u001b[0m\u001b[0;34m.\u001b[0m\u001b[0mtransform\u001b[0m\u001b[0;34m(\u001b[0m\u001b[0mshopping\u001b[0m\u001b[0;34m)\u001b[0m\u001b[0;34m\u001b[0m\u001b[0;34m\u001b[0m\u001b[0m\n\u001b[0m\u001b[1;32m      5\u001b[0m \u001b[0;34m\u001b[0m\u001b[0m\n\u001b[1;32m      6\u001b[0m \u001b[0mstop_words\u001b[0m \u001b[0;34m=\u001b[0m \u001b[0mStopWordsRemover\u001b[0m\u001b[0;34m.\u001b[0m\u001b[0mloadDefaultStopWords\u001b[0m\u001b[0;34m(\u001b[0m\u001b[0;34m'english'\u001b[0m\u001b[0;34m)\u001b[0m\u001b[0;34m\u001b[0m\u001b[0;34m\u001b[0m\u001b[0m\n",
            "\u001b[0;32m/usr/local/lib/python3.9/dist-packages/pyspark/ml/base.py\u001b[0m in \u001b[0;36mtransform\u001b[0;34m(self, dataset, params)\u001b[0m\n\u001b[1;32m    260\u001b[0m                 \u001b[0;32mreturn\u001b[0m \u001b[0mself\u001b[0m\u001b[0;34m.\u001b[0m\u001b[0mcopy\u001b[0m\u001b[0;34m(\u001b[0m\u001b[0mparams\u001b[0m\u001b[0;34m)\u001b[0m\u001b[0;34m.\u001b[0m\u001b[0m_transform\u001b[0m\u001b[0;34m(\u001b[0m\u001b[0mdataset\u001b[0m\u001b[0;34m)\u001b[0m\u001b[0;34m\u001b[0m\u001b[0;34m\u001b[0m\u001b[0m\n\u001b[1;32m    261\u001b[0m             \u001b[0;32melse\u001b[0m\u001b[0;34m:\u001b[0m\u001b[0;34m\u001b[0m\u001b[0;34m\u001b[0m\u001b[0m\n\u001b[0;32m--> 262\u001b[0;31m                 \u001b[0;32mreturn\u001b[0m \u001b[0mself\u001b[0m\u001b[0;34m.\u001b[0m\u001b[0m_transform\u001b[0m\u001b[0;34m(\u001b[0m\u001b[0mdataset\u001b[0m\u001b[0;34m)\u001b[0m\u001b[0;34m\u001b[0m\u001b[0;34m\u001b[0m\u001b[0m\n\u001b[0m\u001b[1;32m    263\u001b[0m         \u001b[0;32melse\u001b[0m\u001b[0;34m:\u001b[0m\u001b[0;34m\u001b[0m\u001b[0;34m\u001b[0m\u001b[0m\n\u001b[1;32m    264\u001b[0m             \u001b[0;32mraise\u001b[0m \u001b[0mTypeError\u001b[0m\u001b[0;34m(\u001b[0m\u001b[0;34m\"Params must be a param map but got %s.\"\u001b[0m \u001b[0;34m%\u001b[0m \u001b[0mtype\u001b[0m\u001b[0;34m(\u001b[0m\u001b[0mparams\u001b[0m\u001b[0;34m)\u001b[0m\u001b[0;34m)\u001b[0m\u001b[0;34m\u001b[0m\u001b[0;34m\u001b[0m\u001b[0m\n",
            "\u001b[0;32m/usr/local/lib/python3.9/dist-packages/pyspark/ml/wrapper.py\u001b[0m in \u001b[0;36m_transform\u001b[0;34m(self, dataset)\u001b[0m\n\u001b[1;32m    398\u001b[0m \u001b[0;34m\u001b[0m\u001b[0m\n\u001b[1;32m    399\u001b[0m         \u001b[0mself\u001b[0m\u001b[0;34m.\u001b[0m\u001b[0m_transfer_params_to_java\u001b[0m\u001b[0;34m(\u001b[0m\u001b[0;34m)\u001b[0m\u001b[0;34m\u001b[0m\u001b[0;34m\u001b[0m\u001b[0m\n\u001b[0;32m--> 400\u001b[0;31m         \u001b[0;32mreturn\u001b[0m \u001b[0mDataFrame\u001b[0m\u001b[0;34m(\u001b[0m\u001b[0mself\u001b[0m\u001b[0;34m.\u001b[0m\u001b[0m_java_obj\u001b[0m\u001b[0;34m.\u001b[0m\u001b[0mtransform\u001b[0m\u001b[0;34m(\u001b[0m\u001b[0mdataset\u001b[0m\u001b[0;34m.\u001b[0m\u001b[0m_jdf\u001b[0m\u001b[0;34m)\u001b[0m\u001b[0;34m,\u001b[0m \u001b[0mdataset\u001b[0m\u001b[0;34m.\u001b[0m\u001b[0msparkSession\u001b[0m\u001b[0;34m)\u001b[0m\u001b[0;34m\u001b[0m\u001b[0;34m\u001b[0m\u001b[0m\n\u001b[0m\u001b[1;32m    401\u001b[0m \u001b[0;34m\u001b[0m\u001b[0m\n\u001b[1;32m    402\u001b[0m \u001b[0;34m\u001b[0m\u001b[0m\n",
            "\u001b[0;32m/usr/local/lib/python3.9/dist-packages/py4j/java_gateway.py\u001b[0m in \u001b[0;36m__call__\u001b[0;34m(self, *args)\u001b[0m\n\u001b[1;32m   1319\u001b[0m \u001b[0;34m\u001b[0m\u001b[0m\n\u001b[1;32m   1320\u001b[0m         \u001b[0manswer\u001b[0m \u001b[0;34m=\u001b[0m \u001b[0mself\u001b[0m\u001b[0;34m.\u001b[0m\u001b[0mgateway_client\u001b[0m\u001b[0;34m.\u001b[0m\u001b[0msend_command\u001b[0m\u001b[0;34m(\u001b[0m\u001b[0mcommand\u001b[0m\u001b[0;34m)\u001b[0m\u001b[0;34m\u001b[0m\u001b[0;34m\u001b[0m\u001b[0m\n\u001b[0;32m-> 1321\u001b[0;31m         return_value = get_return_value(\n\u001b[0m\u001b[1;32m   1322\u001b[0m             answer, self.gateway_client, self.target_id, self.name)\n\u001b[1;32m   1323\u001b[0m \u001b[0;34m\u001b[0m\u001b[0m\n",
            "\u001b[0;32m/usr/local/lib/python3.9/dist-packages/pyspark/sql/utils.py\u001b[0m in \u001b[0;36mdeco\u001b[0;34m(*a, **kw)\u001b[0m\n\u001b[1;32m    194\u001b[0m                 \u001b[0;31m# Hide where the exception came from that shows a non-Pythonic\u001b[0m\u001b[0;34m\u001b[0m\u001b[0;34m\u001b[0m\u001b[0m\n\u001b[1;32m    195\u001b[0m                 \u001b[0;31m# JVM exception message.\u001b[0m\u001b[0;34m\u001b[0m\u001b[0;34m\u001b[0m\u001b[0m\n\u001b[0;32m--> 196\u001b[0;31m                 \u001b[0;32mraise\u001b[0m \u001b[0mconverted\u001b[0m \u001b[0;32mfrom\u001b[0m \u001b[0;32mNone\u001b[0m\u001b[0;34m\u001b[0m\u001b[0;34m\u001b[0m\u001b[0m\n\u001b[0m\u001b[1;32m    197\u001b[0m             \u001b[0;32melse\u001b[0m\u001b[0;34m:\u001b[0m\u001b[0;34m\u001b[0m\u001b[0;34m\u001b[0m\u001b[0m\n\u001b[1;32m    198\u001b[0m                 \u001b[0;32mraise\u001b[0m\u001b[0;34m\u001b[0m\u001b[0;34m\u001b[0m\u001b[0m\n",
            "\u001b[0;31mIllegalArgumentException\u001b[0m: text does not exist. Available: address, attributes, business_id, categories, city, hours, is_open, latitude, longitude, name, postal_code, review_count, stars, state, category, categories_arr, simplified"
          ]
        }
      ]
    },
    {
      "cell_type": "code",
      "source": [
        "transformed_data = lda_model.transform(vectorized_data)"
      ],
      "metadata": {
        "id": "OdZXXjyczREa"
      },
      "execution_count": null,
      "outputs": []
    },
    {
      "cell_type": "code",
      "source": [
        "shopping.show()"
      ],
      "metadata": {
        "id": "qMuq7bHFzRDK",
        "colab": {
          "base_uri": "https://localhost:8080/"
        },
        "outputId": "5fb5ad63-bc62-469a-f384-2bebc9765801"
      },
      "execution_count": 76,
      "outputs": [
        {
          "output_type": "stream",
          "name": "stdout",
          "text": [
            "+--------------------+--------------------+--------------------+--------------------+----------------+--------------------+-------+-------------+---------------+--------------------+-----------+------------+-----+-----+--------------------+--------------------+----------+\n",
            "|             address|          attributes|         business_id|          categories|            city|               hours|is_open|     latitude|      longitude|                name|postal_code|review_count|stars|state|            category|      categories_arr|simplified|\n",
            "+--------------------+--------------------+--------------------+--------------------+----------------+--------------------+-------+-------------+---------------+--------------------+-----------+------------+-----+-----+--------------------+--------------------+----------+\n",
            "|5255 E Broadway Blvd|{null, null, null...|tUFrWirKiKi_TAnsV...|Department Stores...|          Tucson|{8:0-23:0, 8:0-22...|      0|    32.223236|    -110.880452|              Target|      85711|          22|  3.5|   AZ|Department Stores...|[Department Store...|  shopping|\n",
            "|8522 Eager Road, ...|{null, null, null...|n_0UpQx1hsNbnPUSl...|Sporting Goods  F...|       Brentwood|{10:0-18:0, 0:0-0...|      1|    38.627695|     -90.340465|     Famous Footwear|      63144|          13|  2.5|   MO|Sporting Goods, F...|[Sporting Goods, ...|  shopping|\n",
            "|21705 Village Lak...|{null, null, null...|UJsufbvfyfONHeWdv...|Department Stores...|   Land O' Lakes|{9:30-21:30, 9:30...|      1|28.1904587953| -82.4573802199|           Marshalls|      34639|           6|  3.5|   FL|Department Stores...|[Department Store...|  shopping|\n",
            "|        712 Adams St|{null, null, null...|M0XSSHqrASOnhgbWD...|Vape Shops  Tobac...|     New Orleans|{10:0-19:0, 10:0-...|      1|29.9414679565|  -90.129952757|      Herb Import Co|      70118|           5|  4.0|   LA|Vape Shops, Tobac...|[Vape Shops, Toba...|  shopping|\n",
            "|8675 River Crossi...|{null, null, null...|qhDdDeI3K4jy2Kyzw...|Shopping  Books  ...|    Indianapolis|{10:0-21:0, 10:0-...|      1|     39.91382|     -86.105739|Barnes & Noble Bo...|      46240|          38|  4.0|   IN|Shopping, Books, ...|[Shopping, Books,...|  shopping|\n",
            "|    827-833 State St|{null, null, null...|noByYNtDLQAra9ccq...|Women's Clothing ...|   Santa Barbara|{11:0-18:0, 11:0-...|      1|34.4202089255|-119.7004597389|                 H&M|      93101|          24|  3.0|   CA|Women's Clothing,...|[Women's Clothing...|  shopping|\n",
            "|  30 W Lancaster Ave|{null, null, null...|8sshLb4UU7emeUDvt...|Dance Wear  Sport...|           Paoli|{10:0-19:0, 0:0-0...|      1|40.0415845065| -75.4849526577|           DanceLine|      19301|          11|  4.5|   PA|Dance Wear, Sport...|[Dance Wear, Spor...|  shopping|\n",
            "|      5324 W 16th St|{null, null, null...|x1mhq4IpWctQOBM06...|Hair Salons  Hair...|    Indianapolis|{9:0-18:0, 9:0-18...|      1|39.7874644177|    -86.2514209|Diamond Hair Company|      46224|          25|  1.5|   IN|Hair Salons, Hair...|[Hair Salons, Hai...|  shopping|\n",
            "| 1014 Baltimore Pike|{null, null, null...|mglME3E7esPSpIF5b...|Fashion  Shopping...|     Springfield|{10:0-21:0, 10:0-...|      0|39.9152704301| -75.3426812589|              Pier 1|      19064|           8|  2.5|   PA|Fashion, Shopping...|[Fashion, Shoppin...|  shopping|\n",
            "|1150 Plymouth Mee...|{null, null, null...|DQ7PyYlp2bX96WZa7...|Ophthalmologists ...|Plymouth Meeting|{10:0-21:0, 10:0-...|      1|   40.1161788|    -75.2825254|        LensCrafters|      19462|           8|  2.5|   PA|Ophthalmologists,...|[Ophthalmologists...|  shopping|\n",
            "|3904 W Hillsborou...|{null, null, null...|mjWvAkNqoA6Y5P03s...|  Uniforms  Shopping|           Tampa|                null|      1|27.9954501644|    -82.5081187|Educational Outfi...|      33614|          10|  2.0|   FL|  Uniforms, Shopping|[Uniforms, Shopping]|  shopping|\n",
            "|     4158 E Grant Rd|                null|eYxGFkxo6m3SYGVTh...|Towing  Hotels & ...|          Tucson|{8:30-18:0, 8:30-...|      1|   32.2503237|   -110.9036553|Big Boyz Toyz Mot...|      85712|           8|  4.5|   AZ|Towing, Hotels & ...|[Towing, Hotels &...|  shopping|\n",
            "|4011 Hillsboro Pi...|{null, null, null...|B2qqjCl_BNNnXvWWf...|Shopping  Baby Ge...|       Nashville|{10:0-20:0, 0:0-0...|      1|   36.1036135|    -86.8162678|   Pottery Barn Kids|      37215|          13|  1.5|   TN|Shopping, Baby Ge...|[Shopping, Baby G...|  shopping|\n",
            "|   5203 99 Street NW|{null, null, null...|mFTaYsRDyeFaY2NDL...|Tabletop Games  S...|        Edmonton|{10:0-18:0, 10:0-...|      1|53.4893123495|-113.4855665582|    River City Games|    T6E 5B7|           5|  4.5|   AB|Tabletop Games, S...|[Tabletop Games, ...|  shopping|\n",
            "|    5789 E US Hwy 40|{null, null, null...|-ZXYcCyDjj1QimnJy...|Home Decor  Shopp...|      Plainfield|{10:0-17:0, 10:0-...|      1|39.6949931921| -86.4230714504|Gilley's Antique ...|      46168|          24|  4.5|   IN|Home Decor, Shopp...|[Home Decor, Shop...|  shopping|\n",
            "|5624 E Washington St|{null, null, null...|vR9_bhoszcpXbB_AP...|Fashion  Shopping...|    Indianapolis|{11:0-17:0, 11:0-...|      1|39.7709745063| -86.0711718384|          James Dant|      46219|          31|  5.0|   IN|Fashion, Shopping...|[Fashion, Shoppin...|  shopping|\n",
            "|8701 Keystone Cro...|{null, null, null...|jiLGdnf42eYftkqfU...|Women's Clothing ...|    Indianapolis|{8:0-21:0, 10:0-1...|      1|    39.913836|    -86.1079073|   Saks Fifth Avenue|      46240|          29|  3.5|   IN|Women's Clothing,...|[Women's Clothing...|  shopping|\n",
            "|          94 York Rd|{null, null, null...|I6DCYks9lqZeoZiVz...|Shopping  Auction...|    Willow Grove|{9:0-16:0, 9:0-17...|      1|   40.1428489|    -75.1143791|       Its Sold Here|      19090|          10|  1.5|   PA|Shopping, Auction...|[Shopping, Auctio...|  shopping|\n",
            "|79 Route 73, Ste ...|{null, null, null...|H0NEOp4e3Zu598u6k...|Eyewear & Opticia...|        Voorhees|{9:0-19:0, 0:0-0:...|      1|    39.824552|     -74.929032|America's Best Co...|      08043|          17|  3.5|   NJ|Eyewear & Opticia...|[Eyewear & Optici...|  shopping|\n",
            "|1675 S Christophe...|{null, null, null...|xfmkEGiIERBaBMLhw...|Eyewear & Opticia...|    Philadelphia|{9:0-20:0, 9:0-20...|      1|39.9198090864|  -75.157802746|Walmart Vision & ...|      19148|           6|  4.5|   PA|Eyewear & Opticia...|[Eyewear & Optici...|  shopping|\n",
            "+--------------------+--------------------+--------------------+--------------------+----------------+--------------------+-------+-------------+---------------+--------------------+-----------+------------+-----+-----+--------------------+--------------------+----------+\n",
            "only showing top 20 rows\n",
            "\n"
          ]
        }
      ]
    },
    {
      "cell_type": "code",
      "source": [
        "review.show()"
      ],
      "metadata": {
        "id": "Um-2K0e9zRBq",
        "colab": {
          "base_uri": "https://localhost:8080/"
        },
        "outputId": "81937e14-68da-47ac-dd57-56638463b40d"
      },
      "execution_count": 77,
      "outputs": [
        {
          "output_type": "stream",
          "name": "stdout",
          "text": [
            "+--------------------+----+-------------------+-----+--------------------+-----+--------------------+------+--------------------+\n",
            "|         business_id|cool|               date|funny|           review_id|stars|                text|useful|             user_id|\n",
            "+--------------------+----+-------------------+-----+--------------------+-----+--------------------+------+--------------------+\n",
            "|XQfwVwDr-v0ZS3_Cb...|   0|2018-07-07 22:09:11|    0|KU_O5udG6zpxOg-Vc...|  3.0|If you decide to ...|     0|mh_-eMZ6K5RLWhZyI...|\n",
            "|7ATYjTIgM3jUlt4UM...|   1|2012-01-03 15:28:18|    0|BiTunyQ73aT9WBnpR...|  5.0|I've taken a lot ...|     1|OyoGAe7OKpv6SyGZT...|\n",
            "|YjUWPpI6HXG530lwP...|   0|2014-02-05 20:30:30|    0|saUsX_uimxRlCVr67...|  3.0|Family diner. Had...|     0|8g_iMtfSiwikVnbP2...|\n",
            "|kxX2SOes4o-D3ZQBk...|   1|2015-01-04 00:01:03|    0|AqPFMleE6RsU23_au...|  5.0|Wow!  Yummy, diff...|     1|_7bHUi9Uuf5__HHc_...|\n",
            "|e4Vwtrqf-wpJfwesg...|   1|2017-01-14 20:54:15|    0|Sx8TMOWLNuJBWer-0...|  4.0|Cute interior and...|     1|bcjbaE6dDog4jkNY9...|\n",
            "|04UD14gamNjLY0IDY...|   1|2015-09-23 23:10:31|    2|JrIxlS1TzJ-iCu79u...|  1.0|I am a long term ...|     1|eUta8W_HdHMXPzLBB...|\n",
            "|gmjsEdUsKpj9Xxu6p...|   0|2015-01-03 23:21:18|    2|6AxgBCNX_PNTOxmbR...|  5.0|Loved this tour! ...|     0|r3zeYsv1XFBRA4dJp...|\n",
            "|LHSTtnW3YHCeUkRDG...|   0|2015-08-07 02:29:16|    0|_ZeMknuYdlQcUqng_...|  5.0|Amazingly amazing...|     2|yfFzsLmaWF2d4Sr0U...|\n",
            "|B5XSoSG3SfvQGtKEG...|   0|2016-03-30 22:46:33|    1|ZKvDG2sBvHVdF5oBN...|  3.0|This easter inste...|     1|wSTuiTk-sKNdcFypr...|\n",
            "|gebiRewfieSdtt17P...|   0|2016-07-25 07:31:06|    0|pUycOfUwM8vqX7KjR...|  3.0|Had a party of 6 ...|     0|59MxRhNVhU9MYndMk...|\n",
            "|uMvVYRgGNXf5boolA...|   0|2015-06-21 14:48:06|    0|rGQRf8UafX7OTlMNN...|  5.0|My experience wit...|     2|1WHRWwQmZOZDAhp2Q...|\n",
            "|EQ-TZ2eeD_E0BHuvo...|   0|2015-08-19 14:31:45|    0|l3Wk_mvAog6XANIuG...|  4.0|Locals recommende...|     0|ZbqSHbgCjzVAqaa7N...|\n",
            "|lj-E32x9_FA7GmUrB...|   0|2014-06-27 22:44:01|    0|XW_LfMv0fV21l9c6x...|  4.0|Love going here f...|     0|9OAtfnWag-ajVxRbU...|\n",
            "|RZtGWDLCAtuipwaZ-...|   0|2009-10-14 19:57:14|    0|8JFGBuHMoiNDyfcxu...|  4.0|Good food--loved ...|     0|smOvOajNG0lS4Pq7d...|\n",
            "|otQS34_MymijPTdNB...|   0|2011-10-27 17:12:05|    2|UBp0zWyH60Hmw6Fsa...|  4.0|The bun makes the...|     0|4Uh27DgGzsp6PqrH9...|\n",
            "|BVndHaLihEYbr76Z0...|   0|2014-10-11 16:22:06|    0|OAhBYw8IQ6wlfw1ow...|  5.0|Great place for b...|     0|1C2lxzUo1Hyye4RFI...|\n",
            "|YtSqYv1Q_pOltsVPS...|   0|2013-06-24 11:21:25|    0|oyaMhzBSwfGgemSGu...|  5.0|Tremendous servic...|     0|Dd1jQj7S-BFGqRbAp...|\n",
            "|rBdG_23USc7DletfZ...|   0|2014-08-10 19:41:43|    0|LnGZB0fjfgeVDVz5I...|  4.0|The hubby and I h...|     1|j2wlzrntrbKwyOcOi...|\n",
            "|CLEWowfkj-wKYJlQD...|   1|2016-03-07 00:02:18|    0|u2vzZaOqJ2feRshaa...|  5.0|I go to blow bar ...|     2|NDZvyYHTUWWu-kqgQ...|\n",
            "|eFvzHawVJofxSnD7T...|   0|2014-11-12 15:30:27|    0|Xs8Z8lmKkosqW5mw_...|  5.0|My absolute favor...|     0|IQsF3Rc6IgCzjVV9D...|\n",
            "+--------------------+----+-------------------+-----+--------------------+-----+--------------------+------+--------------------+\n",
            "only showing top 20 rows\n",
            "\n"
          ]
        }
      ]
    },
    {
      "cell_type": "code",
      "source": [
        "shopping_joined = shopping.join(review, on='business_id', how= 'left')"
      ],
      "metadata": {
        "id": "8jGEkvMazRAk"
      },
      "execution_count": 78,
      "outputs": []
    },
    {
      "cell_type": "code",
      "source": [
        "shopping_joined.show()"
      ],
      "metadata": {
        "id": "2dHjGmq6zQ9s",
        "colab": {
          "base_uri": "https://localhost:8080/"
        },
        "outputId": "878631ab-6446-429b-9d9c-a665c7a50872"
      },
      "execution_count": 79,
      "outputs": [
        {
          "output_type": "stream",
          "name": "stdout",
          "text": [
            "+--------------------+-------------+--------------------+--------------------+-----------+--------------------+-------+-------------+--------------+--------------------+-----------+------------+-----+-----+--------------------+--------------------+----------+----+-------------------+-----+--------------------+-----+--------------------+------+--------------------+\n",
            "|         business_id|      address|          attributes|          categories|       city|               hours|is_open|     latitude|     longitude|                name|postal_code|review_count|stars|state|            category|      categories_arr|simplified|cool|               date|funny|           review_id|stars|                text|useful|             user_id|\n",
            "+--------------------+-------------+--------------------+--------------------+-----------+--------------------+-------+-------------+--------------+--------------------+-----------+------------+-----+-----+--------------------+--------------------+----------+----+-------------------+-----+--------------------+-----+--------------------+------+--------------------+\n",
            "|FDkiqFJp_xbAQ6wvw...|1200 Welsh Rd|{null, null, null...|Thrift Stores  Fa...|North Wales|{8:0-22:0, 8:0-22...|      1|40.2286354881|-75.2593968117|2nd Ave Thrift Su...|      19454|          64|  3.0|   PA|Thrift Stores, Fa...|[Thrift Stores, F...|  shopping|   0|2013-01-28 13:46:44|    0|q9xXrz80djvDE45ez...|  3.0|I have been shopp...|     2|cbpguPXv8K3bLkBKP...|\n",
            "|FDkiqFJp_xbAQ6wvw...|1200 Welsh Rd|{null, null, null...|Thrift Stores  Fa...|North Wales|{8:0-22:0, 8:0-22...|      1|40.2286354881|-75.2593968117|2nd Ave Thrift Su...|      19454|          64|  3.0|   PA|Thrift Stores, Fa...|[Thrift Stores, F...|  shopping|   0|2011-01-11 21:43:27|    2|NKhyUztWKOM-VFcDo...|  3.0|This store is ful...|     4|FGHs_0b1Yohwb7tui...|\n",
            "|FDkiqFJp_xbAQ6wvw...|1200 Welsh Rd|{null, null, null...|Thrift Stores  Fa...|North Wales|{8:0-22:0, 8:0-22...|      1|40.2286354881|-75.2593968117|2nd Ave Thrift Su...|      19454|          64|  3.0|   PA|Thrift Stores, Fa...|[Thrift Stores, F...|  shopping|   0|2014-04-21 18:43:08|    0|q3uy1M3VfhxMfZ7Xq...|  3.0|They have an amaz...|     1|bmMmcVIPJRll3FBZN...|\n",
            "|FDkiqFJp_xbAQ6wvw...|1200 Welsh Rd|{null, null, null...|Thrift Stores  Fa...|North Wales|{8:0-22:0, 8:0-22...|      1|40.2286354881|-75.2593968117|2nd Ave Thrift Su...|      19454|          64|  3.0|   PA|Thrift Stores, Fa...|[Thrift Stores, F...|  shopping|   1|2012-12-09 07:42:24|    0|Efs_G_y5xrhu_I0XC...|  4.0|I live in Arizona...|     4|6YlQPHdfM535iVkST...|\n",
            "|FDkiqFJp_xbAQ6wvw...|1200 Welsh Rd|{null, null, null...|Thrift Stores  Fa...|North Wales|{8:0-22:0, 8:0-22...|      1|40.2286354881|-75.2593968117|2nd Ave Thrift Su...|      19454|          64|  3.0|   PA|Thrift Stores, Fa...|[Thrift Stores, F...|  shopping|   1|2015-04-04 19:34:23|    0|XbS_j-GOnmX3ZEx8L...|  4.0|notes from my vis...|     1|wMRABJye-vljUZxI2...|\n",
            "|FDkiqFJp_xbAQ6wvw...|1200 Welsh Rd|{null, null, null...|Thrift Stores  Fa...|North Wales|{8:0-22:0, 8:0-22...|      1|40.2286354881|-75.2593968117|2nd Ave Thrift Su...|      19454|          64|  3.0|   PA|Thrift Stores, Fa...|[Thrift Stores, F...|  shopping|   0|2015-06-24 19:49:46|    1|-MDgrvd8DGWG_axVa...|  5.0|I love this store...|     1|bMKkdAaa1Rl9MN9rJ...|\n",
            "|FDkiqFJp_xbAQ6wvw...|1200 Welsh Rd|{null, null, null...|Thrift Stores  Fa...|North Wales|{8:0-22:0, 8:0-22...|      1|40.2286354881|-75.2593968117|2nd Ave Thrift Su...|      19454|          64|  3.0|   PA|Thrift Stores, Fa...|[Thrift Stores, F...|  shopping|   0|2018-05-02 02:51:39|    0|oHJuMkMl1VuxTruAT...|  5.0|This is the only ...|     1|xj02YwzJ5AVTg8Ega...|\n",
            "|FDkiqFJp_xbAQ6wvw...|1200 Welsh Rd|{null, null, null...|Thrift Stores  Fa...|North Wales|{8:0-22:0, 8:0-22...|      1|40.2286354881|-75.2593968117|2nd Ave Thrift Su...|      19454|          64|  3.0|   PA|Thrift Stores, Fa...|[Thrift Stores, F...|  shopping|   0|2015-09-15 00:54:51|    0|HopbCRziQ76uRZx3f...|  5.0|I am addicted to ...|     1|RPtglaOu2FOZ5pxTs...|\n",
            "|FDkiqFJp_xbAQ6wvw...|1200 Welsh Rd|{null, null, null...|Thrift Stores  Fa...|North Wales|{8:0-22:0, 8:0-22...|      1|40.2286354881|-75.2593968117|2nd Ave Thrift Su...|      19454|          64|  3.0|   PA|Thrift Stores, Fa...|[Thrift Stores, F...|  shopping|   0|2015-08-11 15:47:48|    0|0Dh4DX_HG1tDJjZQJ...|  1.0|I love to bargain...|     0|S2jXYM0fhy4-qAhvx...|\n",
            "|FDkiqFJp_xbAQ6wvw...|1200 Welsh Rd|{null, null, null...|Thrift Stores  Fa...|North Wales|{8:0-22:0, 8:0-22...|      1|40.2286354881|-75.2593968117|2nd Ave Thrift Su...|      19454|          64|  3.0|   PA|Thrift Stores, Fa...|[Thrift Stores, F...|  shopping|   0|2013-08-09 23:53:25|    0|UmLZ3_J8A768GYuhZ...|  5.0|Amazing store!! I...|     0|yX8qijevSFtzuIKHf...|\n",
            "|FDkiqFJp_xbAQ6wvw...|1200 Welsh Rd|{null, null, null...|Thrift Stores  Fa...|North Wales|{8:0-22:0, 8:0-22...|      1|40.2286354881|-75.2593968117|2nd Ave Thrift Su...|      19454|          64|  3.0|   PA|Thrift Stores, Fa...|[Thrift Stores, F...|  shopping|   1|2016-10-19 16:26:36|    0|wBUrZqJs54CS3CO7b...|  4.0|Anyone who knows ...|     4|6YAPZtzvMCAtqc6RI...|\n",
            "|FDkiqFJp_xbAQ6wvw...|1200 Welsh Rd|{null, null, null...|Thrift Stores  Fa...|North Wales|{8:0-22:0, 8:0-22...|      1|40.2286354881|-75.2593968117|2nd Ave Thrift Su...|      19454|          64|  3.0|   PA|Thrift Stores, Fa...|[Thrift Stores, F...|  shopping|   0|2011-04-03 23:29:16|    0|TNlS1IHhk_3LMaho-...|  3.0|I still love comi...|     2|8wQIoFapkegkC5fcV...|\n",
            "|FDkiqFJp_xbAQ6wvw...|1200 Welsh Rd|{null, null, null...|Thrift Stores  Fa...|North Wales|{8:0-22:0, 8:0-22...|      1|40.2286354881|-75.2593968117|2nd Ave Thrift Su...|      19454|          64|  3.0|   PA|Thrift Stores, Fa...|[Thrift Stores, F...|  shopping|   1|2009-01-08 04:52:09|    3|_QeYCBEoUA-pkCE8F...|  4.0|50 percent off sa...|     3|OsrkWzR5jU8i6_E5z...|\n",
            "|FDkiqFJp_xbAQ6wvw...|1200 Welsh Rd|{null, null, null...|Thrift Stores  Fa...|North Wales|{8:0-22:0, 8:0-22...|      1|40.2286354881|-75.2593968117|2nd Ave Thrift Su...|      19454|          64|  3.0|   PA|Thrift Stores, Fa...|[Thrift Stores, F...|  shopping|   0|2015-06-17 19:30:15|    1|jFTAKI9IitgJFrubq...|  2.0|I have 2 boys in ...|     2|zlD3lyinPl2z_AGWM...|\n",
            "|FDkiqFJp_xbAQ6wvw...|1200 Welsh Rd|{null, null, null...|Thrift Stores  Fa...|North Wales|{8:0-22:0, 8:0-22...|      1|40.2286354881|-75.2593968117|2nd Ave Thrift Su...|      19454|          64|  3.0|   PA|Thrift Stores, Fa...|[Thrift Stores, F...|  shopping|   0|2014-03-09 01:45:41|    0|8b0hh51dLamoD09Yc...|  3.0|It's a great plac...|     0|YpoaaVx_5_BFAmHJe...|\n",
            "|FDkiqFJp_xbAQ6wvw...|1200 Welsh Rd|{null, null, null...|Thrift Stores  Fa...|North Wales|{8:0-22:0, 8:0-22...|      1|40.2286354881|-75.2593968117|2nd Ave Thrift Su...|      19454|          64|  3.0|   PA|Thrift Stores, Fa...|[Thrift Stores, F...|  shopping|   0|2012-12-18 18:11:20|    0|InCIOhLM1otWThUQY...|  4.0|Great selection, ...|     0|vGxxX3P6FCZZAZaSP...|\n",
            "|FDkiqFJp_xbAQ6wvw...|1200 Welsh Rd|{null, null, null...|Thrift Stores  Fa...|North Wales|{8:0-22:0, 8:0-22...|      1|40.2286354881|-75.2593968117|2nd Ave Thrift Su...|      19454|          64|  3.0|   PA|Thrift Stores, Fa...|[Thrift Stores, F...|  shopping|   0|2014-03-23 12:55:52|    0|2Sb7cw1l7GjyhRlwc...|  5.0|This is a great p...|     0|3wxeMpRpNnmRMiyod...|\n",
            "|FDkiqFJp_xbAQ6wvw...|1200 Welsh Rd|{null, null, null...|Thrift Stores  Fa...|North Wales|{8:0-22:0, 8:0-22...|      1|40.2286354881|-75.2593968117|2nd Ave Thrift Su...|      19454|          64|  3.0|   PA|Thrift Stores, Fa...|[Thrift Stores, F...|  shopping|   4|2009-07-04 02:02:11|    0|mNKKo2Ridq4ifj134...|  4.0|2nd Ave gets four...|     7|xZgbvWE-fF0QEv3k8...|\n",
            "|FDkiqFJp_xbAQ6wvw...|1200 Welsh Rd|{null, null, null...|Thrift Stores  Fa...|North Wales|{8:0-22:0, 8:0-22...|      1|40.2286354881|-75.2593968117|2nd Ave Thrift Su...|      19454|          64|  3.0|   PA|Thrift Stores, Fa...|[Thrift Stores, F...|  shopping|   0|2013-03-11 21:05:51|    0|rFODv_gjsJhDpWTQD...|  2.0|I shop here frequ...|     1|A4Z8Pic7h1z6aKFb1...|\n",
            "|FDkiqFJp_xbAQ6wvw...|1200 Welsh Rd|{null, null, null...|Thrift Stores  Fa...|North Wales|{8:0-22:0, 8:0-22...|      1|40.2286354881|-75.2593968117|2nd Ave Thrift Su...|      19454|          64|  3.0|   PA|Thrift Stores, Fa...|[Thrift Stores, F...|  shopping|   2|2010-07-14 19:50:44|    2|IECiBB79v1FfOCFYW...|  4.0|This is one of th...|     3|8wQIoFapkegkC5fcV...|\n",
            "+--------------------+-------------+--------------------+--------------------+-----------+--------------------+-------+-------------+--------------+--------------------+-----------+------------+-----+-----+--------------------+--------------------+----------+----+-------------------+-----+--------------------+-----+--------------------+------+--------------------+\n",
            "only showing top 20 rows\n",
            "\n"
          ]
        }
      ]
    },
    {
      "cell_type": "code",
      "source": [
        "# select the relevant columns from both dataframes\n",
        "result_shopping = shopping_joined.select(\n",
        "    shopping['*'], \n",
        "    review['text'].alias('text_from_review')\n",
        ").fillna({'text_from_review': ''}) # replace null values with empty string if any\n"
      ],
      "metadata": {
        "id": "iwy7X70ezQ74"
      },
      "execution_count": 81,
      "outputs": []
    },
    {
      "cell_type": "code",
      "source": [
        "result_shopping.show()"
      ],
      "metadata": {
        "id": "gYkBWXRYzQ6g",
        "colab": {
          "base_uri": "https://localhost:8080/"
        },
        "outputId": "9742e99b-bb35-40ca-8006-f5bfa0b9dc9a"
      },
      "execution_count": 82,
      "outputs": [
        {
          "output_type": "stream",
          "name": "stdout",
          "text": [
            "+-------------+--------------------+--------------------+--------------------+-----------+--------------------+-------+-------------+--------------+--------------------+-----------+------------+-----+-----+--------------------+--------------------+----------+--------------------+\n",
            "|      address|          attributes|         business_id|          categories|       city|               hours|is_open|     latitude|     longitude|                name|postal_code|review_count|stars|state|            category|      categories_arr|simplified|    text_from_review|\n",
            "+-------------+--------------------+--------------------+--------------------+-----------+--------------------+-------+-------------+--------------+--------------------+-----------+------------+-----+-----+--------------------+--------------------+----------+--------------------+\n",
            "|1200 Welsh Rd|{null, null, null...|FDkiqFJp_xbAQ6wvw...|Thrift Stores  Fa...|North Wales|{8:0-22:0, 8:0-22...|      1|40.2286354881|-75.2593968117|2nd Ave Thrift Su...|      19454|          64|  3.0|   PA|Thrift Stores, Fa...|[Thrift Stores, F...|  shopping|I have been shopp...|\n",
            "|1200 Welsh Rd|{null, null, null...|FDkiqFJp_xbAQ6wvw...|Thrift Stores  Fa...|North Wales|{8:0-22:0, 8:0-22...|      1|40.2286354881|-75.2593968117|2nd Ave Thrift Su...|      19454|          64|  3.0|   PA|Thrift Stores, Fa...|[Thrift Stores, F...|  shopping|This store is ful...|\n",
            "|1200 Welsh Rd|{null, null, null...|FDkiqFJp_xbAQ6wvw...|Thrift Stores  Fa...|North Wales|{8:0-22:0, 8:0-22...|      1|40.2286354881|-75.2593968117|2nd Ave Thrift Su...|      19454|          64|  3.0|   PA|Thrift Stores, Fa...|[Thrift Stores, F...|  shopping|They have an amaz...|\n",
            "|1200 Welsh Rd|{null, null, null...|FDkiqFJp_xbAQ6wvw...|Thrift Stores  Fa...|North Wales|{8:0-22:0, 8:0-22...|      1|40.2286354881|-75.2593968117|2nd Ave Thrift Su...|      19454|          64|  3.0|   PA|Thrift Stores, Fa...|[Thrift Stores, F...|  shopping|I live in Arizona...|\n",
            "|1200 Welsh Rd|{null, null, null...|FDkiqFJp_xbAQ6wvw...|Thrift Stores  Fa...|North Wales|{8:0-22:0, 8:0-22...|      1|40.2286354881|-75.2593968117|2nd Ave Thrift Su...|      19454|          64|  3.0|   PA|Thrift Stores, Fa...|[Thrift Stores, F...|  shopping|notes from my vis...|\n",
            "|1200 Welsh Rd|{null, null, null...|FDkiqFJp_xbAQ6wvw...|Thrift Stores  Fa...|North Wales|{8:0-22:0, 8:0-22...|      1|40.2286354881|-75.2593968117|2nd Ave Thrift Su...|      19454|          64|  3.0|   PA|Thrift Stores, Fa...|[Thrift Stores, F...|  shopping|I love this store...|\n",
            "|1200 Welsh Rd|{null, null, null...|FDkiqFJp_xbAQ6wvw...|Thrift Stores  Fa...|North Wales|{8:0-22:0, 8:0-22...|      1|40.2286354881|-75.2593968117|2nd Ave Thrift Su...|      19454|          64|  3.0|   PA|Thrift Stores, Fa...|[Thrift Stores, F...|  shopping|This is the only ...|\n",
            "|1200 Welsh Rd|{null, null, null...|FDkiqFJp_xbAQ6wvw...|Thrift Stores  Fa...|North Wales|{8:0-22:0, 8:0-22...|      1|40.2286354881|-75.2593968117|2nd Ave Thrift Su...|      19454|          64|  3.0|   PA|Thrift Stores, Fa...|[Thrift Stores, F...|  shopping|I am addicted to ...|\n",
            "|1200 Welsh Rd|{null, null, null...|FDkiqFJp_xbAQ6wvw...|Thrift Stores  Fa...|North Wales|{8:0-22:0, 8:0-22...|      1|40.2286354881|-75.2593968117|2nd Ave Thrift Su...|      19454|          64|  3.0|   PA|Thrift Stores, Fa...|[Thrift Stores, F...|  shopping|I love to bargain...|\n",
            "|1200 Welsh Rd|{null, null, null...|FDkiqFJp_xbAQ6wvw...|Thrift Stores  Fa...|North Wales|{8:0-22:0, 8:0-22...|      1|40.2286354881|-75.2593968117|2nd Ave Thrift Su...|      19454|          64|  3.0|   PA|Thrift Stores, Fa...|[Thrift Stores, F...|  shopping|Amazing store!! I...|\n",
            "|1200 Welsh Rd|{null, null, null...|FDkiqFJp_xbAQ6wvw...|Thrift Stores  Fa...|North Wales|{8:0-22:0, 8:0-22...|      1|40.2286354881|-75.2593968117|2nd Ave Thrift Su...|      19454|          64|  3.0|   PA|Thrift Stores, Fa...|[Thrift Stores, F...|  shopping|Anyone who knows ...|\n",
            "|1200 Welsh Rd|{null, null, null...|FDkiqFJp_xbAQ6wvw...|Thrift Stores  Fa...|North Wales|{8:0-22:0, 8:0-22...|      1|40.2286354881|-75.2593968117|2nd Ave Thrift Su...|      19454|          64|  3.0|   PA|Thrift Stores, Fa...|[Thrift Stores, F...|  shopping|I still love comi...|\n",
            "|1200 Welsh Rd|{null, null, null...|FDkiqFJp_xbAQ6wvw...|Thrift Stores  Fa...|North Wales|{8:0-22:0, 8:0-22...|      1|40.2286354881|-75.2593968117|2nd Ave Thrift Su...|      19454|          64|  3.0|   PA|Thrift Stores, Fa...|[Thrift Stores, F...|  shopping|50 percent off sa...|\n",
            "|1200 Welsh Rd|{null, null, null...|FDkiqFJp_xbAQ6wvw...|Thrift Stores  Fa...|North Wales|{8:0-22:0, 8:0-22...|      1|40.2286354881|-75.2593968117|2nd Ave Thrift Su...|      19454|          64|  3.0|   PA|Thrift Stores, Fa...|[Thrift Stores, F...|  shopping|I have 2 boys in ...|\n",
            "|1200 Welsh Rd|{null, null, null...|FDkiqFJp_xbAQ6wvw...|Thrift Stores  Fa...|North Wales|{8:0-22:0, 8:0-22...|      1|40.2286354881|-75.2593968117|2nd Ave Thrift Su...|      19454|          64|  3.0|   PA|Thrift Stores, Fa...|[Thrift Stores, F...|  shopping|It's a great plac...|\n",
            "|1200 Welsh Rd|{null, null, null...|FDkiqFJp_xbAQ6wvw...|Thrift Stores  Fa...|North Wales|{8:0-22:0, 8:0-22...|      1|40.2286354881|-75.2593968117|2nd Ave Thrift Su...|      19454|          64|  3.0|   PA|Thrift Stores, Fa...|[Thrift Stores, F...|  shopping|Great selection, ...|\n",
            "|1200 Welsh Rd|{null, null, null...|FDkiqFJp_xbAQ6wvw...|Thrift Stores  Fa...|North Wales|{8:0-22:0, 8:0-22...|      1|40.2286354881|-75.2593968117|2nd Ave Thrift Su...|      19454|          64|  3.0|   PA|Thrift Stores, Fa...|[Thrift Stores, F...|  shopping|This is a great p...|\n",
            "|1200 Welsh Rd|{null, null, null...|FDkiqFJp_xbAQ6wvw...|Thrift Stores  Fa...|North Wales|{8:0-22:0, 8:0-22...|      1|40.2286354881|-75.2593968117|2nd Ave Thrift Su...|      19454|          64|  3.0|   PA|Thrift Stores, Fa...|[Thrift Stores, F...|  shopping|2nd Ave gets four...|\n",
            "|1200 Welsh Rd|{null, null, null...|FDkiqFJp_xbAQ6wvw...|Thrift Stores  Fa...|North Wales|{8:0-22:0, 8:0-22...|      1|40.2286354881|-75.2593968117|2nd Ave Thrift Su...|      19454|          64|  3.0|   PA|Thrift Stores, Fa...|[Thrift Stores, F...|  shopping|I shop here frequ...|\n",
            "|1200 Welsh Rd|{null, null, null...|FDkiqFJp_xbAQ6wvw...|Thrift Stores  Fa...|North Wales|{8:0-22:0, 8:0-22...|      1|40.2286354881|-75.2593968117|2nd Ave Thrift Su...|      19454|          64|  3.0|   PA|Thrift Stores, Fa...|[Thrift Stores, F...|  shopping|This is one of th...|\n",
            "+-------------+--------------------+--------------------+--------------------+-----------+--------------------+-------+-------------+--------------+--------------------+-----------+------------+-----+-----+--------------------+--------------------+----------+--------------------+\n",
            "only showing top 20 rows\n",
            "\n"
          ]
        }
      ]
    },
    {
      "cell_type": "code",
      "source": [
        "from pyspark.ml.feature import RegexTokenizer, StopWordsRemover\n",
        "\n",
        "tokenizer = RegexTokenizer(inputCol = 'text_from_review', outputCol = 'words', pattern='\\s+')\n",
        "tokenized_data = tokenizer.transform(result_shopping)\n",
        "\n",
        "stop_words = StopWordsRemover.loadDefaultStopWords('english')\n",
        "stop_words_remover = StopWordsRemover(inputCol='words', outputCol ='filtered_words', stopWords = stop_words)\n",
        "filtered_data = stop_words_remover.transform(tokenized_data)\n",
        "\n",
        "# Remove non-alphabetic characters\n",
        "from pyspark.sql.functions import udf\n",
        "from pyspark.sql.types import ArrayType, StringType\n",
        "import re\n",
        "\n",
        "# Define a user-defined function to remove non-alphabetic characters from words\n",
        "def remove_nonalphabetic(words):\n",
        "    return [re.sub('[^a-zA-Z]', '', word) for word in words]\n",
        "\n",
        "remove_nonalphabetic_udf = udf(remove_nonalphabetic, ArrayType(StringType()))\n",
        "preprocessed_data = filtered_data.withColumn('cleaned_words', remove_nonalphabetic_udf('filtered_words'))\n",
        "\n",
        "from pyspark.ml.feature import CountVectorizer\n",
        "\n",
        "# Convert the text data to bag-of-words representation\n",
        "vectorizer = CountVectorizer(inputCol='cleaned_words', outputCol='features')\n",
        "vectorizer_model = vectorizer.fit(preprocessed_data)\n",
        "vectorized_data = vectorizer_model.transform(preprocessed_data)\n",
        "\n",
        "# Train the LDA model\n",
        "from pyspark.ml.clustering import LDA\n",
        "\n",
        "num_topics = 10\n",
        "lda = LDA(k=num_topics, maxIter=10)\n",
        "lda_model = lda.fit(vectorized_data)\n"
      ],
      "metadata": {
        "id": "8IfZE9plzQ2D"
      },
      "execution_count": 101,
      "outputs": []
    },
    {
      "cell_type": "code",
      "source": [
        "transformed_data = lda_model.transform(vectorized_data)"
      ],
      "metadata": {
        "id": "mdIx90WIzQ0D"
      },
      "execution_count": 84,
      "outputs": []
    },
    {
      "cell_type": "code",
      "source": [
        "transformed_data.select(\"features\", \"topicDistribution\").show(10)\n"
      ],
      "metadata": {
        "colab": {
          "base_uri": "https://localhost:8080/"
        },
        "id": "YhG72VE6s6Hx",
        "outputId": "5a9b3e3e-eb8e-4e77-b05c-7a5f8a405319"
      },
      "execution_count": 85,
      "outputs": [
        {
          "output_type": "stream",
          "name": "stdout",
          "text": [
            "+--------------------+--------------------+\n",
            "|            features|   topicDistribution|\n",
            "+--------------------+--------------------+\n",
            "|(168261,[67,168,2...|[0.00440545079967...|\n",
            "|(168261,[4,6,10,1...|[0.00112593465024...|\n",
            "|(168261,[2,40,45,...|[0.00588146161634...|\n",
            "|(168261,[0,6,10,1...|[0.00123705680603...|\n",
            "|(168261,[0,3,4,16...|[0.00231385697414...|\n",
            "|(168261,[2,31,40,...|[0.00440481001521...|\n",
            "|(168261,[2,7,31,3...|[0.00314248575887...|\n",
            "|(168261,[14,27,39...|[0.00274867447850...|\n",
            "|(168261,[0,7,10,1...|[0.00175745465083...|\n",
            "|(168261,[0,2,4,7,...|[6.05372116003169...|\n",
            "+--------------------+--------------------+\n",
            "only showing top 10 rows\n",
            "\n"
          ]
        }
      ]
    },
    {
      "cell_type": "code",
      "source": [
        "transformed_data.show()"
      ],
      "metadata": {
        "colab": {
          "base_uri": "https://localhost:8080/"
        },
        "id": "mgsIEriYtR58",
        "outputId": "6344579e-5875-42d8-9cc7-75feb50db1f1"
      },
      "execution_count": 87,
      "outputs": [
        {
          "output_type": "stream",
          "name": "stdout",
          "text": [
            "+-------------------+--------------------+--------------------+--------------------+--------------+--------------------+-------+-------------+--------------+--------------------+-----------+------------+-----+-----+--------------------+--------------------+----------+--------------------+--------------------+--------------------+--------------------+--------------------+--------------------+\n",
            "|            address|          attributes|         business_id|          categories|          city|               hours|is_open|     latitude|     longitude|                name|postal_code|review_count|stars|state|            category|      categories_arr|simplified|    text_from_review|               words|      filtered_words|       cleaned_words|            features|   topicDistribution|\n",
            "+-------------------+--------------------+--------------------+--------------------+--------------+--------------------+-------+-------------+--------------+--------------------+-----------+------------+-----+-----+--------------------+--------------------+----------+--------------------+--------------------+--------------------+--------------------+--------------------+--------------------+\n",
            "|     114 W State St|{null, null, null...|-4bCujgnMeYCu5RSm...|Shopping  Local F...|Kennett Square|                null|      1|39.8465192605|-75.7122011965|Kennett Square Mu...|      19348|           5|  3.5|   PA|Shopping, Local F...|[Shopping, Local ...|  shopping|This was our 1st ...|[this, was, our, ...|[1st, venture, ke...|[st, venture, ken...|(168261,[67,168,2...|[0.00440545079967...|\n",
            "|     114 W State St|{null, null, null...|-4bCujgnMeYCu5RSm...|Shopping  Local F...|Kennett Square|                null|      1|39.8465192605|-75.7122011965|Kennett Square Mu...|      19348|           5|  3.5|   PA|Shopping, Local F...|[Shopping, Local ...|  shopping|Its fun the first...|[its, fun, the, f...|[fun, first, time...|[fun, first, time...|(168261,[4,6,10,1...|[0.00112593465024...|\n",
            "|     114 W State St|{null, null, null...|-4bCujgnMeYCu5RSm...|Shopping  Local F...|Kennett Square|                null|      1|39.8465192605|-75.7122011965|Kennett Square Mu...|      19348|           5|  3.5|   PA|Shopping, Local F...|[Shopping, Local ...|  shopping|Great day to spen...|[great, day, to, ...|[great, day, spen...|[great, day, spen...|(168261,[2,40,45,...|[0.00588146161634...|\n",
            "|     114 W State St|{null, null, null...|-4bCujgnMeYCu5RSm...|Shopping  Local F...|Kennett Square|                null|      1|39.8465192605|-75.7122011965|Kennett Square Mu...|      19348|           5|  3.5|   PA|Shopping, Local F...|[Shopping, Local ...|  shopping|I went to this, p...|[i, went, to, thi...|[went, this,, par...|[went, this, part...|(168261,[0,6,10,1...|[0.00123705680603...|\n",
            "|     114 W State St|{null, null, null...|-4bCujgnMeYCu5RSm...|Shopping  Local F...|Kennett Square|                null|      1|39.8465192605|-75.7122011965|Kennett Square Mu...|      19348|           5|  3.5|   PA|Shopping, Local F...|[Shopping, Local ...|  shopping|New location for ...|[new, location, f...|[new, location, 2...|[new, location, ,...|(168261,[0,3,4,16...|[0.00231385697414...|\n",
            "|12900 Walsingham Rd|{null, null, null...|-6RKk3sSh-PWB8VBf...|Shopping  Paddleb...|         Largo|{10:0-19:0, 10:0-...|      1|    27.879864|   -82.8171901|    Watersports West|      33774|          17|  5.0|   FL|Shopping, Paddleb...|[Shopping, Paddle...|  shopping|Steve was so grea...|[steve, was, so, ...|[steve, great, de...|[steve, great, de...|(168261,[2,31,40,...|[0.00440481001521...|\n",
            "|12900 Walsingham Rd|{null, null, null...|-6RKk3sSh-PWB8VBf...|Shopping  Paddleb...|         Largo|{10:0-19:0, 10:0-...|      1|    27.879864|   -82.8171901|    Watersports West|      33774|          17|  5.0|   FL|Shopping, Paddleb...|[Shopping, Paddle...|  shopping|I saw the great r...|[i, saw, the, gre...|[saw, great, revi...|[saw, great, revi...|(168261,[2,7,31,3...|[0.00314248575887...|\n",
            "|12900 Walsingham Rd|{null, null, null...|-6RKk3sSh-PWB8VBf...|Shopping  Paddleb...|         Largo|{10:0-19:0, 10:0-...|      1|    27.879864|   -82.8171901|    Watersports West|      33774|          17|  5.0|   FL|Shopping, Paddleb...|[Shopping, Paddle...|  shopping|Stopped in on a w...|[stopped, in, on,...|[stopped, whim., ...|[stopped, whim, s...|(168261,[14,27,39...|[0.00274867447850...|\n",
            "|12900 Walsingham Rd|{null, null, null...|-6RKk3sSh-PWB8VBf...|Shopping  Paddleb...|         Largo|{10:0-19:0, 10:0-...|      1|    27.879864|   -82.8171901|    Watersports West|      33774|          17|  5.0|   FL|Shopping, Paddleb...|[Shopping, Paddle...|  shopping|Awesome guys and ...|[awesome, guys, a...|[awesome, guys, g...|[awesome, guys, g...|(168261,[0,7,10,1...|[0.00175745465083...|\n",
            "|12900 Walsingham Rd|{null, null, null...|-6RKk3sSh-PWB8VBf...|Shopping  Paddleb...|         Largo|{10:0-19:0, 10:0-...|      1|    27.879864|   -82.8171901|    Watersports West|      33774|          17|  5.0|   FL|Shopping, Paddleb...|[Shopping, Paddle...|  shopping|These guys are am...|[these, guys, are...|[guys, amazing!, ...|[guys, amazing, c...|(168261,[0,2,4,7,...|[6.05372116003169...|\n",
            "|12900 Walsingham Rd|{null, null, null...|-6RKk3sSh-PWB8VBf...|Shopping  Paddleb...|         Largo|{10:0-19:0, 10:0-...|      1|    27.879864|   -82.8171901|    Watersports West|      33774|          17|  5.0|   FL|Shopping, Paddleb...|[Shopping, Paddle...|  shopping|Bought a 10ft pad...|[bought, a, 10ft,...|[bought, 10ft, pa...|[bought, ft, padd...|(168261,[0,1,2,4,...|[0.00105803998185...|\n",
            "|12900 Walsingham Rd|{null, null, null...|-6RKk3sSh-PWB8VBf...|Shopping  Paddleb...|         Largo|{10:0-19:0, 10:0-...|      1|    27.879864|   -82.8171901|    Watersports West|      33774|          17|  5.0|   FL|Shopping, Paddleb...|[Shopping, Paddle...|  shopping|Love this place! ...|[love, this, plac...|[love, place!, te...|[love, place, tea...|(168261,[7,16,22,...|[0.00293258681567...|\n",
            "|12900 Walsingham Rd|{null, null, null...|-6RKk3sSh-PWB8VBf...|Shopping  Paddleb...|         Largo|{10:0-19:0, 10:0-...|      1|    27.879864|   -82.8171901|    Watersports West|      33774|          17|  5.0|   FL|Shopping, Paddleb...|[Shopping, Paddle...|  shopping|I've lived in thi...|[i've, lived, in,...|[lived, area, 20+...|[lived, area, , y...|(168261,[0,6,7,10...|[0.00154130635117...|\n",
            "|12900 Walsingham Rd|{null, null, null...|-6RKk3sSh-PWB8VBf...|Shopping  Paddleb...|         Largo|{10:0-19:0, 10:0-...|      1|    27.879864|   -82.8171901|    Watersports West|      33774|          17|  5.0|   FL|Shopping, Paddleb...|[Shopping, Paddle...|  shopping|I stopped here to...|[i, stopped, here...|[stopped, price, ...|[stopped, price, ...|(168261,[0,1,3,6,...|[6.36071973330052...|\n",
            "|12900 Walsingham Rd|{null, null, null...|-6RKk3sSh-PWB8VBf...|Shopping  Paddleb...|         Largo|{10:0-19:0, 10:0-...|      1|    27.879864|   -82.8171901|    Watersports West|      33774|          17|  5.0|   FL|Shopping, Paddleb...|[Shopping, Paddle...|  shopping|if you are intere...|[if, you, are, in...|[interested, stan...|[interested, stan...|(168261,[0,2,7,9,...|[0.00258655993445...|\n",
            "|12900 Walsingham Rd|{null, null, null...|-6RKk3sSh-PWB8VBf...|Shopping  Paddleb...|         Largo|{10:0-19:0, 10:0-...|      1|    27.879864|   -82.8171901|    Watersports West|      33774|          17|  5.0|   FL|Shopping, Paddleb...|[Shopping, Paddle...|  shopping|Knowledgeable fri...|[knowledgeable, f...|[knowledgeable, f...|[knowledgeable, f...|(168261,[2,5,14,2...|[0.00419420583652...|\n",
            "|12900 Walsingham Rd|{null, null, null...|-6RKk3sSh-PWB8VBf...|Shopping  Paddleb...|         Largo|{10:0-19:0, 10:0-...|      1|    27.879864|   -82.8171901|    Watersports West|      33774|          17|  5.0|   FL|Shopping, Paddleb...|[Shopping, Paddle...|  shopping|If you want to su...|[if, you, want, t...|[want, support, 3...|[want, support, r...|(168261,[0,5,7,10...|[7.25528228836360...|\n",
            "|12900 Walsingham Rd|{null, null, null...|-6RKk3sSh-PWB8VBf...|Shopping  Paddleb...|         Largo|{10:0-19:0, 10:0-...|      1|    27.879864|   -82.8171901|    Watersports West|      33774|          17|  5.0|   FL|Shopping, Paddleb...|[Shopping, Paddle...|  shopping|If you need a kay...|[if, you, need, a...|[need, kayak,, pa...|[need, kayak, pad...|(168261,[0,1,2,5,...|[0.00225422339384...|\n",
            "|12900 Walsingham Rd|{null, null, null...|-6RKk3sSh-PWB8VBf...|Shopping  Paddleb...|         Largo|{10:0-19:0, 10:0-...|      1|    27.879864|   -82.8171901|    Watersports West|      33774|          17|  5.0|   FL|Shopping, Paddleb...|[Shopping, Paddle...|  shopping|Bought a SUP from...|[bought, a, sup, ...|[bought, sup, wee...|[bought, sup, wee...|(168261,[10,14,44...|[0.00551187306981...|\n",
            "|12900 Walsingham Rd|{null, null, null...|-6RKk3sSh-PWB8VBf...|Shopping  Paddleb...|         Largo|{10:0-19:0, 10:0-...|      1|    27.879864|   -82.8171901|    Watersports West|      33774|          17|  5.0|   FL|Shopping, Paddleb...|[Shopping, Paddle...|  shopping|Absolutely amazin...|[absolutely, amaz...|[absolutely, amaz...|[absolutely, amaz...|(168261,[0,2,4,7,...|[0.00219774418697...|\n",
            "+-------------------+--------------------+--------------------+--------------------+--------------+--------------------+-------+-------------+--------------+--------------------+-----------+------------+-----+-----+--------------------+--------------------+----------+--------------------+--------------------+--------------------+--------------------+--------------------+--------------------+\n",
            "only showing top 20 rows\n",
            "\n"
          ]
        }
      ]
    },
    {
      "cell_type": "code",
      "source": [
        "topics = lda_model.describeTopics(10)"
      ],
      "metadata": {
        "id": "bYKwO4EBtR2i"
      },
      "execution_count": 89,
      "outputs": []
    },
    {
      "cell_type": "code",
      "source": [
        "topics"
      ],
      "metadata": {
        "colab": {
          "base_uri": "https://localhost:8080/"
        },
        "id": "-gcGGaMPtRzy",
        "outputId": "281d19da-2e76-4c5a-d7db-979bcac277c1"
      },
      "execution_count": 91,
      "outputs": [
        {
          "output_type": "execute_result",
          "data": {
            "text/plain": [
              "DataFrame[topic: int, termIndices: array<int>, termWeights: array<double>]"
            ]
          },
          "metadata": {},
          "execution_count": 91
        }
      ]
    },
    {
      "cell_type": "code",
      "source": [
        "for topic in topics.collect():\n",
        "    print(\"Topic {}: \".format(topic.topic))\n",
        "    for word, weight in zip(topic.termIndices, topic.termWeights):\n",
        "        print(\" - {}: {}\".format(vectorizer_model.vocabulary[word], weight))\n",
        "    print()"
      ],
      "metadata": {
        "colab": {
          "base_uri": "https://localhost:8080/"
        },
        "id": "UfI6y3VWtRw_",
        "outputId": "2d2a4fe6-6f3c-4855-a0fc-94ed1c302e2e"
      },
      "execution_count": 104,
      "outputs": [
        {
          "output_type": "stream",
          "name": "stdout",
          "text": [
            "Topic 0: \n",
            " - : 0.0014947439443128744\n",
            " - place: 0.0014913277917727211\n",
            " - great: 0.0012873039759426228\n",
            " - back: 0.0011184240555501797\n",
            " - get: 0.0008713269100791544\n",
            " - also: 0.0008028427365718183\n",
            " - time: 0.0007951014124523381\n",
            " - best: 0.0007659708030150886\n",
            " - store: 0.0007042203400019399\n",
            " - service: 0.0006236725642221961\n",
            "\n",
            "Topic 1: \n",
            " - : 0.005350026433013486\n",
            " - great: 0.0018834283219184432\n",
            " - store: 0.0016740822039338727\n",
            " - one: 0.0010544912125700857\n",
            " - service: 0.0010368628536656075\n",
            " - back: 0.0009093004362294298\n",
            " - go: 0.0008797801863030089\n",
            " - time: 0.0008213290658052278\n",
            " - never: 0.0008039455915787591\n",
            " - get: 0.0008026425243594067\n",
            "\n",
            "Topic 2: \n",
            " - : 0.022138042576138665\n",
            " - store: 0.009255051868352796\n",
            " - great: 0.00648750025527424\n",
            " - one: 0.006066325863964728\n",
            " - time: 0.0059296627322831565\n",
            " - get: 0.005903071302096072\n",
            " - like: 0.005610445516004703\n",
            " - place: 0.0054136872147052964\n",
            " - back: 0.005177181023180028\n",
            " - service: 0.0044592109010215515\n",
            "\n",
            "Topic 3: \n",
            " - : 0.0023127994245323727\n",
            " - store: 0.0014012504990344515\n",
            " - time: 0.0010172129934597058\n",
            " - great: 0.0009764390205393854\n",
            " - shop: 0.0009506626605034098\n",
            " - place: 0.0008986011132845037\n",
            " - get: 0.0008845797592702742\n",
            " - go: 0.0007032839135619816\n",
            " - back: 0.0006935642015727739\n",
            " - like: 0.0006895869172141268\n",
            "\n",
            "Topic 4: \n",
            " - : 0.00297990176452398\n",
            " - store: 0.0019775847757173676\n",
            " - one: 0.0016895406125190843\n",
            " - like: 0.0015638779790542023\n",
            " - great: 0.001308370247462054\n",
            " - good: 0.0012343954374463874\n",
            " - time: 0.001227805000077964\n",
            " - place: 0.0011666202478678442\n",
            " - back: 0.0011569382237959364\n",
            " - selection: 0.0009729632606596098\n",
            "\n",
            "Topic 5: \n",
            " - : 0.004941543899938001\n",
            " - get: 0.001735005558520777\n",
            " - store: 0.0015379436451370817\n",
            " - one: 0.001322058647606826\n",
            " - service: 0.0013075244832073862\n",
            " - customer: 0.0011089155848238667\n",
            " - place: 0.0011008476605911593\n",
            " - it: 0.0010112307910175161\n",
            " - back: 0.0009697900994367215\n",
            " - time: 0.0009540164233950107\n",
            "\n",
            "Topic 6: \n",
            " - : 0.00459993627892328\n",
            " - store: 0.0020175557335689637\n",
            " - back: 0.0013223947529525854\n",
            " - service: 0.0012894321976675755\n",
            " - great: 0.0012613939345590258\n",
            " - one: 0.0012396532912848333\n",
            " - get: 0.001151205926693719\n",
            " - good: 0.0009659847105309936\n",
            " - place: 0.0009617410051323822\n",
            " - time: 0.0009502751933029955\n",
            "\n",
            "Topic 7: \n",
            " - store: 0.002322806000871798\n",
            " - : 0.0018671171610479293\n",
            " - one: 0.0011046512962904083\n",
            " - always: 0.001096203981770005\n",
            " - like: 0.0010516348081219332\n",
            " - place: 0.0010472706722175573\n",
            " - time: 0.0009800642270071111\n",
            " - great: 0.0009606446203848095\n",
            " - items: 0.0008945926139927958\n",
            " - staff: 0.0008779220879334952\n",
            "\n",
            "Topic 8: \n",
            " - : 0.0017278169384254138\n",
            " - store: 0.0012474559274340484\n",
            " - place: 0.0011417051447444955\n",
            " - time: 0.0010609203513172606\n",
            " - like: 0.0009747909653376521\n",
            " - great: 0.0008448889699078589\n",
            " - really: 0.0007343165121545292\n",
            " - one: 0.000711557855745952\n",
            " - go: 0.0006661456302054974\n",
            " - back: 0.0006429796685727291\n",
            "\n",
            "Topic 9: \n",
            " - : 0.007045950011461225\n",
            " - store: 0.0019665614371692907\n",
            " - get: 0.0016590361813091472\n",
            " - time: 0.001385351997608667\n",
            " - one: 0.00135701258879146\n",
            " - back: 0.0011655196953153804\n",
            " - like: 0.0010191449991792843\n",
            " - go: 0.0009855356351603085\n",
            " - great: 0.000919384883126424\n",
            " - good: 0.0008886042110668422\n",
            "\n"
          ]
        }
      ]
    },
    {
      "cell_type": "code",
      "source": [
        "vectorizer_model.vocabulary"
      ],
      "metadata": {
        "colab": {
          "base_uri": "https://localhost:8080/"
        },
        "id": "d7bqk2pFtRuo",
        "outputId": "4df39228-8361-4983-ace3-2a427c1ef36a"
      },
      "execution_count": 103,
      "outputs": [
        {
          "output_type": "execute_result",
          "data": {
            "text/plain": [
              "['',\n",
              " 'store',\n",
              " 'great',\n",
              " 'one',\n",
              " 'time',\n",
              " 'get',\n",
              " 'like',\n",
              " 'place',\n",
              " 'back',\n",
              " 'service',\n",
              " 'go',\n",
              " 'good',\n",
              " 'even',\n",
              " 'really',\n",
              " 'staff',\n",
              " 'also',\n",
              " 'new',\n",
              " 'find',\n",
              " 'customer',\n",
              " 'shop',\n",
              " 'went',\n",
              " 'never',\n",
              " 'love',\n",
              " 'always',\n",
              " 'experience',\n",
              " 'it',\n",
              " 'well',\n",
              " 'told',\n",
              " 'nice',\n",
              " 'selection',\n",
              " 'said',\n",
              " 'got',\n",
              " 'us',\n",
              " 'first',\n",
              " 'friendly',\n",
              " 'know',\n",
              " 'looking',\n",
              " 'items',\n",
              " 'people',\n",
              " 'make',\n",
              " 'day',\n",
              " 'helpful',\n",
              " 'going',\n",
              " 'much',\n",
              " 'made',\n",
              " 'see',\n",
              " 'best',\n",
              " 'me',\n",
              " 'prices',\n",
              " 'help',\n",
              " 'buy',\n",
              " 'around',\n",
              " 'need',\n",
              " 'here',\n",
              " 'way',\n",
              " 'want',\n",
              " 'found',\n",
              " 'little',\n",
              " 'work',\n",
              " 'two',\n",
              " 'look',\n",
              " 'something',\n",
              " 'come',\n",
              " 'price',\n",
              " 'right',\n",
              " 'take',\n",
              " 'asked',\n",
              " 'many',\n",
              " 'recommend',\n",
              " 'still',\n",
              " 'wanted',\n",
              " 'things',\n",
              " 'everything',\n",
              " 'sure',\n",
              " 'definitely',\n",
              " 'came',\n",
              " 'location',\n",
              " 'called',\n",
              " 'another',\n",
              " 'every',\n",
              " 'business',\n",
              " 'years',\n",
              " 'lot',\n",
              " 'dress',\n",
              " 'say',\n",
              " 'stores',\n",
              " 'order',\n",
              " 'home',\n",
              " 'ever',\n",
              " 'give',\n",
              " 'since',\n",
              " 'better',\n",
              " 'took',\n",
              " 'feel',\n",
              " 'amazing',\n",
              " 'hair',\n",
              " 'call',\n",
              " 'shopping',\n",
              " 'needed',\n",
              " 'try',\n",
              " 'bought',\n",
              " 'think',\n",
              " 'anything',\n",
              " 'stuff',\n",
              " 'check',\n",
              " 'sales',\n",
              " 'there',\n",
              " 'quality',\n",
              " 'pretty',\n",
              " 'furniture',\n",
              " 'area',\n",
              " 'next',\n",
              " 'last',\n",
              " 'times',\n",
              " 'purchase',\n",
              " 'different',\n",
              " 'money',\n",
              " 'them',\n",
              " 'super',\n",
              " 'used',\n",
              " 'minutes',\n",
              " 'shoes',\n",
              " 'left',\n",
              " 'out',\n",
              " 'products',\n",
              " 'visit',\n",
              " 'again',\n",
              " 'clothes',\n",
              " 'in',\n",
              " 'long',\n",
              " 'walked',\n",
              " 'old',\n",
              " 'owner',\n",
              " 'manager',\n",
              " 'getting',\n",
              " 'small',\n",
              " 'happy',\n",
              " 'days',\n",
              " 'online',\n",
              " 'you',\n",
              " 'able',\n",
              " 'mall',\n",
              " 'today',\n",
              " 'beautiful',\n",
              " 'wait',\n",
              " 'though',\n",
              " 'big',\n",
              " 'appointment',\n",
              " 'return',\n",
              " 'delivery',\n",
              " 'away',\n",
              " 'glasses',\n",
              " 'someone',\n",
              " 'awesome',\n",
              " 'put',\n",
              " 'employees',\n",
              " 'care',\n",
              " 'customers',\n",
              " 'done',\n",
              " 'kind',\n",
              " 'person',\n",
              " 'phone',\n",
              " 'purchased',\n",
              " 'gave',\n",
              " 'fun',\n",
              " 'bad',\n",
              " 'clean',\n",
              " 'helped',\n",
              " 'use',\n",
              " 'else',\n",
              " 'worth',\n",
              " 'without',\n",
              " 'actually',\n",
              " 'year',\n",
              " 'sale',\n",
              " 'eye',\n",
              " 'pick',\n",
              " 'thing',\n",
              " 'size',\n",
              " 'knowledgeable',\n",
              " 'room',\n",
              " 'rude',\n",
              " 'highly',\n",
              " 'local',\n",
              " 'everyone',\n",
              " 'week',\n",
              " 'ask',\n",
              " 'free',\n",
              " 'pair',\n",
              " 'bit',\n",
              " 'clothing',\n",
              " 'nothing',\n",
              " 'dresses',\n",
              " 'books',\n",
              " 'let',\n",
              " 'later',\n",
              " 'pay',\n",
              " 'several',\n",
              " 'tell',\n",
              " 'however',\n",
              " 'walk',\n",
              " 'enough',\n",
              " 'set',\n",
              " 'cool',\n",
              " 'tried',\n",
              " 'end',\n",
              " 'trying',\n",
              " 'hours',\n",
              " 'that',\n",
              " 'high',\n",
              " 'company',\n",
              " 'weeks',\n",
              " 'felt',\n",
              " 'review',\n",
              " 'extremely',\n",
              " 'line',\n",
              " 'stop',\n",
              " 'thank',\n",
              " 'wedding',\n",
              " 'working',\n",
              " 'looked',\n",
              " 'received',\n",
              " 'front',\n",
              " 'thought',\n",
              " 'too',\n",
              " 'job',\n",
              " 'up',\n",
              " 'perfect',\n",
              " 'coming',\n",
              " 'easy',\n",
              " 'wonderful',\n",
              " 'less',\n",
              " 'buying',\n",
              " 'sell',\n",
              " 'jewelry',\n",
              " 'finally',\n",
              " 'ordered',\n",
              " 'name',\n",
              " 'anyone',\n",
              " 'decided',\n",
              " 'for',\n",
              " 'guy',\n",
              " 'couple',\n",
              " 'huge',\n",
              " 'deal',\n",
              " 'stars',\n",
              " 'keep',\n",
              " 'full',\n",
              " 'absolutely',\n",
              " 'ago',\n",
              " 'months',\n",
              " 'gift',\n",
              " 'item',\n",
              " 'needs',\n",
              " 'lots',\n",
              " 'art',\n",
              " 'fit',\n",
              " 'parking',\n",
              " 'questions',\n",
              " 'pieces',\n",
              " 'product',\n",
              " 'may',\n",
              " 'all',\n",
              " 'open',\n",
              " 'hour',\n",
              " 'cut',\n",
              " 'large',\n",
              " 'almost',\n",
              " 'on',\n",
              " 'professional',\n",
              " 'least',\n",
              " 'lady',\n",
              " 'waiting',\n",
              " 'family',\n",
              " 'probably',\n",
              " 'favorite',\n",
              " 'spend',\n",
              " 'cute',\n",
              " 'guys',\n",
              " 'part',\n",
              " 'far',\n",
              " 'card',\n",
              " 'usually',\n",
              " 'top',\n",
              " 'friend',\n",
              " 'etc',\n",
              " 'whole',\n",
              " 'hard',\n",
              " 'offer',\n",
              " 'problem',\n",
              " 'making',\n",
              " 'saw',\n",
              " 'excellent',\n",
              " 'leave',\n",
              " 'stock',\n",
              " 'reviews',\n",
              " 'wrong',\n",
              " 'book',\n",
              " 'maybe',\n",
              " 'town',\n",
              " 'door',\n",
              " 'three',\n",
              " 'especially',\n",
              " 'friends',\n",
              " 'second',\n",
              " 'point',\n",
              " 'places',\n",
              " 'section',\n",
              " 'quite',\n",
              " 'bike',\n",
              " 'color',\n",
              " 'woman',\n",
              " 'thanks',\n",
              " 'expensive',\n",
              " 'ended',\n",
              " 'unique',\n",
              " 'paid',\n",
              " 'already',\n",
              " 'makes',\n",
              " 'i',\n",
              " 'seen',\n",
              " 'kids',\n",
              " 'husband',\n",
              " 'dr',\n",
              " 'flowers',\n",
              " 'ring',\n",
              " 'house',\n",
              " 'knew',\n",
              " 'salon',\n",
              " 'loved',\n",
              " 'mattress',\n",
              " 'employee',\n",
              " 'spent',\n",
              " 'delivered',\n",
              " 'might',\n",
              " 'shops',\n",
              " 'car',\n",
              " 'brand',\n",
              " 'started',\n",
              " 'variety',\n",
              " 'options',\n",
              " 'wear',\n",
              " 'street',\n",
              " 'credit',\n",
              " 'style',\n",
              " 'plus',\n",
              " 'girl',\n",
              " 'wish',\n",
              " 'now',\n",
              " 'past',\n",
              " 'food',\n",
              " 'reasonable',\n",
              " 'process',\n",
              " 'half',\n",
              " 'instead',\n",
              " 'seems',\n",
              " 'offered',\n",
              " 'city',\n",
              " 'disappointed',\n",
              " 'yes',\n",
              " 'inside',\n",
              " 'seemed',\n",
              " 'seem',\n",
              " 'overall',\n",
              " 'within',\n",
              " 'comfortable',\n",
              " 'picked',\n",
              " 'side',\n",
              " 'available',\n",
              " 'special',\n",
              " 'floor',\n",
              " 'recently',\n",
              " 'trip',\n",
              " 'reason',\n",
              " 'yet',\n",
              " 'life',\n",
              " 'piece',\n",
              " 'busy',\n",
              " 'close',\n",
              " 'entire',\n",
              " 'brought',\n",
              " 'show',\n",
              " 'must',\n",
              " 'office',\n",
              " 'exactly',\n",
              " 'month',\n",
              " 'bring',\n",
              " 'priced',\n",
              " 'stopped',\n",
              " 'live',\n",
              " 'range',\n",
              " 'counter',\n",
              " 'this',\n",
              " 'walking',\n",
              " 'run',\n",
              " 'worst',\n",
              " 'either',\n",
              " 'to',\n",
              " 'frames',\n",
              " 'issue',\n",
              " 'star',\n",
              " 'ready',\n",
              " 'cheap',\n",
              " 'worked',\n",
              " 'completely',\n",
              " 'number',\n",
              " 'and',\n",
              " 'looks',\n",
              " 'cost',\n",
              " 'man',\n",
              " 'quick',\n",
              " 'horrible',\n",
              " 'patient',\n",
              " 'greeted',\n",
              " 'so',\n",
              " 'fantastic',\n",
              " 'behind',\n",
              " 'sent',\n",
              " 'box',\n",
              " 'vintage',\n",
              " 'off',\n",
              " 'space',\n",
              " 'bed',\n",
              " 'soon',\n",
              " 'fact',\n",
              " 'organized',\n",
              " 'carry',\n",
              " 'more',\n",
              " 'night',\n",
              " 'often',\n",
              " 'given',\n",
              " 'running',\n",
              " 'due',\n",
              " 'saying',\n",
              " 'immediately',\n",
              " 'wife',\n",
              " 'extra',\n",
              " 'st',\n",
              " 'course',\n",
              " 'believe',\n",
              " 'helping',\n",
              " 'enjoy',\n",
              " 'beyond',\n",
              " 'spot',\n",
              " 'understand',\n",
              " 'hand',\n",
              " 'talk',\n",
              " 'music',\n",
              " 'oh',\n",
              " 'with',\n",
              " 'mind',\n",
              " 'explained',\n",
              " 'charge',\n",
              " 'start',\n",
              " 'accessories',\n",
              " 'arrived',\n",
              " 'daughter',\n",
              " 'th',\n",
              " 'department',\n",
              " 'taking',\n",
              " 'sold',\n",
              " 'guess',\n",
              " 'others',\n",
              " 'website',\n",
              " 'fine',\n",
              " 'doctor',\n",
              " 'ones',\n",
              " 'showed',\n",
              " 'kept',\n",
              " 'refund',\n",
              " 'not',\n",
              " 'quickly',\n",
              " 'short',\n",
              " 'decent',\n",
              " 'finding',\n",
              " 'exam',\n",
              " 'bag',\n",
              " 'real',\n",
              " 'liked',\n",
              " 'terrible',\n",
              " 'waited',\n",
              " 'expect',\n",
              " 'email',\n",
              " 'ok',\n",
              " 'although',\n",
              " 'outside',\n",
              " 'drive',\n",
              " 'gone',\n",
              " 'class',\n",
              " 'do',\n",
              " 'read',\n",
              " 'works',\n",
              " 'type',\n",
              " 'table',\n",
              " 'rather',\n",
              " 'insurance',\n",
              " 'truly',\n",
              " 'talking',\n",
              " 'face',\n",
              " 'sometimes',\n",
              " 'discount',\n",
              " 'impressed',\n",
              " 'sweet',\n",
              " 'deals',\n",
              " 'please',\n",
              " 'anywhere',\n",
              " 'christmas',\n",
              " 'gifts',\n",
              " 'shoe',\n",
              " 'center',\n",
              " 'issues',\n",
              " 'idea',\n",
              " 'comes',\n",
              " 'is',\n",
              " 'glad',\n",
              " 'elsewhere',\n",
              " 'her',\n",
              " 'plenty',\n",
              " 'totally',\n",
              " 'mom',\n",
              " 'merchandise',\n",
              " 'visited',\n",
              " 'prescription',\n",
              " 'brands',\n",
              " 'collection',\n",
              " 'museum',\n",
              " 'support',\n",
              " 'choose',\n",
              " 'pm',\n",
              " 'poor',\n",
              " 'bridal',\n",
              " 'across',\n",
              " 'hope',\n",
              " 'treated',\n",
              " 'longer',\n",
              " 'pleasant',\n",
              " 'young',\n",
              " 'asking',\n",
              " 'amount',\n",
              " 'heard',\n",
              " 'future',\n",
              " 'contact',\n",
              " 'couch',\n",
              " 'girls',\n",
              " 'change',\n",
              " 'giving',\n",
              " 'no',\n",
              " 'upon',\n",
              " 'ladies',\n",
              " 'hold',\n",
              " 'literally',\n",
              " 'answer',\n",
              " 'taken',\n",
              " 'lost',\n",
              " 'associate',\n",
              " 'head',\n",
              " 'boutique',\n",
              " 'along',\n",
              " 'fair',\n",
              " 'recommended',\n",
              " 'moved',\n",
              " 'stay',\n",
              " 'willing',\n",
              " 'fix',\n",
              " 'happened',\n",
              " 'together',\n",
              " 'multiple',\n",
              " 'twice',\n",
              " 'information',\n",
              " 'exchange',\n",
              " 'fast',\n",
              " 'located',\n",
              " 'including',\n",
              " 'eyes',\n",
              " 'visiting',\n",
              " 'skin',\n",
              " 'cigar',\n",
              " 'date',\n",
              " 'says',\n",
              " 'lovely',\n",
              " 'sign',\n",
              " 'policy',\n",
              " 'did',\n",
              " 's',\n",
              " 'women',\n",
              " 'yelp',\n",
              " 'cash',\n",
              " 'world',\n",
              " 'case',\n",
              " 'unfortunately',\n",
              " 'feeling',\n",
              " 'turned',\n",
              " 'son',\n",
              " 'saturday',\n",
              " 'checked',\n",
              " 'near',\n",
              " 'noticed',\n",
              " 'weekend',\n",
              " 'black',\n",
              " 'register',\n",
              " 'fitting',\n",
              " 'closed',\n",
              " 'attitude',\n",
              " 'toys',\n",
              " 'regular',\n",
              " 'lenses',\n",
              " 'send',\n",
              " 'morning',\n",
              " 'cashier',\n",
              " 'sizes',\n",
              " 'using',\n",
              " 'plants',\n",
              " 'dollars',\n",
              " 'games',\n",
              " 'desk',\n",
              " 'thrift',\n",
              " 'building',\n",
              " 'forward',\n",
              " 'incredibly',\n",
              " 'market',\n",
              " 'plan',\n",
              " 'spoke',\n",
              " 'low',\n",
              " 'retail',\n",
              " 'seriously',\n",
              " 'bar',\n",
              " 'particular',\n",
              " 'purchasing',\n",
              " 'late',\n",
              " 'interesting',\n",
              " 'shipping',\n",
              " 'clearly',\n",
              " 'excited',\n",
              " 'goes',\n",
              " 'supplies',\n",
              " 'knows',\n",
              " 'water',\n",
              " 'appreciate',\n",
              " 'inventory',\n",
              " 'fan',\n",
              " 'wide',\n",
              " 'minute',\n",
              " 'the',\n",
              " 'receive',\n",
              " 'frame',\n",
              " 'surprised',\n",
              " 'gets',\n",
              " 'true',\n",
              " 'nashville',\n",
              " 'contacts',\n",
              " 'returned',\n",
              " 'boots',\n",
              " 'mens',\n",
              " 'remember',\n",
              " 'shirts',\n",
              " 'stylist',\n",
              " 'team',\n",
              " 'budget',\n",
              " 'sorry',\n",
              " 'takes',\n",
              " 'early',\n",
              " 'checking',\n",
              " 'owners',\n",
              " 'glass',\n",
              " 'selling',\n",
              " 'simply',\n",
              " 'hands',\n",
              " 'five',\n",
              " 'styles',\n",
              " 'attention',\n",
              " 'game',\n",
              " 'speak',\n",
              " 'personal',\n",
              " 'opened',\n",
              " 'based',\n",
              " 'specific',\n",
              " 'body',\n",
              " 'watch',\n",
              " 'was',\n",
              " 'receipt',\n",
              " 'paying',\n",
              " 'reno',\n",
              " 'list',\n",
              " 'orleans',\n",
              " 'suit',\n",
              " 'hit',\n",
              " 'cheaper',\n",
              " 'atmosphere',\n",
              " 'philly',\n",
              " 'gotten',\n",
              " 'complete',\n",
              " 'cigars',\n",
              " 'reading',\n",
              " 'gun',\n",
              " 'wearing',\n",
              " 'pricing',\n",
              " 'honestly',\n",
              " 'original',\n",
              " 'higher',\n",
              " 'which',\n",
              " 'browse',\n",
              " 'returning',\n",
              " 'gorgeous',\n",
              " 'mean',\n",
              " 'tampa',\n",
              " 'waste',\n",
              " 'save',\n",
              " 'makeup',\n",
              " 'before',\n",
              " 'vision',\n",
              " 'warranty',\n",
              " 'baby',\n",
              " 'honest',\n",
              " 'massage',\n",
              " 'goods',\n",
              " 'anyway',\n",
              " 'welcoming',\n",
              " 'rooms',\n",
              " 'interested',\n",
              " 'bags',\n",
              " 'total',\n",
              " 'gear',\n",
              " 'treat',\n",
              " 'dollar',\n",
              " 'shirt',\n",
              " 'single',\n",
              " 'answered',\n",
              " 'whatever',\n",
              " 'met',\n",
              " 'possible',\n",
              " 'level',\n",
              " 'rest',\n",
              " 'basically',\n",
              " 'feet',\n",
              " 'miss',\n",
              " 'white',\n",
              " 'situation',\n",
              " 'knowledge',\n",
              " 'overpriced',\n",
              " 'birthday',\n",
              " 'hot',\n",
              " 'enjoyed',\n",
              " 'down',\n",
              " 'but',\n",
              " 'simple',\n",
              " 'designer',\n",
              " 'somewhere',\n",
              " 'system',\n",
              " 'stand',\n",
              " 'expected',\n",
              " 'seeing',\n",
              " 'yesterday',\n",
              " 'four',\n",
              " 'unless',\n",
              " 'affordable',\n",
              " 'coffee',\n",
              " 'services',\n",
              " 'telling',\n",
              " 'question',\n",
              " 'advice',\n",
              " 'pleased',\n",
              " 'record',\n",
              " 'response',\n",
              " 'wow',\n",
              " 'party',\n",
              " 'decor',\n",
              " 'okay',\n",
              " 'mention',\n",
              " 'airport',\n",
              " 'update',\n",
              " 'tons',\n",
              " 'matter',\n",
              " 'add',\n",
              " 'pictures',\n",
              " 'leaving',\n",
              " 'avoid',\n",
              " 'jeans',\n",
              " 'informed',\n",
              " 'sit',\n",
              " 'fabric',\n",
              " 'condition',\n",
              " 'changed',\n",
              " 'chairs',\n",
              " 'display',\n",
              " 'costco',\n",
              " 'friday',\n",
              " 'haircut',\n",
              " 'had',\n",
              " 'park',\n",
              " 'myself',\n",
              " 'him',\n",
              " 'play',\n",
              " 'continue',\n",
              " 'macys',\n",
              " 'rack',\n",
              " 'repair',\n",
              " 'have',\n",
              " 'tattoo',\n",
              " 'from',\n",
              " 'dont',\n",
              " 'fixed',\n",
              " 'calls',\n",
              " 'smaller',\n",
              " 'state',\n",
              " 'charged',\n",
              " 'be',\n",
              " 'certain',\n",
              " 'chair',\n",
              " 'colors',\n",
              " 'purchases',\n",
              " 'school',\n",
              " 'parts',\n",
              " 'associates',\n",
              " 'lines',\n",
              " 'mostly',\n",
              " 'filled',\n",
              " 'experiences',\n",
              " 'incredible',\n",
              " 'pricey',\n",
              " 'tucson',\n",
              " 'afternoon',\n",
              " 'pants',\n",
              " 'lack',\n",
              " 'custom',\n",
              " 'spending',\n",
              " 'event',\n",
              " 'move',\n",
              " 'obviously',\n",
              " 'easily',\n",
              " 'correct',\n",
              " 'picture',\n",
              " 'wall',\n",
              " 'story',\n",
              " 'equipment',\n",
              " 'supposed',\n",
              " 'light',\n",
              " 'negative',\n",
              " 'talked',\n",
              " 'artist',\n",
              " 'artists',\n",
              " 'clear',\n",
              " 'main',\n",
              " 'calling',\n",
              " 'hardware',\n",
              " 'crazy',\n",
              " 'apparently',\n",
              " 'throughout',\n",
              " 'turn',\n",
              " 'placed',\n",
              " 'problems',\n",
              " 'folks',\n",
              " 'classes',\n",
              " 'records',\n",
              " 'locations',\n",
              " 'forever',\n",
              " 'pairs',\n",
              " 'pushy',\n",
              " 'cards',\n",
              " 'explain',\n",
              " 'positive',\n",
              " 'ordering',\n",
              " 'older',\n",
              " 'garden',\n",
              " 'value',\n",
              " 'im',\n",
              " 'broken',\n",
              " 'note',\n",
              " 'chance',\n",
              " 'bunch',\n",
              " 'mother',\n",
              " 'happen',\n",
              " 'conversation',\n",
              " 'hear',\n",
              " 'certainly',\n",
              " 'ashley',\n",
              " 'racks',\n",
              " 'limited',\n",
              " 'foot',\n",
              " 'important',\n",
              " 'trust',\n",
              " 'thinking',\n",
              " 'gem',\n",
              " 'experienced',\n",
              " 'follow',\n",
              " 'a',\n",
              " 'option',\n",
              " 'awful',\n",
              " 'hate',\n",
              " 'deliver',\n",
              " 'group',\n",
              " 'zero',\n",
              " 'antique',\n",
              " 'fee',\n",
              " 'leather',\n",
              " 'schedule',\n",
              " 'sister',\n",
              " 'warehouse',\n",
              " 'refused',\n",
              " 'pressure',\n",
              " 'south',\n",
              " 'write',\n",
              " 'salesman',\n",
              " 'sense',\n",
              " 'opinion',\n",
              " 'step',\n",
              " 'dressing',\n",
              " 'provided',\n",
              " 'design',\n",
              " 'living',\n",
              " 'bikes',\n",
              " 'general',\n",
              " 'kitchen',\n",
              " 'difficult',\n",
              " 'provide',\n",
              " 'management',\n",
              " 'empty',\n",
              " 'addition',\n",
              " 'similar',\n",
              " 'choice',\n",
              " 'anymore',\n",
              " 'convenient',\n",
              " 'of',\n",
              " 'gallery',\n",
              " 'scheduled',\n",
              " 'shipped',\n",
              " 'tour',\n",
              " 'covid',\n",
              " 'clearance',\n",
              " 'vinyl',\n",
              " 'santa',\n",
              " 'dog',\n",
              " 'mistake',\n",
              " 'sofa',\n",
              " 'word',\n",
              " 'sort',\n",
              " 'mentioned',\n",
              " 'chain',\n",
              " 'window',\n",
              " 'unprofessional',\n",
              " 'sitting',\n",
              " 'sunday',\n",
              " 'standing',\n",
              " 'fabulous',\n",
              " 'men',\n",
              " 'fairly',\n",
              " 'downtown',\n",
              " 'philadelphia',\n",
              " 'fresh',\n",
              " 'arrangement',\n",
              " 'moment',\n",
              " 'bookstore',\n",
              " 'member',\n",
              " 'previous',\n",
              " 'coupon',\n",
              " 'sad',\n",
              " 'touch',\n",
              " 'none',\n",
              " 'bride',\n",
              " 'about',\n",
              " 'whether',\n",
              " 'mine',\n",
              " 'additional',\n",
              " 'then',\n",
              " 'ahead',\n",
              " 'break',\n",
              " 'middle',\n",
              " 'stated',\n",
              " 'appreciated',\n",
              " 'compared',\n",
              " 'red',\n",
              " 'at',\n",
              " 'fashion',\n",
              " 'browsing',\n",
              " 'figure',\n",
              " 'tire',\n",
              " 'shopped',\n",
              " 'despite',\n",
              " 'larger',\n",
              " 'boyfriend',\n",
              " 'lol',\n",
              " 'attentive',\n",
              " 'beauty',\n",
              " 'actual',\n",
              " 'smoke',\n",
              " 'modern',\n",
              " 'assistance',\n",
              " 'vape',\n",
              " 'realized',\n",
              " 'warm',\n",
              " 'workers',\n",
              " 'prior',\n",
              " 'stocked',\n",
              " 'owned',\n",
              " 'missing',\n",
              " 'ridiculous',\n",
              " 'chose',\n",
              " 'target',\n",
              " 'considering',\n",
              " 'various',\n",
              " 'spa',\n",
              " ...]"
            ]
          },
          "metadata": {},
          "execution_count": 103
        }
      ]
    }
  ]
}